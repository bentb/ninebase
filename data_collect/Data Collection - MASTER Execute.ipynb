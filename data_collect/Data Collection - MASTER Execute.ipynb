{
 "cells": [
  {
   "cell_type": "markdown",
   "id": "2126271a",
   "metadata": {},
   "source": [
    "# Execute All Data Collection"
   ]
  },
  {
   "cell_type": "code",
   "execution_count": 1,
   "id": "d972e850",
   "metadata": {},
   "outputs": [],
   "source": [
    "# According to each Data Collection script, the files are being stored in a \n",
    "# local drive and then with another file we are pushing the new files to GCS"
   ]
  },
  {
   "cell_type": "code",
   "execution_count": 2,
   "id": "696edca9",
   "metadata": {},
   "outputs": [],
   "source": [
    "import subprocess\n",
    "import os"
   ]
  },
  {
   "cell_type": "code",
   "execution_count": 3,
   "id": "94ed2677",
   "metadata": {},
   "outputs": [],
   "source": [
    "def execute_notebook(notebook_path):\n",
    "    subprocess.check_call(['jupyter', 'nbconvert', '--execute', '--inplace', notebook_path])"
   ]
  },
  {
   "cell_type": "code",
   "execution_count": 4,
   "id": "b8fa8be8",
   "metadata": {},
   "outputs": [],
   "source": [
    "notebooks = [\n",
    "    'C:/Users/b7tbu/JUPYTER PROJECTS/ANALYTICO/Data_Collection/Data Collection - Player Batting (14 Day).ipynb',\n",
    "    'C:/Users/b7tbu/JUPYTER PROJECTS/ANALYTICO/Data_Collection/Data Collection - Player Batting (Season).ipynb',\n",
    "    'C:/Users/b7tbu/JUPYTER PROJECTS/ANALYTICO/Data_Collection/Data Collection - Player Pitching (14 Day).ipynb',\n",
    "    'C:/Users/b7tbu/JUPYTER PROJECTS/ANALYTICO/Data_Collection/Data Collection - Team Batting (Annual).ipynb',\n",
    "    'C:/Users/b7tbu/JUPYTER PROJECTS/ANALYTICO/Data_Collection/Data Collection - Team Fielding (Annual).ipynb',\n",
    "    'C:/Users/b7tbu/JUPYTER PROJECTS/ANALYTICO/Data_Collection/Data Collection - Team Pitching (Annual).ipynb'    \n",
    "]"
   ]
  },
  {
   "cell_type": "code",
   "execution_count": 5,
   "id": "73b94016",
   "metadata": {},
   "outputs": [],
   "source": [
    "for notebook in notebooks:\n",
    "    execute_notebook(notebook)"
   ]
  },
  {
   "cell_type": "code",
   "execution_count": null,
   "id": "381b41d2",
   "metadata": {},
   "outputs": [],
   "source": []
  }
 ],
 "metadata": {
  "kernelspec": {
   "display_name": "Python 3 (ipykernel)",
   "language": "python",
   "name": "python3"
  },
  "language_info": {
   "codemirror_mode": {
    "name": "ipython",
    "version": 3
   },
   "file_extension": ".py",
   "mimetype": "text/x-python",
   "name": "python",
   "nbconvert_exporter": "python",
   "pygments_lexer": "ipython3",
   "version": "3.10.9"
  }
 },
 "nbformat": 4,
 "nbformat_minor": 5
}
