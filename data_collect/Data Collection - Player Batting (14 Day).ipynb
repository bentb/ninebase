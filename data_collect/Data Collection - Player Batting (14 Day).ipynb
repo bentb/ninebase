{
 "cells": [
  {
   "cell_type": "markdown",
   "id": "65491295",
   "metadata": {},
   "source": [
    "## Hello World"
   ]
  },
  {
   "cell_type": "markdown",
   "id": "7673094b",
   "metadata": {},
   "source": [
    "Sources:\n",
    "https://github.com/jldbc/pybaseball\n",
    "https://www.kaggle.com/code/weslayton/fangraphs-baseball-scraper-analysis"
   ]
  },
  {
   "cell_type": "code",
   "execution_count": 1,
   "id": "6e016576",
   "metadata": {
    "execution": {
     "iopub.execute_input": "2023-06-15T00:54:17.132885Z",
     "iopub.status.busy": "2023-06-15T00:54:17.132885Z",
     "iopub.status.idle": "2023-06-15T00:54:18.684695Z",
     "shell.execute_reply": "2023-06-15T00:54:18.684695Z"
    }
   },
   "outputs": [],
   "source": [
    "#import general libraries\n",
    "import numpy as np\n",
    "import pandas as pd\n",
    "\n",
    "pd.set_option(\"display.precision\", 2)\n",
    "pd.set_option('display.max_rows', 200)\n",
    "pd.set_option('display.max_columns', 200)\n",
    "pd.set_option('display.float_format', lambda x: '%.5f' % x)\n",
    "\n",
    "from scipy import stats\n",
    "import seaborn as sns\n",
    "\n",
    "import matplotlib.pyplot as plt\n",
    "%matplotlib inline\n",
    "plt.style.use('bmh')"
   ]
  },
  {
   "cell_type": "code",
   "execution_count": 2,
   "id": "3f6697a4",
   "metadata": {
    "execution": {
     "iopub.execute_input": "2023-06-15T00:54:18.686708Z",
     "iopub.status.busy": "2023-06-15T00:54:18.686708Z",
     "iopub.status.idle": "2023-06-15T00:54:22.448049Z",
     "shell.execute_reply": "2023-06-15T00:54:22.448049Z"
    }
   },
   "outputs": [
    {
     "name": "stdout",
     "output_type": "stream",
     "text": [
      "Requirement already satisfied: pybaseball in c:\\users\\b7tbu\\anaconda3\\lib\\site-packages (2.2.5)\n",
      "Requirement already satisfied: lxml>=4.2.1 in c:\\users\\b7tbu\\anaconda3\\lib\\site-packages (from pybaseball) (4.9.1)\n",
      "Requirement already satisfied: tqdm>=4.50.0 in c:\\users\\b7tbu\\anaconda3\\lib\\site-packages (from pybaseball) (4.64.1)\n",
      "Requirement already satisfied: attrs>=20.3.0 in c:\\users\\b7tbu\\anaconda3\\lib\\site-packages (from pybaseball) (22.1.0)\n",
      "Requirement already satisfied: requests>=2.18.1 in c:\\users\\b7tbu\\anaconda3\\lib\\site-packages (from pybaseball) (2.28.1)\n",
      "Requirement already satisfied: pygithub>=1.51 in c:\\users\\b7tbu\\anaconda3\\lib\\site-packages (from pybaseball) (1.58.2)\n",
      "Requirement already satisfied: matplotlib>=2.0.0 in c:\\users\\b7tbu\\anaconda3\\lib\\site-packages (from pybaseball) (3.7.0)\n",
      "Requirement already satisfied: scipy>=1.4.0 in c:\\users\\b7tbu\\anaconda3\\lib\\site-packages (from pybaseball) (1.10.0)\n",
      "Requirement already satisfied: pandas>=1.0.3 in c:\\users\\b7tbu\\anaconda3\\lib\\site-packages (from pybaseball) (1.5.3)\n",
      "Requirement already satisfied: pyarrow>=1.0.1 in c:\\users\\b7tbu\\anaconda3\\lib\\site-packages (from pybaseball) (12.0.0)\n",
      "Requirement already satisfied: beautifulsoup4>=4.4.0 in c:\\users\\b7tbu\\anaconda3\\lib\\site-packages (from pybaseball) (4.11.1)\n",
      "Requirement already satisfied: numpy>=1.13.0 in c:\\users\\b7tbu\\anaconda3\\lib\\site-packages (from pybaseball) (1.23.5)\n",
      "Requirement already satisfied: soupsieve>1.2 in c:\\users\\b7tbu\\anaconda3\\lib\\site-packages (from beautifulsoup4>=4.4.0->pybaseball) (2.3.2.post1)\n",
      "Requirement already satisfied: pillow>=6.2.0 in c:\\users\\b7tbu\\anaconda3\\lib\\site-packages (from matplotlib>=2.0.0->pybaseball) (9.4.0)\n",
      "Requirement already satisfied: packaging>=20.0 in c:\\users\\b7tbu\\anaconda3\\lib\\site-packages (from matplotlib>=2.0.0->pybaseball) (22.0)\n",
      "Requirement already satisfied: pyparsing>=2.3.1 in c:\\users\\b7tbu\\anaconda3\\lib\\site-packages (from matplotlib>=2.0.0->pybaseball) (3.0.9)\n",
      "Requirement already satisfied: cycler>=0.10 in c:\\users\\b7tbu\\anaconda3\\lib\\site-packages (from matplotlib>=2.0.0->pybaseball) (0.11.0)\n",
      "Requirement already satisfied: kiwisolver>=1.0.1 in c:\\users\\b7tbu\\anaconda3\\lib\\site-packages (from matplotlib>=2.0.0->pybaseball) (1.4.4)\n",
      "Requirement already satisfied: python-dateutil>=2.7 in c:\\users\\b7tbu\\anaconda3\\lib\\site-packages (from matplotlib>=2.0.0->pybaseball) (2.8.2)\n",
      "Requirement already satisfied: fonttools>=4.22.0 in c:\\users\\b7tbu\\anaconda3\\lib\\site-packages (from matplotlib>=2.0.0->pybaseball) (4.25.0)\n",
      "Requirement already satisfied: contourpy>=1.0.1 in c:\\users\\b7tbu\\anaconda3\\lib\\site-packages (from matplotlib>=2.0.0->pybaseball) (1.0.5)\n",
      "Requirement already satisfied: pytz>=2020.1 in c:\\users\\b7tbu\\anaconda3\\lib\\site-packages (from pandas>=1.0.3->pybaseball) (2022.7)\n",
      "Requirement already satisfied: pynacl>=1.4.0 in c:\\users\\b7tbu\\anaconda3\\lib\\site-packages (from pygithub>=1.51->pybaseball) (1.5.0)\n",
      "Requirement already satisfied: pyjwt[crypto]>=2.4.0 in c:\\users\\b7tbu\\anaconda3\\lib\\site-packages (from pygithub>=1.51->pybaseball) (2.4.0)\n",
      "Requirement already satisfied: deprecated in c:\\users\\b7tbu\\anaconda3\\lib\\site-packages (from pygithub>=1.51->pybaseball) (1.2.14)\n",
      "Requirement already satisfied: idna<4,>=2.5 in c:\\users\\b7tbu\\anaconda3\\lib\\site-packages (from requests>=2.18.1->pybaseball) (3.4)\n",
      "Requirement already satisfied: urllib3<1.27,>=1.21.1 in c:\\users\\b7tbu\\anaconda3\\lib\\site-packages (from requests>=2.18.1->pybaseball) (1.26.14)\n",
      "Requirement already satisfied: charset-normalizer<3,>=2 in c:\\users\\b7tbu\\anaconda3\\lib\\site-packages (from requests>=2.18.1->pybaseball) (2.0.4)\n",
      "Requirement already satisfied: certifi>=2017.4.17 in c:\\users\\b7tbu\\anaconda3\\lib\\site-packages (from requests>=2.18.1->pybaseball) (2022.12.7)\n",
      "Requirement already satisfied: colorama in c:\\users\\b7tbu\\anaconda3\\lib\\site-packages (from tqdm>=4.50.0->pybaseball) (0.4.6)\n",
      "Requirement already satisfied: cryptography>=3.3.1 in c:\\users\\b7tbu\\anaconda3\\lib\\site-packages (from pyjwt[crypto]>=2.4.0->pygithub>=1.51->pybaseball) (39.0.1)\n",
      "Requirement already satisfied: cffi>=1.4.1 in c:\\users\\b7tbu\\anaconda3\\lib\\site-packages (from pynacl>=1.4.0->pygithub>=1.51->pybaseball) (1.15.1)\n",
      "Requirement already satisfied: six>=1.5 in c:\\users\\b7tbu\\anaconda3\\lib\\site-packages (from python-dateutil>=2.7->matplotlib>=2.0.0->pybaseball) (1.16.0)\n",
      "Requirement already satisfied: wrapt<2,>=1.10 in c:\\users\\b7tbu\\anaconda3\\lib\\site-packages (from deprecated->pygithub>=1.51->pybaseball) (1.14.1)\n",
      "Requirement already satisfied: pycparser in c:\\users\\b7tbu\\anaconda3\\lib\\site-packages (from cffi>=1.4.1->pynacl>=1.4.0->pygithub>=1.51->pybaseball) (2.21)\n"
     ]
    }
   ],
   "source": [
    "#install latest pybaseball\n",
    "!pip install --upgrade pybaseball"
   ]
  },
  {
   "cell_type": "code",
   "execution_count": 3,
   "id": "bc1a0223",
   "metadata": {
    "execution": {
     "iopub.execute_input": "2023-06-15T00:54:22.450051Z",
     "iopub.status.busy": "2023-06-15T00:54:22.450051Z",
     "iopub.status.idle": "2023-06-15T00:54:22.871971Z",
     "shell.execute_reply": "2023-06-15T00:54:22.871971Z"
    }
   },
   "outputs": [],
   "source": [
    "#import data sources\n",
    "import pybaseball"
   ]
  },
  {
   "cell_type": "code",
   "execution_count": 4,
   "id": "21e37a7d",
   "metadata": {
    "execution": {
     "iopub.execute_input": "2023-06-15T00:54:22.873984Z",
     "iopub.status.busy": "2023-06-15T00:54:22.873984Z",
     "iopub.status.idle": "2023-06-15T00:54:22.888139Z",
     "shell.execute_reply": "2023-06-15T00:54:22.888139Z"
    }
   },
   "outputs": [],
   "source": [
    "from pybaseball import batting_stats_range"
   ]
  },
  {
   "cell_type": "markdown",
   "id": "a4c201f5",
   "metadata": {},
   "source": [
    "## Collect Data"
   ]
  },
  {
   "cell_type": "markdown",
   "id": "a931c81d",
   "metadata": {},
   "source": [
    "### 14 Day Data"
   ]
  },
  {
   "cell_type": "code",
   "execution_count": 5,
   "id": "37e9cc7a",
   "metadata": {
    "execution": {
     "iopub.execute_input": "2023-06-15T00:54:22.890141Z",
     "iopub.status.busy": "2023-06-15T00:54:22.890141Z",
     "iopub.status.idle": "2023-06-15T00:54:22.918851Z",
     "shell.execute_reply": "2023-06-15T00:54:22.918576Z"
    }
   },
   "outputs": [],
   "source": [
    "from datetime import datetime, timedelta"
   ]
  },
  {
   "cell_type": "code",
   "execution_count": 6,
   "id": "04290f69",
   "metadata": {
    "execution": {
     "iopub.execute_input": "2023-06-15T00:54:22.920851Z",
     "iopub.status.busy": "2023-06-15T00:54:22.920851Z",
     "iopub.status.idle": "2023-06-15T00:54:22.934260Z",
     "shell.execute_reply": "2023-06-15T00:54:22.934260Z"
    }
   },
   "outputs": [
    {
     "name": "stdout",
     "output_type": "stream",
     "text": [
      "2023-06-14\n",
      "2023-05-31\n"
     ]
    }
   ],
   "source": [
    "# calculate current date and date 14 days ago\n",
    "today = datetime.now().date()\n",
    "\n",
    "two_weeks_ago = today - timedelta(days=14)\n",
    "\n",
    "print(today)\n",
    "print(two_weeks_ago)"
   ]
  },
  {
   "cell_type": "code",
   "execution_count": 7,
   "id": "c3254a08",
   "metadata": {
    "execution": {
     "iopub.execute_input": "2023-06-15T00:54:22.936262Z",
     "iopub.status.busy": "2023-06-15T00:54:22.936262Z",
     "iopub.status.idle": "2023-06-15T00:54:22.949470Z",
     "shell.execute_reply": "2023-06-15T00:54:22.949470Z"
    }
   },
   "outputs": [],
   "source": [
    "# Get the current date\n",
    "today = datetime.now().date()\n",
    "\n",
    "# Calculate the date 14 days ago\n",
    "two_weeks_ago = today - timedelta(days=14)\n",
    "\n",
    "# Convert the dates to strings\n",
    "today = today.isoformat()\n",
    "two_weeks_ago = two_weeks_ago.isoformat()"
   ]
  },
  {
   "cell_type": "code",
   "execution_count": 8,
   "id": "84e8f052",
   "metadata": {
    "execution": {
     "iopub.execute_input": "2023-06-15T00:54:22.951473Z",
     "iopub.status.busy": "2023-06-15T00:54:22.951473Z",
     "iopub.status.idle": "2023-06-15T00:54:50.290164Z",
     "shell.execute_reply": "2023-06-15T00:54:50.290164Z"
    }
   },
   "outputs": [],
   "source": [
    "# Call data\n",
    "df = batting_stats_range(today,two_weeks_ago)"
   ]
  },
  {
   "cell_type": "code",
   "execution_count": 9,
   "id": "03f7f3bb",
   "metadata": {
    "execution": {
     "iopub.execute_input": "2023-06-15T00:54:50.292167Z",
     "iopub.status.busy": "2023-06-15T00:54:50.292167Z",
     "iopub.status.idle": "2023-06-15T00:54:50.306079Z",
     "shell.execute_reply": "2023-06-15T00:54:50.305523Z"
    }
   },
   "outputs": [
    {
     "data": {
      "text/plain": [
       "Index(['Name', 'Age', '#days', 'Lev', 'Tm', 'G', 'PA', 'AB', 'R', 'H', '2B',\n",
       "       '3B', 'HR', 'RBI', 'BB', 'IBB', 'SO', 'HBP', 'SH', 'SF', 'GDP', 'SB',\n",
       "       'CS', 'BA', 'OBP', 'SLG', 'OPS', 'mlbID'],\n",
       "      dtype='object')"
      ]
     },
     "execution_count": 9,
     "metadata": {},
     "output_type": "execute_result"
    }
   ],
   "source": [
    "df.columns"
   ]
  },
  {
   "cell_type": "markdown",
   "id": "e658dfb4",
   "metadata": {},
   "source": [
    "# Clean Data"
   ]
  },
  {
   "cell_type": "markdown",
   "id": "b4cbc37a",
   "metadata": {},
   "source": [
    "## Player Batting (14 Day)"
   ]
  },
  {
   "cell_type": "code",
   "execution_count": 10,
   "id": "dfe6c360",
   "metadata": {
    "execution": {
     "iopub.execute_input": "2023-06-15T00:54:50.308083Z",
     "iopub.status.busy": "2023-06-15T00:54:50.308083Z",
     "iopub.status.idle": "2023-06-15T00:54:50.321630Z",
     "shell.execute_reply": "2023-06-15T00:54:50.321630Z"
    }
   },
   "outputs": [],
   "source": [
    "# deal with double team values in Team column"
   ]
  },
  {
   "cell_type": "code",
   "execution_count": 11,
   "id": "6d2c5ea8",
   "metadata": {
    "execution": {
     "iopub.execute_input": "2023-06-15T00:54:50.323625Z",
     "iopub.status.busy": "2023-06-15T00:54:50.323625Z",
     "iopub.status.idle": "2023-06-15T00:54:50.337553Z",
     "shell.execute_reply": "2023-06-15T00:54:50.337553Z"
    }
   },
   "outputs": [
    {
     "name": "stdout",
     "output_type": "stream",
     "text": [
      "Pre cleaning shape: (437, 28)\n"
     ]
    }
   ],
   "source": [
    "print(\"Pre cleaning shape:\", df.shape)"
   ]
  },
  {
   "cell_type": "code",
   "execution_count": 12,
   "id": "efe14346",
   "metadata": {
    "execution": {
     "iopub.execute_input": "2023-06-15T00:54:50.339565Z",
     "iopub.status.busy": "2023-06-15T00:54:50.339565Z",
     "iopub.status.idle": "2023-06-15T00:54:50.362092Z",
     "shell.execute_reply": "2023-06-15T00:54:50.361996Z"
    }
   },
   "outputs": [
    {
     "data": {
      "text/html": [
       "<div>\n",
       "<style scoped>\n",
       "    .dataframe tbody tr th:only-of-type {\n",
       "        vertical-align: middle;\n",
       "    }\n",
       "\n",
       "    .dataframe tbody tr th {\n",
       "        vertical-align: top;\n",
       "    }\n",
       "\n",
       "    .dataframe thead th {\n",
       "        text-align: right;\n",
       "    }\n",
       "</style>\n",
       "<table border=\"1\" class=\"dataframe\">\n",
       "  <thead>\n",
       "    <tr style=\"text-align: right;\">\n",
       "      <th></th>\n",
       "      <th>Name</th>\n",
       "      <th>Age</th>\n",
       "      <th>#days</th>\n",
       "      <th>Lev</th>\n",
       "      <th>Tm</th>\n",
       "      <th>G</th>\n",
       "      <th>PA</th>\n",
       "      <th>AB</th>\n",
       "      <th>R</th>\n",
       "      <th>H</th>\n",
       "      <th>2B</th>\n",
       "      <th>3B</th>\n",
       "      <th>HR</th>\n",
       "      <th>RBI</th>\n",
       "      <th>BB</th>\n",
       "      <th>IBB</th>\n",
       "      <th>SO</th>\n",
       "      <th>HBP</th>\n",
       "      <th>SH</th>\n",
       "      <th>SF</th>\n",
       "      <th>GDP</th>\n",
       "      <th>SB</th>\n",
       "      <th>CS</th>\n",
       "      <th>BA</th>\n",
       "      <th>OBP</th>\n",
       "      <th>SLG</th>\n",
       "      <th>OPS</th>\n",
       "      <th>mlbID</th>\n",
       "    </tr>\n",
       "  </thead>\n",
       "  <tbody>\n",
       "    <tr>\n",
       "      <th>1</th>\n",
       "      <td>CJ Abrams</td>\n",
       "      <td>22</td>\n",
       "      <td>1</td>\n",
       "      <td>Maj-NL</td>\n",
       "      <td>Washington</td>\n",
       "      <td>8</td>\n",
       "      <td>31</td>\n",
       "      <td>31</td>\n",
       "      <td>2</td>\n",
       "      <td>5</td>\n",
       "      <td>2</td>\n",
       "      <td>0</td>\n",
       "      <td>1</td>\n",
       "      <td>1</td>\n",
       "      <td>0</td>\n",
       "      <td>0</td>\n",
       "      <td>6</td>\n",
       "      <td>0</td>\n",
       "      <td>0</td>\n",
       "      <td>0</td>\n",
       "      <td>2</td>\n",
       "      <td>0</td>\n",
       "      <td>0</td>\n",
       "      <td>0.16100</td>\n",
       "      <td>0.16100</td>\n",
       "      <td>0.32300</td>\n",
       "      <td>0.48400</td>\n",
       "      <td>682928</td>\n",
       "    </tr>\n",
       "    <tr>\n",
       "      <th>2</th>\n",
       "      <td>Jos\\xc3\\xa9 Abreu</td>\n",
       "      <td>36</td>\n",
       "      <td>1</td>\n",
       "      <td>Maj-AL</td>\n",
       "      <td>Houston</td>\n",
       "      <td>12</td>\n",
       "      <td>52</td>\n",
       "      <td>48</td>\n",
       "      <td>3</td>\n",
       "      <td>13</td>\n",
       "      <td>2</td>\n",
       "      <td>0</td>\n",
       "      <td>2</td>\n",
       "      <td>10</td>\n",
       "      <td>2</td>\n",
       "      <td>0</td>\n",
       "      <td>14</td>\n",
       "      <td>1</td>\n",
       "      <td>0</td>\n",
       "      <td>1</td>\n",
       "      <td>1</td>\n",
       "      <td>0</td>\n",
       "      <td>1</td>\n",
       "      <td>0.27100</td>\n",
       "      <td>0.30800</td>\n",
       "      <td>0.43800</td>\n",
       "      <td>0.74500</td>\n",
       "      <td>547989</td>\n",
       "    </tr>\n",
       "    <tr>\n",
       "      <th>3</th>\n",
       "      <td>Ronald Acuna Jr.</td>\n",
       "      <td>25</td>\n",
       "      <td>2</td>\n",
       "      <td>Maj-NL</td>\n",
       "      <td>Atlanta</td>\n",
       "      <td>11</td>\n",
       "      <td>52</td>\n",
       "      <td>51</td>\n",
       "      <td>8</td>\n",
       "      <td>18</td>\n",
       "      <td>6</td>\n",
       "      <td>0</td>\n",
       "      <td>2</td>\n",
       "      <td>10</td>\n",
       "      <td>1</td>\n",
       "      <td>0</td>\n",
       "      <td>6</td>\n",
       "      <td>0</td>\n",
       "      <td>0</td>\n",
       "      <td>0</td>\n",
       "      <td>2</td>\n",
       "      <td>6</td>\n",
       "      <td>1</td>\n",
       "      <td>0.35300</td>\n",
       "      <td>0.36500</td>\n",
       "      <td>0.58800</td>\n",
       "      <td>0.95400</td>\n",
       "      <td>660670</td>\n",
       "    </tr>\n",
       "    <tr>\n",
       "      <th>4</th>\n",
       "      <td>Willy Adames</td>\n",
       "      <td>27</td>\n",
       "      <td>1</td>\n",
       "      <td>Maj-NL</td>\n",
       "      <td>Milwaukee</td>\n",
       "      <td>6</td>\n",
       "      <td>28</td>\n",
       "      <td>27</td>\n",
       "      <td>4</td>\n",
       "      <td>6</td>\n",
       "      <td>1</td>\n",
       "      <td>0</td>\n",
       "      <td>1</td>\n",
       "      <td>1</td>\n",
       "      <td>1</td>\n",
       "      <td>0</td>\n",
       "      <td>10</td>\n",
       "      <td>0</td>\n",
       "      <td>0</td>\n",
       "      <td>0</td>\n",
       "      <td>0</td>\n",
       "      <td>0</td>\n",
       "      <td>0</td>\n",
       "      <td>0.22200</td>\n",
       "      <td>0.25000</td>\n",
       "      <td>0.37000</td>\n",
       "      <td>0.62000</td>\n",
       "      <td>642715</td>\n",
       "    </tr>\n",
       "    <tr>\n",
       "      <th>5</th>\n",
       "      <td>Riley Adams</td>\n",
       "      <td>27</td>\n",
       "      <td>4</td>\n",
       "      <td>Maj-NL</td>\n",
       "      <td>Washington</td>\n",
       "      <td>3</td>\n",
       "      <td>11</td>\n",
       "      <td>11</td>\n",
       "      <td>0</td>\n",
       "      <td>2</td>\n",
       "      <td>0</td>\n",
       "      <td>0</td>\n",
       "      <td>0</td>\n",
       "      <td>0</td>\n",
       "      <td>0</td>\n",
       "      <td>0</td>\n",
       "      <td>4</td>\n",
       "      <td>0</td>\n",
       "      <td>0</td>\n",
       "      <td>0</td>\n",
       "      <td>0</td>\n",
       "      <td>0</td>\n",
       "      <td>0</td>\n",
       "      <td>0.18200</td>\n",
       "      <td>0.18200</td>\n",
       "      <td>0.18200</td>\n",
       "      <td>0.36400</td>\n",
       "      <td>656180</td>\n",
       "    </tr>\n",
       "  </tbody>\n",
       "</table>\n",
       "</div>"
      ],
      "text/plain": [
       "                Name  Age  #days     Lev          Tm   G  PA  AB  R   H  2B  \\\n",
       "1          CJ Abrams   22      1  Maj-NL  Washington   8  31  31  2   5   2   \n",
       "2  Jos\\xc3\\xa9 Abreu   36      1  Maj-AL     Houston  12  52  48  3  13   2   \n",
       "3   Ronald Acuna Jr.   25      2  Maj-NL     Atlanta  11  52  51  8  18   6   \n",
       "4       Willy Adames   27      1  Maj-NL   Milwaukee   6  28  27  4   6   1   \n",
       "5        Riley Adams   27      4  Maj-NL  Washington   3  11  11  0   2   0   \n",
       "\n",
       "   3B  HR  RBI  BB  IBB  SO  HBP  SH  SF  GDP  SB  CS      BA     OBP     SLG  \\\n",
       "1   0   1    1   0    0   6    0   0   0    2   0   0 0.16100 0.16100 0.32300   \n",
       "2   0   2   10   2    0  14    1   0   1    1   0   1 0.27100 0.30800 0.43800   \n",
       "3   0   2   10   1    0   6    0   0   0    2   6   1 0.35300 0.36500 0.58800   \n",
       "4   0   1    1   1    0  10    0   0   0    0   0   0 0.22200 0.25000 0.37000   \n",
       "5   0   0    0   0    0   4    0   0   0    0   0   0 0.18200 0.18200 0.18200   \n",
       "\n",
       "      OPS   mlbID  \n",
       "1 0.48400  682928  \n",
       "2 0.74500  547989  \n",
       "3 0.95400  660670  \n",
       "4 0.62000  642715  \n",
       "5 0.36400  656180  "
      ]
     },
     "execution_count": 12,
     "metadata": {},
     "output_type": "execute_result"
    }
   ],
   "source": [
    "df.head()"
   ]
  },
  {
   "cell_type": "code",
   "execution_count": 13,
   "id": "1e1a8251",
   "metadata": {
    "execution": {
     "iopub.execute_input": "2023-06-15T00:54:50.364092Z",
     "iopub.status.busy": "2023-06-15T00:54:50.364092Z",
     "iopub.status.idle": "2023-06-15T00:54:50.377508Z",
     "shell.execute_reply": "2023-06-15T00:54:50.377508Z"
    }
   },
   "outputs": [
    {
     "data": {
      "text/plain": [
       "Index(['Name', 'Age', '#days', 'Lev', 'Tm', 'G', 'PA', 'AB', 'R', 'H', '2B',\n",
       "       '3B', 'HR', 'RBI', 'BB', 'IBB', 'SO', 'HBP', 'SH', 'SF', 'GDP', 'SB',\n",
       "       'CS', 'BA', 'OBP', 'SLG', 'OPS', 'mlbID'],\n",
       "      dtype='object')"
      ]
     },
     "execution_count": 13,
     "metadata": {},
     "output_type": "execute_result"
    }
   ],
   "source": [
    "df.columns"
   ]
  },
  {
   "cell_type": "code",
   "execution_count": 14,
   "id": "801e9450",
   "metadata": {
    "execution": {
     "iopub.execute_input": "2023-06-15T00:54:50.379510Z",
     "iopub.status.busy": "2023-06-15T00:54:50.379510Z",
     "iopub.status.idle": "2023-06-15T00:54:50.392841Z",
     "shell.execute_reply": "2023-06-15T00:54:50.392841Z"
    }
   },
   "outputs": [
    {
     "name": "stdout",
     "output_type": "stream",
     "text": [
      "Pre removal  (437, 28)\n",
      "Post removal  (437, 21)\n"
     ]
    }
   ],
   "source": [
    "print(\"Pre removal \", df.shape)\n",
    "df = df.drop(['#days'], axis = 1)\n",
    "df = df.drop(['BA'], axis = 1)\n",
    "df = df.drop(['OBP'], axis = 1)\n",
    "df = df.drop(['SLG'], axis = 1)\n",
    "df = df.drop(['OPS'], axis = 1)\n",
    "df = df.drop(['GDP'], axis = 1)\n",
    "df = df.drop(['RBI'], axis = 1)\n",
    "\n",
    "print(\"Post removal \", df.shape)"
   ]
  },
  {
   "cell_type": "code",
   "execution_count": 15,
   "id": "c676e4db",
   "metadata": {
    "execution": {
     "iopub.execute_input": "2023-06-15T00:54:50.394844Z",
     "iopub.status.busy": "2023-06-15T00:54:50.394844Z",
     "iopub.status.idle": "2023-06-15T00:54:50.408252Z",
     "shell.execute_reply": "2023-06-15T00:54:50.408252Z"
    }
   },
   "outputs": [
    {
     "data": {
      "text/plain": [
       "Index(['Name', 'Age', 'Lev', 'Tm', 'G', 'PA', 'AB', 'R', 'H', '2B', '3B', 'HR',\n",
       "       'BB', 'IBB', 'SO', 'HBP', 'SH', 'SF', 'SB', 'CS', 'mlbID'],\n",
       "      dtype='object')"
      ]
     },
     "execution_count": 15,
     "metadata": {},
     "output_type": "execute_result"
    }
   ],
   "source": [
    "df.columns"
   ]
  },
  {
   "cell_type": "code",
   "execution_count": 16,
   "id": "da23db85",
   "metadata": {
    "execution": {
     "iopub.execute_input": "2023-06-15T00:54:50.410256Z",
     "iopub.status.busy": "2023-06-15T00:54:50.410256Z",
     "iopub.status.idle": "2023-06-15T00:54:50.423623Z",
     "shell.execute_reply": "2023-06-15T00:54:50.423566Z"
    }
   },
   "outputs": [],
   "source": [
    "# rename columns\n",
    "#df = df.rename(columns = {'xyz': 'abc'})\n",
    "#df.columns"
   ]
  },
  {
   "cell_type": "code",
   "execution_count": 17,
   "id": "7805b053",
   "metadata": {
    "execution": {
     "iopub.execute_input": "2023-06-15T00:54:50.425628Z",
     "iopub.status.busy": "2023-06-15T00:54:50.425628Z",
     "iopub.status.idle": "2023-06-15T00:54:50.439482Z",
     "shell.execute_reply": "2023-06-15T00:54:50.439482Z"
    }
   },
   "outputs": [
    {
     "name": "stdout",
     "output_type": "stream",
     "text": [
      "       count       %\n",
      "Name       0 0.00000\n",
      "Age        0 0.00000\n",
      "Lev        0 0.00000\n",
      "Tm         0 0.00000\n",
      "G          0 0.00000\n",
      "PA         0 0.00000\n",
      "AB         0 0.00000\n",
      "R          0 0.00000\n",
      "H          0 0.00000\n",
      "2B         0 0.00000\n",
      "3B         0 0.00000\n",
      "HR         0 0.00000\n",
      "BB         0 0.00000\n",
      "IBB        0 0.00000\n",
      "SO         0 0.00000\n",
      "HBP        0 0.00000\n",
      "SH         0 0.00000\n",
      "SF         0 0.00000\n",
      "SB         0 0.00000\n",
      "CS         0 0.00000\n",
      "mlbID      0 0.00000\n"
     ]
    }
   ],
   "source": [
    "# count nulls\n",
    "counts = df.isna().sum()\n",
    "percentages = round(df.isna().mean() * 100, 1)\n",
    "null_values = pd.concat([counts, percentages], axis=1, keys=[\"count\", \"%\"])\n",
    "print(null_values)"
   ]
  },
  {
   "cell_type": "code",
   "execution_count": 18,
   "id": "02a52628",
   "metadata": {
    "execution": {
     "iopub.execute_input": "2023-06-15T00:54:50.441483Z",
     "iopub.status.busy": "2023-06-15T00:54:50.441483Z",
     "iopub.status.idle": "2023-06-15T00:54:50.454621Z",
     "shell.execute_reply": "2023-06-15T00:54:50.454621Z"
    }
   },
   "outputs": [
    {
     "name": "stdout",
     "output_type": "stream",
     "text": [
      "Pre removal  (437, 21)\n",
      "Post removal  (437, 21)\n"
     ]
    }
   ],
   "source": [
    "# drop nulls\n",
    "print(\"Pre removal \", df.shape)\n",
    "df = df.dropna()\n",
    "print(\"Post removal \", df.shape)"
   ]
  },
  {
   "cell_type": "code",
   "execution_count": 19,
   "id": "bd451d64",
   "metadata": {
    "execution": {
     "iopub.execute_input": "2023-06-15T00:54:50.456623Z",
     "iopub.status.busy": "2023-06-15T00:54:50.456623Z",
     "iopub.status.idle": "2023-06-15T00:54:50.469637Z",
     "shell.execute_reply": "2023-06-15T00:54:50.469637Z"
    }
   },
   "outputs": [
    {
     "data": {
      "text/plain": [
       "0"
      ]
     },
     "execution_count": 19,
     "metadata": {},
     "output_type": "execute_result"
    }
   ],
   "source": [
    "# count duplicates\n",
    "len(df['Name'])-len(df['Name'].drop_duplicates())"
   ]
  },
  {
   "cell_type": "code",
   "execution_count": 20,
   "id": "89be45c3",
   "metadata": {
    "execution": {
     "iopub.execute_input": "2023-06-15T00:54:50.471640Z",
     "iopub.status.busy": "2023-06-15T00:54:50.471640Z",
     "iopub.status.idle": "2023-06-15T00:54:50.485500Z",
     "shell.execute_reply": "2023-06-15T00:54:50.485500Z"
    }
   },
   "outputs": [
    {
     "name": "stdout",
     "output_type": "stream",
     "text": [
      "Pre removal  (437, 21)\n",
      "Post removal  (437, 21)\n"
     ]
    }
   ],
   "source": [
    "# remove dups\n",
    "\n",
    "print(\"Pre removal \", df.shape)\n",
    "df = df.drop_duplicates(subset=['Name'])\n",
    "print(\"Post removal \", df.shape)"
   ]
  },
  {
   "cell_type": "code",
   "execution_count": 21,
   "id": "b9e6f60f",
   "metadata": {
    "execution": {
     "iopub.execute_input": "2023-06-15T00:54:50.487503Z",
     "iopub.status.busy": "2023-06-15T00:54:50.487503Z",
     "iopub.status.idle": "2023-06-15T00:54:50.501036Z",
     "shell.execute_reply": "2023-06-15T00:54:50.501036Z"
    }
   },
   "outputs": [],
   "source": [
    "# remove outliers\n",
    "\n",
    "#print(\"Pre removal \", df.shape)\n",
    "#df = df[(np.abs(stats.zscore(df['xyz'])) < 3)]\n",
    "#print(\"Post removal \", df.shape)"
   ]
  },
  {
   "cell_type": "markdown",
   "id": "84f96dd2",
   "metadata": {},
   "source": [
    "# Data Restructing"
   ]
  },
  {
   "cell_type": "markdown",
   "id": "8886b789",
   "metadata": {},
   "source": [
    "## Variable Restructing"
   ]
  },
  {
   "cell_type": "markdown",
   "id": "50e0ad8d",
   "metadata": {},
   "source": [
    "### Level"
   ]
  },
  {
   "cell_type": "code",
   "execution_count": 22,
   "id": "4b393c41",
   "metadata": {
    "execution": {
     "iopub.execute_input": "2023-06-15T00:54:50.503038Z",
     "iopub.status.busy": "2023-06-15T00:54:50.503038Z",
     "iopub.status.idle": "2023-06-15T00:54:50.516266Z",
     "shell.execute_reply": "2023-06-15T00:54:50.516266Z"
    }
   },
   "outputs": [],
   "source": [
    "# change column values\n",
    "df['Lev'] = df['Lev'].map({'Maj-AL': 'AL', 'Maj-NL': 'NL'})"
   ]
  },
  {
   "cell_type": "code",
   "execution_count": 23,
   "id": "60a62e29",
   "metadata": {
    "execution": {
     "iopub.execute_input": "2023-06-15T00:54:50.518269Z",
     "iopub.status.busy": "2023-06-15T00:54:50.518269Z",
     "iopub.status.idle": "2023-06-15T00:54:50.531513Z",
     "shell.execute_reply": "2023-06-15T00:54:50.531513Z"
    }
   },
   "outputs": [],
   "source": [
    "# rename column\n",
    "df.rename(columns={'Lev': 'League'}, inplace=True)"
   ]
  },
  {
   "cell_type": "code",
   "execution_count": 24,
   "id": "a2ad6877",
   "metadata": {
    "execution": {
     "iopub.execute_input": "2023-06-15T00:54:50.533515Z",
     "iopub.status.busy": "2023-06-15T00:54:50.533515Z",
     "iopub.status.idle": "2023-06-15T00:54:50.546516Z",
     "shell.execute_reply": "2023-06-15T00:54:50.546516Z"
    }
   },
   "outputs": [
    {
     "data": {
      "text/html": [
       "<div>\n",
       "<style scoped>\n",
       "    .dataframe tbody tr th:only-of-type {\n",
       "        vertical-align: middle;\n",
       "    }\n",
       "\n",
       "    .dataframe tbody tr th {\n",
       "        vertical-align: top;\n",
       "    }\n",
       "\n",
       "    .dataframe thead th {\n",
       "        text-align: right;\n",
       "    }\n",
       "</style>\n",
       "<table border=\"1\" class=\"dataframe\">\n",
       "  <thead>\n",
       "    <tr style=\"text-align: right;\">\n",
       "      <th></th>\n",
       "      <th>Name</th>\n",
       "    </tr>\n",
       "    <tr>\n",
       "      <th>League</th>\n",
       "      <th></th>\n",
       "    </tr>\n",
       "  </thead>\n",
       "  <tbody>\n",
       "    <tr>\n",
       "      <th>AL</th>\n",
       "      <td>222</td>\n",
       "    </tr>\n",
       "    <tr>\n",
       "      <th>NL</th>\n",
       "      <td>215</td>\n",
       "    </tr>\n",
       "  </tbody>\n",
       "</table>\n",
       "</div>"
      ],
      "text/plain": [
       "        Name\n",
       "League      \n",
       "AL       222\n",
       "NL       215"
      ]
     },
     "execution_count": 24,
     "metadata": {},
     "output_type": "execute_result"
    }
   ],
   "source": [
    "# verify changes\n",
    "df[[\"League\", \"Name\"]].groupby(\"League\").count()"
   ]
  },
  {
   "cell_type": "markdown",
   "id": "1226fee2",
   "metadata": {},
   "source": [
    "## Normalizations"
   ]
  },
  {
   "cell_type": "code",
   "execution_count": 25,
   "id": "85bf8b68",
   "metadata": {
    "execution": {
     "iopub.execute_input": "2023-06-15T00:54:50.548519Z",
     "iopub.status.busy": "2023-06-15T00:54:50.548519Z",
     "iopub.status.idle": "2023-06-15T00:54:50.561946Z",
     "shell.execute_reply": "2023-06-15T00:54:50.561946Z"
    }
   },
   "outputs": [],
   "source": [
    "#df=['Volume_norm'] = (df.Volume - df.Volume.mean()) / (df.Volume.max() - df.Volume.mix())\n",
    "#df.columns"
   ]
  },
  {
   "cell_type": "markdown",
   "id": "d8affa2a",
   "metadata": {},
   "source": [
    "## Categorizations"
   ]
  },
  {
   "cell_type": "code",
   "execution_count": 26,
   "id": "2c1573a2",
   "metadata": {
    "execution": {
     "iopub.execute_input": "2023-06-15T00:54:50.563949Z",
     "iopub.status.busy": "2023-06-15T00:54:50.563949Z",
     "iopub.status.idle": "2023-06-15T00:54:50.577411Z",
     "shell.execute_reply": "2023-06-15T00:54:50.577411Z"
    }
   },
   "outputs": [],
   "source": [
    "#normalized = ['Volume_norm', 'Difficulty_norm']"
   ]
  },
  {
   "cell_type": "markdown",
   "id": "53b50c2d",
   "metadata": {},
   "source": [
    "## Calculations"
   ]
  },
  {
   "cell_type": "code",
   "execution_count": 27,
   "id": "11ba890d",
   "metadata": {
    "execution": {
     "iopub.execute_input": "2023-06-15T00:54:50.579413Z",
     "iopub.status.busy": "2023-06-15T00:54:50.579413Z",
     "iopub.status.idle": "2023-06-15T00:54:50.592530Z",
     "shell.execute_reply": "2023-06-15T00:54:50.592530Z"
    }
   },
   "outputs": [],
   "source": [
    "#calculate wOBA on 14 day player batting\n",
    "\n",
    "df['wOBA'] = (0.69*df['BB'] + 0.72*df['HBP'] + 0.89*df['H'] + 1.27*df['2B'] + 1.62*df['3B'] + 2.10*df['HR']) / (df['AB'] + df['BB'] - df['IBB'] + df['SF'] + df['HBP'])"
   ]
  },
  {
   "cell_type": "code",
   "execution_count": 28,
   "id": "69276c5c",
   "metadata": {
    "execution": {
     "iopub.execute_input": "2023-06-15T00:54:50.594534Z",
     "iopub.status.busy": "2023-06-15T00:54:50.594534Z",
     "iopub.status.idle": "2023-06-15T00:54:50.607561Z",
     "shell.execute_reply": "2023-06-15T00:54:50.607561Z"
    },
    "scrolled": true
   },
   "outputs": [
    {
     "data": {
      "text/html": [
       "<div>\n",
       "<style scoped>\n",
       "    .dataframe tbody tr th:only-of-type {\n",
       "        vertical-align: middle;\n",
       "    }\n",
       "\n",
       "    .dataframe tbody tr th {\n",
       "        vertical-align: top;\n",
       "    }\n",
       "\n",
       "    .dataframe thead th {\n",
       "        text-align: right;\n",
       "    }\n",
       "</style>\n",
       "<table border=\"1\" class=\"dataframe\">\n",
       "  <thead>\n",
       "    <tr style=\"text-align: right;\">\n",
       "      <th></th>\n",
       "      <th>Name</th>\n",
       "      <th>Age</th>\n",
       "      <th>League</th>\n",
       "      <th>Tm</th>\n",
       "      <th>G</th>\n",
       "      <th>PA</th>\n",
       "      <th>AB</th>\n",
       "      <th>R</th>\n",
       "      <th>H</th>\n",
       "      <th>2B</th>\n",
       "      <th>3B</th>\n",
       "      <th>HR</th>\n",
       "      <th>BB</th>\n",
       "      <th>IBB</th>\n",
       "      <th>SO</th>\n",
       "      <th>HBP</th>\n",
       "      <th>SH</th>\n",
       "      <th>SF</th>\n",
       "      <th>SB</th>\n",
       "      <th>CS</th>\n",
       "      <th>mlbID</th>\n",
       "      <th>wOBA</th>\n",
       "    </tr>\n",
       "  </thead>\n",
       "  <tbody>\n",
       "    <tr>\n",
       "      <th>1</th>\n",
       "      <td>CJ Abrams</td>\n",
       "      <td>22</td>\n",
       "      <td>NL</td>\n",
       "      <td>Washington</td>\n",
       "      <td>8</td>\n",
       "      <td>31</td>\n",
       "      <td>31</td>\n",
       "      <td>2</td>\n",
       "      <td>5</td>\n",
       "      <td>2</td>\n",
       "      <td>0</td>\n",
       "      <td>1</td>\n",
       "      <td>0</td>\n",
       "      <td>0</td>\n",
       "      <td>6</td>\n",
       "      <td>0</td>\n",
       "      <td>0</td>\n",
       "      <td>0</td>\n",
       "      <td>0</td>\n",
       "      <td>0</td>\n",
       "      <td>682928</td>\n",
       "      <td>0.29323</td>\n",
       "    </tr>\n",
       "    <tr>\n",
       "      <th>2</th>\n",
       "      <td>Jos\\xc3\\xa9 Abreu</td>\n",
       "      <td>36</td>\n",
       "      <td>AL</td>\n",
       "      <td>Houston</td>\n",
       "      <td>12</td>\n",
       "      <td>52</td>\n",
       "      <td>48</td>\n",
       "      <td>3</td>\n",
       "      <td>13</td>\n",
       "      <td>2</td>\n",
       "      <td>0</td>\n",
       "      <td>2</td>\n",
       "      <td>2</td>\n",
       "      <td>0</td>\n",
       "      <td>14</td>\n",
       "      <td>1</td>\n",
       "      <td>0</td>\n",
       "      <td>1</td>\n",
       "      <td>0</td>\n",
       "      <td>1</td>\n",
       "      <td>547989</td>\n",
       "      <td>0.39250</td>\n",
       "    </tr>\n",
       "    <tr>\n",
       "      <th>3</th>\n",
       "      <td>Ronald Acuna Jr.</td>\n",
       "      <td>25</td>\n",
       "      <td>NL</td>\n",
       "      <td>Atlanta</td>\n",
       "      <td>11</td>\n",
       "      <td>52</td>\n",
       "      <td>51</td>\n",
       "      <td>8</td>\n",
       "      <td>18</td>\n",
       "      <td>6</td>\n",
       "      <td>0</td>\n",
       "      <td>2</td>\n",
       "      <td>1</td>\n",
       "      <td>0</td>\n",
       "      <td>6</td>\n",
       "      <td>0</td>\n",
       "      <td>0</td>\n",
       "      <td>0</td>\n",
       "      <td>6</td>\n",
       "      <td>1</td>\n",
       "      <td>660670</td>\n",
       "      <td>0.54865</td>\n",
       "    </tr>\n",
       "    <tr>\n",
       "      <th>4</th>\n",
       "      <td>Willy Adames</td>\n",
       "      <td>27</td>\n",
       "      <td>NL</td>\n",
       "      <td>Milwaukee</td>\n",
       "      <td>6</td>\n",
       "      <td>28</td>\n",
       "      <td>27</td>\n",
       "      <td>4</td>\n",
       "      <td>6</td>\n",
       "      <td>1</td>\n",
       "      <td>0</td>\n",
       "      <td>1</td>\n",
       "      <td>1</td>\n",
       "      <td>0</td>\n",
       "      <td>10</td>\n",
       "      <td>0</td>\n",
       "      <td>0</td>\n",
       "      <td>0</td>\n",
       "      <td>0</td>\n",
       "      <td>0</td>\n",
       "      <td>642715</td>\n",
       "      <td>0.33571</td>\n",
       "    </tr>\n",
       "    <tr>\n",
       "      <th>5</th>\n",
       "      <td>Riley Adams</td>\n",
       "      <td>27</td>\n",
       "      <td>NL</td>\n",
       "      <td>Washington</td>\n",
       "      <td>3</td>\n",
       "      <td>11</td>\n",
       "      <td>11</td>\n",
       "      <td>0</td>\n",
       "      <td>2</td>\n",
       "      <td>0</td>\n",
       "      <td>0</td>\n",
       "      <td>0</td>\n",
       "      <td>0</td>\n",
       "      <td>0</td>\n",
       "      <td>4</td>\n",
       "      <td>0</td>\n",
       "      <td>0</td>\n",
       "      <td>0</td>\n",
       "      <td>0</td>\n",
       "      <td>0</td>\n",
       "      <td>656180</td>\n",
       "      <td>0.16182</td>\n",
       "    </tr>\n",
       "  </tbody>\n",
       "</table>\n",
       "</div>"
      ],
      "text/plain": [
       "                Name  Age League          Tm   G  PA  AB  R   H  2B  3B  HR  \\\n",
       "1          CJ Abrams   22     NL  Washington   8  31  31  2   5   2   0   1   \n",
       "2  Jos\\xc3\\xa9 Abreu   36     AL     Houston  12  52  48  3  13   2   0   2   \n",
       "3   Ronald Acuna Jr.   25     NL     Atlanta  11  52  51  8  18   6   0   2   \n",
       "4       Willy Adames   27     NL   Milwaukee   6  28  27  4   6   1   0   1   \n",
       "5        Riley Adams   27     NL  Washington   3  11  11  0   2   0   0   0   \n",
       "\n",
       "   BB  IBB  SO  HBP  SH  SF  SB  CS   mlbID    wOBA  \n",
       "1   0    0   6    0   0   0   0   0  682928 0.29323  \n",
       "2   2    0  14    1   0   1   0   1  547989 0.39250  \n",
       "3   1    0   6    0   0   0   6   1  660670 0.54865  \n",
       "4   1    0  10    0   0   0   0   0  642715 0.33571  \n",
       "5   0    0   4    0   0   0   0   0  656180 0.16182  "
      ]
     },
     "execution_count": 28,
     "metadata": {},
     "output_type": "execute_result"
    }
   ],
   "source": [
    "df.head()"
   ]
  },
  {
   "cell_type": "markdown",
   "id": "506a503b",
   "metadata": {},
   "source": [
    "## Export Data"
   ]
  },
  {
   "cell_type": "code",
   "execution_count": 29,
   "id": "419b5257",
   "metadata": {
    "execution": {
     "iopub.execute_input": "2023-06-15T00:54:50.609564Z",
     "iopub.status.busy": "2023-06-15T00:54:50.609564Z",
     "iopub.status.idle": "2023-06-15T00:54:50.623109Z",
     "shell.execute_reply": "2023-06-15T00:54:50.623109Z"
    }
   },
   "outputs": [],
   "source": [
    "#EXPORT\n",
    "\n",
    "df.to_csv('C:\\\\Users\\\\b7tbu\\\\JUPYTER PROJECTS\\\\ANALYTICO\\\\Data_Exports\\\\Player\\\\Batting\\\\EXPORT_14day.csv', index=False)"
   ]
  },
  {
   "cell_type": "code",
   "execution_count": null,
   "id": "33879015",
   "metadata": {},
   "outputs": [],
   "source": []
  }
 ],
 "metadata": {
  "kernelspec": {
   "display_name": "Python 3 (ipykernel)",
   "language": "python",
   "name": "python3"
  },
  "language_info": {
   "codemirror_mode": {
    "name": "ipython",
    "version": 3
   },
   "file_extension": ".py",
   "mimetype": "text/x-python",
   "name": "python",
   "nbconvert_exporter": "python",
   "pygments_lexer": "ipython3",
   "version": "3.10.9"
  }
 },
 "nbformat": 4,
 "nbformat_minor": 5
}
