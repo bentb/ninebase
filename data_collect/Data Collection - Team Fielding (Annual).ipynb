{
 "cells": [
  {
   "cell_type": "markdown",
   "id": "65491295",
   "metadata": {},
   "source": [
    "## Hello World"
   ]
  },
  {
   "cell_type": "markdown",
   "id": "7673094b",
   "metadata": {},
   "source": [
    "Sources:\n",
    "https://github.com/jldbc/pybaseball\n",
    "https://www.kaggle.com/code/weslayton/fangraphs-baseball-scraper-analysis"
   ]
  },
  {
   "cell_type": "code",
   "execution_count": 1,
   "id": "6e016576",
   "metadata": {
    "execution": {
     "iopub.execute_input": "2023-06-15T00:55:33.826044Z",
     "iopub.status.busy": "2023-06-15T00:55:33.826044Z",
     "iopub.status.idle": "2023-06-15T00:55:35.080991Z",
     "shell.execute_reply": "2023-06-15T00:55:35.080991Z"
    }
   },
   "outputs": [],
   "source": [
    "#import general libraries\n",
    "import numpy as np\n",
    "import pandas as pd\n",
    "\n",
    "pd.set_option(\"display.precision\", 2)\n",
    "pd.set_option('display.max_rows', None)\n",
    "pd.set_option('display.max_columns', 200)\n",
    "pd.set_option('display.float_format', lambda x: '%.5f' % x)\n",
    "\n",
    "from scipy import stats\n",
    "import seaborn as sns\n",
    "\n",
    "import matplotlib.pyplot as plt\n",
    "%matplotlib inline\n",
    "plt.style.use('bmh')"
   ]
  },
  {
   "cell_type": "code",
   "execution_count": 2,
   "id": "3f6697a4",
   "metadata": {
    "execution": {
     "iopub.execute_input": "2023-06-15T00:55:35.083993Z",
     "iopub.status.busy": "2023-06-15T00:55:35.082992Z",
     "iopub.status.idle": "2023-06-15T00:55:35.096670Z",
     "shell.execute_reply": "2023-06-15T00:55:35.096670Z"
    }
   },
   "outputs": [],
   "source": [
    "#install latest pybaseball\n",
    "#pip install pybaseball"
   ]
  },
  {
   "cell_type": "code",
   "execution_count": 3,
   "id": "bc1a0223",
   "metadata": {
    "execution": {
     "iopub.execute_input": "2023-06-15T00:55:35.098671Z",
     "iopub.status.busy": "2023-06-15T00:55:35.098671Z",
     "iopub.status.idle": "2023-06-15T00:55:35.443981Z",
     "shell.execute_reply": "2023-06-15T00:55:35.443981Z"
    }
   },
   "outputs": [],
   "source": [
    "#import data sources\n",
    "import pybaseball"
   ]
  },
  {
   "cell_type": "code",
   "execution_count": 4,
   "id": "21e37a7d",
   "metadata": {
    "execution": {
     "iopub.execute_input": "2023-06-15T00:55:35.446985Z",
     "iopub.status.busy": "2023-06-15T00:55:35.445984Z",
     "iopub.status.idle": "2023-06-15T00:55:35.458982Z",
     "shell.execute_reply": "2023-06-15T00:55:35.458982Z"
    }
   },
   "outputs": [],
   "source": [
    "from pybaseball import batting_stats"
   ]
  },
  {
   "cell_type": "markdown",
   "id": "a4c201f5",
   "metadata": {},
   "source": [
    "## Collect Data"
   ]
  },
  {
   "cell_type": "markdown",
   "id": "fca3c69b",
   "metadata": {},
   "source": [
    "### Annual data"
   ]
  },
  {
   "cell_type": "code",
   "execution_count": 5,
   "id": "f10600e9",
   "metadata": {
    "execution": {
     "iopub.execute_input": "2023-06-15T00:55:35.460985Z",
     "iopub.status.busy": "2023-06-15T00:55:35.460985Z",
     "iopub.status.idle": "2023-06-15T00:55:35.840902Z",
     "shell.execute_reply": "2023-06-15T00:55:35.840902Z"
    }
   },
   "outputs": [],
   "source": [
    "df = pybaseball.team_fielding(2023,2023)"
   ]
  },
  {
   "cell_type": "code",
   "execution_count": 6,
   "id": "03f7f3bb",
   "metadata": {
    "execution": {
     "iopub.execute_input": "2023-06-15T00:55:35.843905Z",
     "iopub.status.busy": "2023-06-15T00:55:35.842904Z",
     "iopub.status.idle": "2023-06-15T00:55:35.856888Z",
     "shell.execute_reply": "2023-06-15T00:55:35.856888Z"
    }
   },
   "outputs": [
    {
     "data": {
      "text/plain": [
       "Index(['teamIDfg', 'Season', 'Team', 'G', 'GS', 'Inn', 'PO', 'A', 'E', 'FE',\n",
       "       'TE', 'DP', 'DPS', 'DPT', 'DPF', 'Scp', 'SB', 'CS', 'PB', 'WP', 'FP',\n",
       "       'TZ', 'rSB', 'rGDP', 'rARM', 'rGFP', 'rPM', 'DRS', 'BIZ', 'Plays',\n",
       "       'RZR', 'OOZ', 'TZL', 'FSR', 'ARM', 'DPR', 'RngR', 'ErrR', 'UZR',\n",
       "       'UZR/150', 'CPP', 'RPP', 'Def', '0%', '# 0%', '1-10%', '# 1-10%',\n",
       "       '10-40%', '# 10-40%', '40-60%', '# 40-60%', '60-90%', '# 60-90%',\n",
       "       '90-100%', '# 90-100%', 'rSZ', 'rCERA', 'rTS', 'FRM', 'OAA', 'RAA'],\n",
       "      dtype='object')"
      ]
     },
     "execution_count": 6,
     "metadata": {},
     "output_type": "execute_result"
    }
   ],
   "source": [
    "df.columns"
   ]
  },
  {
   "cell_type": "markdown",
   "id": "280fba92",
   "metadata": {},
   "source": [
    "# Clean Data"
   ]
  },
  {
   "cell_type": "code",
   "execution_count": 7,
   "id": "c20ef454",
   "metadata": {
    "execution": {
     "iopub.execute_input": "2023-06-15T00:55:35.858889Z",
     "iopub.status.busy": "2023-06-15T00:55:35.858889Z",
     "iopub.status.idle": "2023-06-15T00:55:35.872861Z",
     "shell.execute_reply": "2023-06-15T00:55:35.872861Z"
    }
   },
   "outputs": [
    {
     "name": "stdout",
     "output_type": "stream",
     "text": [
      "Pre cleaning shape: (30, 61)\n"
     ]
    }
   ],
   "source": [
    "print(\"Pre cleaning shape:\", df.shape)"
   ]
  },
  {
   "cell_type": "code",
   "execution_count": 8,
   "id": "3c0e1366",
   "metadata": {
    "execution": {
     "iopub.execute_input": "2023-06-15T00:55:35.874863Z",
     "iopub.status.busy": "2023-06-15T00:55:35.874863Z",
     "iopub.status.idle": "2023-06-15T00:55:35.904879Z",
     "shell.execute_reply": "2023-06-15T00:55:35.904879Z"
    }
   },
   "outputs": [
    {
     "data": {
      "text/html": [
       "<div>\n",
       "<style scoped>\n",
       "    .dataframe tbody tr th:only-of-type {\n",
       "        vertical-align: middle;\n",
       "    }\n",
       "\n",
       "    .dataframe tbody tr th {\n",
       "        vertical-align: top;\n",
       "    }\n",
       "\n",
       "    .dataframe thead th {\n",
       "        text-align: right;\n",
       "    }\n",
       "</style>\n",
       "<table border=\"1\" class=\"dataframe\">\n",
       "  <thead>\n",
       "    <tr style=\"text-align: right;\">\n",
       "      <th></th>\n",
       "      <th>teamIDfg</th>\n",
       "      <th>Season</th>\n",
       "      <th>Team</th>\n",
       "      <th>G</th>\n",
       "      <th>GS</th>\n",
       "      <th>Inn</th>\n",
       "      <th>PO</th>\n",
       "      <th>A</th>\n",
       "      <th>E</th>\n",
       "      <th>FE</th>\n",
       "      <th>TE</th>\n",
       "      <th>DP</th>\n",
       "      <th>DPS</th>\n",
       "      <th>DPT</th>\n",
       "      <th>DPF</th>\n",
       "      <th>Scp</th>\n",
       "      <th>SB</th>\n",
       "      <th>CS</th>\n",
       "      <th>PB</th>\n",
       "      <th>WP</th>\n",
       "      <th>FP</th>\n",
       "      <th>TZ</th>\n",
       "      <th>rSB</th>\n",
       "      <th>rGDP</th>\n",
       "      <th>rARM</th>\n",
       "      <th>rGFP</th>\n",
       "      <th>rPM</th>\n",
       "      <th>DRS</th>\n",
       "      <th>BIZ</th>\n",
       "      <th>Plays</th>\n",
       "      <th>RZR</th>\n",
       "      <th>OOZ</th>\n",
       "      <th>TZL</th>\n",
       "      <th>FSR</th>\n",
       "      <th>ARM</th>\n",
       "      <th>DPR</th>\n",
       "      <th>RngR</th>\n",
       "      <th>ErrR</th>\n",
       "      <th>UZR</th>\n",
       "      <th>UZR/150</th>\n",
       "      <th>CPP</th>\n",
       "      <th>RPP</th>\n",
       "      <th>Def</th>\n",
       "      <th>0%</th>\n",
       "      <th># 0%</th>\n",
       "      <th>1-10%</th>\n",
       "      <th># 1-10%</th>\n",
       "      <th>10-40%</th>\n",
       "      <th># 10-40%</th>\n",
       "      <th>40-60%</th>\n",
       "      <th># 40-60%</th>\n",
       "      <th>60-90%</th>\n",
       "      <th># 60-90%</th>\n",
       "      <th>90-100%</th>\n",
       "      <th># 90-100%</th>\n",
       "      <th>rSZ</th>\n",
       "      <th>rCERA</th>\n",
       "      <th>rTS</th>\n",
       "      <th>FRM</th>\n",
       "      <th>OAA</th>\n",
       "      <th>RAA</th>\n",
       "    </tr>\n",
       "  </thead>\n",
       "  <tbody>\n",
       "    <tr>\n",
       "      <th>0</th>\n",
       "      <td>23</td>\n",
       "      <td>2023</td>\n",
       "      <td>Brewers</td>\n",
       "      <td>927</td>\n",
       "      <td>603</td>\n",
       "      <td>5337.00000</td>\n",
       "      <td>1779</td>\n",
       "      <td>588</td>\n",
       "      <td>30</td>\n",
       "      <td>11</td>\n",
       "      <td>18</td>\n",
       "      <td>115</td>\n",
       "      <td>49</td>\n",
       "      <td>39</td>\n",
       "      <td>49</td>\n",
       "      <td>10</td>\n",
       "      <td>55</td>\n",
       "      <td>12</td>\n",
       "      <td>2</td>\n",
       "      <td>18</td>\n",
       "      <td>0.98700</td>\n",
       "      <td>NaN</td>\n",
       "      <td>-1</td>\n",
       "      <td>0</td>\n",
       "      <td>0</td>\n",
       "      <td>4</td>\n",
       "      <td>13</td>\n",
       "      <td>31</td>\n",
       "      <td>808</td>\n",
       "      <td>680</td>\n",
       "      <td>0.84200</td>\n",
       "      <td>261</td>\n",
       "      <td>NaN</td>\n",
       "      <td>NaN</td>\n",
       "      <td>4.90000</td>\n",
       "      <td>1.30000</td>\n",
       "      <td>8.90000</td>\n",
       "      <td>3.00000</td>\n",
       "      <td>18.10000</td>\n",
       "      <td>9.00000</td>\n",
       "      <td>NaN</td>\n",
       "      <td>NaN</td>\n",
       "      <td>15.00000</td>\n",
       "      <td>NaN</td>\n",
       "      <td>NaN</td>\n",
       "      <td>NaN</td>\n",
       "      <td>NaN</td>\n",
       "      <td>NaN</td>\n",
       "      <td>NaN</td>\n",
       "      <td>NaN</td>\n",
       "      <td>NaN</td>\n",
       "      <td>NaN</td>\n",
       "      <td>NaN</td>\n",
       "      <td>NaN</td>\n",
       "      <td>NaN</td>\n",
       "      <td>8</td>\n",
       "      <td>0</td>\n",
       "      <td>9</td>\n",
       "      <td>8.70000</td>\n",
       "      <td>10</td>\n",
       "      <td>9</td>\n",
       "    </tr>\n",
       "    <tr>\n",
       "      <th>1</th>\n",
       "      <td>13</td>\n",
       "      <td>2023</td>\n",
       "      <td>Rangers</td>\n",
       "      <td>858</td>\n",
       "      <td>594</td>\n",
       "      <td>5277.00000</td>\n",
       "      <td>1759</td>\n",
       "      <td>571</td>\n",
       "      <td>31</td>\n",
       "      <td>12</td>\n",
       "      <td>19</td>\n",
       "      <td>144</td>\n",
       "      <td>58</td>\n",
       "      <td>45</td>\n",
       "      <td>58</td>\n",
       "      <td>2</td>\n",
       "      <td>42</td>\n",
       "      <td>12</td>\n",
       "      <td>5</td>\n",
       "      <td>17</td>\n",
       "      <td>0.98700</td>\n",
       "      <td>NaN</td>\n",
       "      <td>1</td>\n",
       "      <td>-1</td>\n",
       "      <td>6</td>\n",
       "      <td>0</td>\n",
       "      <td>13</td>\n",
       "      <td>31</td>\n",
       "      <td>806</td>\n",
       "      <td>663</td>\n",
       "      <td>0.82300</td>\n",
       "      <td>253</td>\n",
       "      <td>NaN</td>\n",
       "      <td>NaN</td>\n",
       "      <td>3.80000</td>\n",
       "      <td>1.00000</td>\n",
       "      <td>2.80000</td>\n",
       "      <td>0.50000</td>\n",
       "      <td>8.10000</td>\n",
       "      <td>4.70000</td>\n",
       "      <td>NaN</td>\n",
       "      <td>NaN</td>\n",
       "      <td>14.00000</td>\n",
       "      <td>NaN</td>\n",
       "      <td>NaN</td>\n",
       "      <td>NaN</td>\n",
       "      <td>NaN</td>\n",
       "      <td>NaN</td>\n",
       "      <td>NaN</td>\n",
       "      <td>NaN</td>\n",
       "      <td>NaN</td>\n",
       "      <td>NaN</td>\n",
       "      <td>NaN</td>\n",
       "      <td>NaN</td>\n",
       "      <td>NaN</td>\n",
       "      <td>2</td>\n",
       "      <td>2</td>\n",
       "      <td>7</td>\n",
       "      <td>4.50000</td>\n",
       "      <td>9</td>\n",
       "      <td>6</td>\n",
       "    </tr>\n",
       "    <tr>\n",
       "      <th>2</th>\n",
       "      <td>15</td>\n",
       "      <td>2023</td>\n",
       "      <td>Diamondbacks</td>\n",
       "      <td>901</td>\n",
       "      <td>603</td>\n",
       "      <td>5367.00000</td>\n",
       "      <td>1789</td>\n",
       "      <td>609</td>\n",
       "      <td>24</td>\n",
       "      <td>10</td>\n",
       "      <td>14</td>\n",
       "      <td>135</td>\n",
       "      <td>53</td>\n",
       "      <td>44</td>\n",
       "      <td>53</td>\n",
       "      <td>7</td>\n",
       "      <td>28</td>\n",
       "      <td>17</td>\n",
       "      <td>3</td>\n",
       "      <td>22</td>\n",
       "      <td>0.99000</td>\n",
       "      <td>NaN</td>\n",
       "      <td>3</td>\n",
       "      <td>2</td>\n",
       "      <td>1</td>\n",
       "      <td>1</td>\n",
       "      <td>12</td>\n",
       "      <td>12</td>\n",
       "      <td>851</td>\n",
       "      <td>698</td>\n",
       "      <td>0.82000</td>\n",
       "      <td>216</td>\n",
       "      <td>NaN</td>\n",
       "      <td>NaN</td>\n",
       "      <td>0.90000</td>\n",
       "      <td>-0.30000</td>\n",
       "      <td>8.00000</td>\n",
       "      <td>4.90000</td>\n",
       "      <td>13.60000</td>\n",
       "      <td>5.70000</td>\n",
       "      <td>NaN</td>\n",
       "      <td>NaN</td>\n",
       "      <td>13.40000</td>\n",
       "      <td>NaN</td>\n",
       "      <td>NaN</td>\n",
       "      <td>NaN</td>\n",
       "      <td>NaN</td>\n",
       "      <td>NaN</td>\n",
       "      <td>NaN</td>\n",
       "      <td>NaN</td>\n",
       "      <td>NaN</td>\n",
       "      <td>NaN</td>\n",
       "      <td>NaN</td>\n",
       "      <td>NaN</td>\n",
       "      <td>NaN</td>\n",
       "      <td>-8</td>\n",
       "      <td>4</td>\n",
       "      <td>-6</td>\n",
       "      <td>-5.80000</td>\n",
       "      <td>11</td>\n",
       "      <td>9</td>\n",
       "    </tr>\n",
       "    <tr>\n",
       "      <th>3</th>\n",
       "      <td>21</td>\n",
       "      <td>2023</td>\n",
       "      <td>Astros</td>\n",
       "      <td>837</td>\n",
       "      <td>603</td>\n",
       "      <td>5382.00000</td>\n",
       "      <td>1794</td>\n",
       "      <td>575</td>\n",
       "      <td>27</td>\n",
       "      <td>8</td>\n",
       "      <td>17</td>\n",
       "      <td>168</td>\n",
       "      <td>65</td>\n",
       "      <td>50</td>\n",
       "      <td>65</td>\n",
       "      <td>4</td>\n",
       "      <td>40</td>\n",
       "      <td>17</td>\n",
       "      <td>4</td>\n",
       "      <td>17</td>\n",
       "      <td>0.98900</td>\n",
       "      <td>NaN</td>\n",
       "      <td>3</td>\n",
       "      <td>3</td>\n",
       "      <td>0</td>\n",
       "      <td>0</td>\n",
       "      <td>8</td>\n",
       "      <td>9</td>\n",
       "      <td>752</td>\n",
       "      <td>603</td>\n",
       "      <td>0.80200</td>\n",
       "      <td>261</td>\n",
       "      <td>NaN</td>\n",
       "      <td>NaN</td>\n",
       "      <td>1.00000</td>\n",
       "      <td>1.80000</td>\n",
       "      <td>0.40000</td>\n",
       "      <td>0.60000</td>\n",
       "      <td>3.90000</td>\n",
       "      <td>2.30000</td>\n",
       "      <td>NaN</td>\n",
       "      <td>NaN</td>\n",
       "      <td>13.20000</td>\n",
       "      <td>NaN</td>\n",
       "      <td>NaN</td>\n",
       "      <td>NaN</td>\n",
       "      <td>NaN</td>\n",
       "      <td>NaN</td>\n",
       "      <td>NaN</td>\n",
       "      <td>NaN</td>\n",
       "      <td>NaN</td>\n",
       "      <td>NaN</td>\n",
       "      <td>NaN</td>\n",
       "      <td>NaN</td>\n",
       "      <td>NaN</td>\n",
       "      <td>-9</td>\n",
       "      <td>-1</td>\n",
       "      <td>2</td>\n",
       "      <td>-7.80000</td>\n",
       "      <td>8</td>\n",
       "      <td>6</td>\n",
       "    </tr>\n",
       "    <tr>\n",
       "      <th>4</th>\n",
       "      <td>11</td>\n",
       "      <td>2023</td>\n",
       "      <td>Mariners</td>\n",
       "      <td>867</td>\n",
       "      <td>594</td>\n",
       "      <td>5298.00000</td>\n",
       "      <td>1766</td>\n",
       "      <td>563</td>\n",
       "      <td>29</td>\n",
       "      <td>12</td>\n",
       "      <td>17</td>\n",
       "      <td>89</td>\n",
       "      <td>40</td>\n",
       "      <td>27</td>\n",
       "      <td>40</td>\n",
       "      <td>6</td>\n",
       "      <td>38</td>\n",
       "      <td>11</td>\n",
       "      <td>2</td>\n",
       "      <td>23</td>\n",
       "      <td>0.98800</td>\n",
       "      <td>NaN</td>\n",
       "      <td>2</td>\n",
       "      <td>-1</td>\n",
       "      <td>1</td>\n",
       "      <td>-4</td>\n",
       "      <td>-1</td>\n",
       "      <td>7</td>\n",
       "      <td>777</td>\n",
       "      <td>619</td>\n",
       "      <td>0.79700</td>\n",
       "      <td>248</td>\n",
       "      <td>NaN</td>\n",
       "      <td>NaN</td>\n",
       "      <td>-0.70000</td>\n",
       "      <td>-2.40000</td>\n",
       "      <td>-6.20000</td>\n",
       "      <td>3.30000</td>\n",
       "      <td>-6.10000</td>\n",
       "      <td>-2.70000</td>\n",
       "      <td>NaN</td>\n",
       "      <td>NaN</td>\n",
       "      <td>10.20000</td>\n",
       "      <td>NaN</td>\n",
       "      <td>NaN</td>\n",
       "      <td>NaN</td>\n",
       "      <td>NaN</td>\n",
       "      <td>NaN</td>\n",
       "      <td>NaN</td>\n",
       "      <td>NaN</td>\n",
       "      <td>NaN</td>\n",
       "      <td>NaN</td>\n",
       "      <td>NaN</td>\n",
       "      <td>NaN</td>\n",
       "      <td>NaN</td>\n",
       "      <td>0</td>\n",
       "      <td>-1</td>\n",
       "      <td>10</td>\n",
       "      <td>-1.50000</td>\n",
       "      <td>11</td>\n",
       "      <td>9</td>\n",
       "    </tr>\n",
       "  </tbody>\n",
       "</table>\n",
       "</div>"
      ],
      "text/plain": [
       "   teamIDfg  Season          Team    G   GS        Inn    PO    A   E  FE  TE  \\\n",
       "0        23    2023       Brewers  927  603 5337.00000  1779  588  30  11  18   \n",
       "1        13    2023       Rangers  858  594 5277.00000  1759  571  31  12  19   \n",
       "2        15    2023  Diamondbacks  901  603 5367.00000  1789  609  24  10  14   \n",
       "3        21    2023        Astros  837  603 5382.00000  1794  575  27   8  17   \n",
       "4        11    2023      Mariners  867  594 5298.00000  1766  563  29  12  17   \n",
       "\n",
       "    DP  DPS  DPT  DPF  Scp  SB  CS  PB  WP      FP  TZ  rSB  rGDP  rARM  rGFP  \\\n",
       "0  115   49   39   49   10  55  12   2  18 0.98700 NaN   -1     0     0     4   \n",
       "1  144   58   45   58    2  42  12   5  17 0.98700 NaN    1    -1     6     0   \n",
       "2  135   53   44   53    7  28  17   3  22 0.99000 NaN    3     2     1     1   \n",
       "3  168   65   50   65    4  40  17   4  17 0.98900 NaN    3     3     0     0   \n",
       "4   89   40   27   40    6  38  11   2  23 0.98800 NaN    2    -1     1    -4   \n",
       "\n",
       "   rPM  DRS  BIZ  Plays     RZR  OOZ  TZL  FSR      ARM      DPR     RngR  \\\n",
       "0   13   31  808    680 0.84200  261  NaN  NaN  4.90000  1.30000  8.90000   \n",
       "1   13   31  806    663 0.82300  253  NaN  NaN  3.80000  1.00000  2.80000   \n",
       "2   12   12  851    698 0.82000  216  NaN  NaN  0.90000 -0.30000  8.00000   \n",
       "3    8    9  752    603 0.80200  261  NaN  NaN  1.00000  1.80000  0.40000   \n",
       "4   -1    7  777    619 0.79700  248  NaN  NaN -0.70000 -2.40000 -6.20000   \n",
       "\n",
       "     ErrR      UZR  UZR/150  CPP  RPP      Def  0%  # 0%  1-10%  # 1-10%  \\\n",
       "0 3.00000 18.10000  9.00000  NaN  NaN 15.00000 NaN   NaN    NaN      NaN   \n",
       "1 0.50000  8.10000  4.70000  NaN  NaN 14.00000 NaN   NaN    NaN      NaN   \n",
       "2 4.90000 13.60000  5.70000  NaN  NaN 13.40000 NaN   NaN    NaN      NaN   \n",
       "3 0.60000  3.90000  2.30000  NaN  NaN 13.20000 NaN   NaN    NaN      NaN   \n",
       "4 3.30000 -6.10000 -2.70000  NaN  NaN 10.20000 NaN   NaN    NaN      NaN   \n",
       "\n",
       "   10-40%  # 10-40%  40-60%  # 40-60%  60-90%  # 60-90%  90-100%  # 90-100%  \\\n",
       "0     NaN       NaN     NaN       NaN     NaN       NaN      NaN        NaN   \n",
       "1     NaN       NaN     NaN       NaN     NaN       NaN      NaN        NaN   \n",
       "2     NaN       NaN     NaN       NaN     NaN       NaN      NaN        NaN   \n",
       "3     NaN       NaN     NaN       NaN     NaN       NaN      NaN        NaN   \n",
       "4     NaN       NaN     NaN       NaN     NaN       NaN      NaN        NaN   \n",
       "\n",
       "   rSZ  rCERA  rTS      FRM  OAA  RAA  \n",
       "0    8      0    9  8.70000   10    9  \n",
       "1    2      2    7  4.50000    9    6  \n",
       "2   -8      4   -6 -5.80000   11    9  \n",
       "3   -9     -1    2 -7.80000    8    6  \n",
       "4    0     -1   10 -1.50000   11    9  "
      ]
     },
     "execution_count": 8,
     "metadata": {},
     "output_type": "execute_result"
    }
   ],
   "source": [
    "df.head()"
   ]
  },
  {
   "cell_type": "code",
   "execution_count": 9,
   "id": "07ce8bc9",
   "metadata": {
    "execution": {
     "iopub.execute_input": "2023-06-15T00:55:35.906881Z",
     "iopub.status.busy": "2023-06-15T00:55:35.906881Z",
     "iopub.status.idle": "2023-06-15T00:55:35.920973Z",
     "shell.execute_reply": "2023-06-15T00:55:35.920973Z"
    }
   },
   "outputs": [
    {
     "data": {
      "text/plain": [
       "Index(['teamIDfg', 'Season', 'Team', 'G', 'GS', 'Inn', 'PO', 'A', 'E', 'FE',\n",
       "       'TE', 'DP', 'DPS', 'DPT', 'DPF', 'Scp', 'SB', 'CS', 'PB', 'WP', 'FP',\n",
       "       'TZ', 'rSB', 'rGDP', 'rARM', 'rGFP', 'rPM', 'DRS', 'BIZ', 'Plays',\n",
       "       'RZR', 'OOZ', 'TZL', 'FSR', 'ARM', 'DPR', 'RngR', 'ErrR', 'UZR',\n",
       "       'UZR/150', 'CPP', 'RPP', 'Def', '0%', '# 0%', '1-10%', '# 1-10%',\n",
       "       '10-40%', '# 10-40%', '40-60%', '# 40-60%', '60-90%', '# 60-90%',\n",
       "       '90-100%', '# 90-100%', 'rSZ', 'rCERA', 'rTS', 'FRM', 'OAA', 'RAA'],\n",
       "      dtype='object')"
      ]
     },
     "execution_count": 9,
     "metadata": {},
     "output_type": "execute_result"
    }
   ],
   "source": [
    "df.columns"
   ]
  },
  {
   "cell_type": "code",
   "execution_count": 10,
   "id": "cf79a7fd",
   "metadata": {
    "execution": {
     "iopub.execute_input": "2023-06-15T00:55:35.922974Z",
     "iopub.status.busy": "2023-06-15T00:55:35.922974Z",
     "iopub.status.idle": "2023-06-15T00:55:35.936972Z",
     "shell.execute_reply": "2023-06-15T00:55:35.936972Z"
    }
   },
   "outputs": [
    {
     "name": "stdout",
     "output_type": "stream",
     "text": [
      "Pre removal  (30, 61)\n",
      "Post removal  (30, 61)\n"
     ]
    }
   ],
   "source": [
    "print(\"Pre removal \", df.shape)\n",
    "#df = df.drop(['#days'], axis = 1)\n",
    "\n",
    "print(\"Post removal \", df.shape)"
   ]
  },
  {
   "cell_type": "code",
   "execution_count": 11,
   "id": "5df748df",
   "metadata": {
    "execution": {
     "iopub.execute_input": "2023-06-15T00:55:35.938974Z",
     "iopub.status.busy": "2023-06-15T00:55:35.938974Z",
     "iopub.status.idle": "2023-06-15T00:55:35.952971Z",
     "shell.execute_reply": "2023-06-15T00:55:35.952971Z"
    }
   },
   "outputs": [
    {
     "data": {
      "text/plain": [
       "Index(['teamIDfg', 'Season', 'Team', 'G', 'GS', 'Inn', 'PO', 'A', 'E', 'FE',\n",
       "       'TE', 'DP', 'DPS', 'DPT', 'DPF', 'Scp', 'SB', 'CS', 'PB', 'WP', 'FP',\n",
       "       'TZ', 'rSB', 'rGDP', 'rARM', 'rGFP', 'rPM', 'DRS', 'BIZ', 'Plays',\n",
       "       'RZR', 'OOZ', 'TZL', 'FSR', 'ARM', 'DPR', 'RngR', 'ErrR', 'UZR',\n",
       "       'UZR/150', 'CPP', 'RPP', 'Def', '0%', '# 0%', '1-10%', '# 1-10%',\n",
       "       '10-40%', '# 10-40%', '40-60%', '# 40-60%', '60-90%', '# 60-90%',\n",
       "       '90-100%', '# 90-100%', 'rSZ', 'rCERA', 'rTS', 'FRM', 'OAA', 'RAA'],\n",
       "      dtype='object')"
      ]
     },
     "execution_count": 11,
     "metadata": {},
     "output_type": "execute_result"
    }
   ],
   "source": [
    "df.columns"
   ]
  },
  {
   "cell_type": "code",
   "execution_count": 12,
   "id": "ab8fab9c",
   "metadata": {
    "execution": {
     "iopub.execute_input": "2023-06-15T00:55:35.954974Z",
     "iopub.status.busy": "2023-06-15T00:55:35.954974Z",
     "iopub.status.idle": "2023-06-15T00:55:35.968961Z",
     "shell.execute_reply": "2023-06-15T00:55:35.968961Z"
    }
   },
   "outputs": [],
   "source": [
    "# rename columns\n",
    "#df = df.rename(columns = {'xyz': 'abc'})\n",
    "#df.columns"
   ]
  },
  {
   "cell_type": "code",
   "execution_count": 13,
   "id": "c07178e7",
   "metadata": {
    "execution": {
     "iopub.execute_input": "2023-06-15T00:55:35.970962Z",
     "iopub.status.busy": "2023-06-15T00:55:35.970962Z",
     "iopub.status.idle": "2023-06-15T00:55:35.984971Z",
     "shell.execute_reply": "2023-06-15T00:55:35.984971Z"
    }
   },
   "outputs": [
    {
     "name": "stdout",
     "output_type": "stream",
     "text": [
      "           count         %\n",
      "teamIDfg       0   0.00000\n",
      "Season         0   0.00000\n",
      "Team           0   0.00000\n",
      "G              0   0.00000\n",
      "GS             0   0.00000\n",
      "Inn            0   0.00000\n",
      "PO             0   0.00000\n",
      "A              0   0.00000\n",
      "E              0   0.00000\n",
      "FE             0   0.00000\n",
      "TE             0   0.00000\n",
      "DP             0   0.00000\n",
      "DPS            0   0.00000\n",
      "DPT            0   0.00000\n",
      "DPF            0   0.00000\n",
      "Scp            0   0.00000\n",
      "SB             0   0.00000\n",
      "CS             0   0.00000\n",
      "PB             0   0.00000\n",
      "WP             0   0.00000\n",
      "FP             0   0.00000\n",
      "TZ            30 100.00000\n",
      "rSB            0   0.00000\n",
      "rGDP           0   0.00000\n",
      "rARM           0   0.00000\n",
      "rGFP           0   0.00000\n",
      "rPM            0   0.00000\n",
      "DRS            0   0.00000\n",
      "BIZ            0   0.00000\n",
      "Plays          0   0.00000\n",
      "RZR            0   0.00000\n",
      "OOZ            0   0.00000\n",
      "TZL           30 100.00000\n",
      "FSR           30 100.00000\n",
      "ARM            0   0.00000\n",
      "DPR            0   0.00000\n",
      "RngR           0   0.00000\n",
      "ErrR           0   0.00000\n",
      "UZR            0   0.00000\n",
      "UZR/150        0   0.00000\n",
      "CPP           30 100.00000\n",
      "RPP           30 100.00000\n",
      "Def            0   0.00000\n",
      "0%            30 100.00000\n",
      "# 0%          30 100.00000\n",
      "1-10%         30 100.00000\n",
      "# 1-10%       30 100.00000\n",
      "10-40%        30 100.00000\n",
      "# 10-40%      30 100.00000\n",
      "40-60%        30 100.00000\n",
      "# 40-60%      30 100.00000\n",
      "60-90%        30 100.00000\n",
      "# 60-90%      30 100.00000\n",
      "90-100%       30 100.00000\n",
      "# 90-100%     30 100.00000\n",
      "rSZ            0   0.00000\n",
      "rCERA          0   0.00000\n",
      "rTS            0   0.00000\n",
      "FRM            0   0.00000\n",
      "OAA            0   0.00000\n",
      "RAA            0   0.00000\n"
     ]
    }
   ],
   "source": [
    "# count nulls\n",
    "counts = df.isna().sum()\n",
    "percentages = round(df.isna().mean() * 100, 1)\n",
    "null_values = pd.concat([counts, percentages], axis=1, keys=[\"count\", \"%\"])\n",
    "print(null_values)"
   ]
  },
  {
   "cell_type": "code",
   "execution_count": 14,
   "id": "eb72e89a",
   "metadata": {
    "execution": {
     "iopub.execute_input": "2023-06-15T00:55:35.987976Z",
     "iopub.status.busy": "2023-06-15T00:55:35.986973Z",
     "iopub.status.idle": "2023-06-15T00:55:36.000973Z",
     "shell.execute_reply": "2023-06-15T00:55:36.000973Z"
    }
   },
   "outputs": [
    {
     "name": "stdout",
     "output_type": "stream",
     "text": [
      "Pre removal  (30, 61)\n",
      "Post removal  (30, 61)\n"
     ]
    }
   ],
   "source": [
    "# drop nulls\n",
    "print(\"Pre removal \", df.shape)\n",
    "#df = df.dropna()\n",
    "print(\"Post removal \", df.shape)"
   ]
  },
  {
   "cell_type": "code",
   "execution_count": 15,
   "id": "379e8a75",
   "metadata": {
    "execution": {
     "iopub.execute_input": "2023-06-15T00:55:36.002975Z",
     "iopub.status.busy": "2023-06-15T00:55:36.002975Z",
     "iopub.status.idle": "2023-06-15T00:55:36.016972Z",
     "shell.execute_reply": "2023-06-15T00:55:36.016972Z"
    }
   },
   "outputs": [
    {
     "data": {
      "text/plain": [
       "0"
      ]
     },
     "execution_count": 15,
     "metadata": {},
     "output_type": "execute_result"
    }
   ],
   "source": [
    "# count duplicates\n",
    "len(df['Team'])-len(df['Team'].drop_duplicates())"
   ]
  },
  {
   "cell_type": "code",
   "execution_count": 16,
   "id": "694f1750",
   "metadata": {
    "execution": {
     "iopub.execute_input": "2023-06-15T00:55:36.018974Z",
     "iopub.status.busy": "2023-06-15T00:55:36.018974Z",
     "iopub.status.idle": "2023-06-15T00:55:36.032988Z",
     "shell.execute_reply": "2023-06-15T00:55:36.032988Z"
    }
   },
   "outputs": [
    {
     "name": "stdout",
     "output_type": "stream",
     "text": [
      "Pre removal  (30, 61)\n",
      "Post removal  (30, 61)\n"
     ]
    }
   ],
   "source": [
    "# remove dups\n",
    "\n",
    "print(\"Pre removal \", df.shape)\n",
    "#df = df.drop_duplicates(subset=['Name'])\n",
    "print(\"Post removal \", df.shape)"
   ]
  },
  {
   "cell_type": "code",
   "execution_count": 17,
   "id": "c9341696",
   "metadata": {
    "execution": {
     "iopub.execute_input": "2023-06-15T00:55:36.034989Z",
     "iopub.status.busy": "2023-06-15T00:55:36.034989Z",
     "iopub.status.idle": "2023-06-15T00:55:36.048971Z",
     "shell.execute_reply": "2023-06-15T00:55:36.048971Z"
    }
   },
   "outputs": [],
   "source": [
    "# remove outliers\n",
    "\n",
    "#print(\"Pre removal \", df.shape)\n",
    "#df = df[(np.abs(stats.zscore(df['xyz'])) < 3)]\n",
    "#print(\"Post removal \", df.shape)"
   ]
  },
  {
   "cell_type": "markdown",
   "id": "c5f65e15",
   "metadata": {},
   "source": [
    "# Data Restructing"
   ]
  },
  {
   "cell_type": "markdown",
   "id": "1c4d414b",
   "metadata": {},
   "source": [
    "## Variable Restructing"
   ]
  },
  {
   "cell_type": "markdown",
   "id": "4455920d",
   "metadata": {},
   "source": [
    "### Level"
   ]
  },
  {
   "cell_type": "code",
   "execution_count": 18,
   "id": "0ddc3a50",
   "metadata": {
    "execution": {
     "iopub.execute_input": "2023-06-15T00:55:36.050972Z",
     "iopub.status.busy": "2023-06-15T00:55:36.050972Z",
     "iopub.status.idle": "2023-06-15T00:55:36.064969Z",
     "shell.execute_reply": "2023-06-15T00:55:36.064969Z"
    }
   },
   "outputs": [],
   "source": [
    "# change column values\n",
    "#df['Lev'] = df['Lev'].map({'Maj-AL': 'AL', 'Maj-NL': 'NL'})"
   ]
  },
  {
   "cell_type": "code",
   "execution_count": 19,
   "id": "ce4f3e49",
   "metadata": {
    "execution": {
     "iopub.execute_input": "2023-06-15T00:55:36.066972Z",
     "iopub.status.busy": "2023-06-15T00:55:36.066972Z",
     "iopub.status.idle": "2023-06-15T00:55:36.081400Z",
     "shell.execute_reply": "2023-06-15T00:55:36.080970Z"
    }
   },
   "outputs": [],
   "source": [
    "# rename column\n",
    "#df.rename(columns={'Lev': 'League'}, inplace=True)"
   ]
  },
  {
   "cell_type": "code",
   "execution_count": 20,
   "id": "dc5715ce",
   "metadata": {
    "execution": {
     "iopub.execute_input": "2023-06-15T00:55:36.082971Z",
     "iopub.status.busy": "2023-06-15T00:55:36.082971Z",
     "iopub.status.idle": "2023-06-15T00:55:36.095985Z",
     "shell.execute_reply": "2023-06-15T00:55:36.095985Z"
    }
   },
   "outputs": [],
   "source": [
    "# verify changes\n",
    "#df[[\"League\", \"Name\"]].groupby(\"League\").count()"
   ]
  },
  {
   "cell_type": "markdown",
   "id": "c9e956c0",
   "metadata": {},
   "source": [
    "## Normalizations"
   ]
  },
  {
   "cell_type": "code",
   "execution_count": 21,
   "id": "cc4f4e5d",
   "metadata": {
    "execution": {
     "iopub.execute_input": "2023-06-15T00:55:36.097987Z",
     "iopub.status.busy": "2023-06-15T00:55:36.097987Z",
     "iopub.status.idle": "2023-06-15T00:55:36.111999Z",
     "shell.execute_reply": "2023-06-15T00:55:36.111999Z"
    }
   },
   "outputs": [],
   "source": [
    "#df=['Volume_norm'] = (df.Volume - df.Volume.mean()) / (df.Volume.max() - df.Volume.mix())\n",
    "#df.columns"
   ]
  },
  {
   "cell_type": "markdown",
   "id": "bcd6f2b0",
   "metadata": {},
   "source": [
    "## Categorizations"
   ]
  },
  {
   "cell_type": "code",
   "execution_count": 22,
   "id": "e892a2bb",
   "metadata": {
    "execution": {
     "iopub.execute_input": "2023-06-15T00:55:36.115001Z",
     "iopub.status.busy": "2023-06-15T00:55:36.114001Z",
     "iopub.status.idle": "2023-06-15T00:55:36.137707Z",
     "shell.execute_reply": "2023-06-15T00:55:36.137707Z"
    }
   },
   "outputs": [],
   "source": [
    "#normalized = ['Volume_norm', 'Difficulty_norm']"
   ]
  },
  {
   "cell_type": "markdown",
   "id": "ddd7c11c",
   "metadata": {},
   "source": [
    "## Calculations"
   ]
  },
  {
   "cell_type": "code",
   "execution_count": 23,
   "id": "11ba890d",
   "metadata": {
    "execution": {
     "iopub.execute_input": "2023-06-15T00:55:36.137707Z",
     "iopub.status.busy": "2023-06-15T00:55:36.137707Z",
     "iopub.status.idle": "2023-06-15T00:55:36.153450Z",
     "shell.execute_reply": "2023-06-15T00:55:36.153334Z"
    }
   },
   "outputs": [],
   "source": [
    "#calculate wOBA on 14 day player batting\n",
    "\n",
    "#df['wOBA'] = (0.69*df['BB'] + 0.72*df['HBP'] + 0.89*df['H'] + 1.27*df['2B'] + 1.62*df['3B'] + 2.10*df['HR']) / (df['AB'] + df['BB'] - df['IBB'] + df['SF'] + df['HBP'])"
   ]
  },
  {
   "cell_type": "code",
   "execution_count": 24,
   "id": "69276c5c",
   "metadata": {
    "execution": {
     "iopub.execute_input": "2023-06-15T00:55:36.155450Z",
     "iopub.status.busy": "2023-06-15T00:55:36.155450Z",
     "iopub.status.idle": "2023-06-15T00:55:36.168970Z",
     "shell.execute_reply": "2023-06-15T00:55:36.168970Z"
    },
    "scrolled": true
   },
   "outputs": [],
   "source": [
    "#df.head()"
   ]
  },
  {
   "cell_type": "markdown",
   "id": "506a503b",
   "metadata": {},
   "source": [
    "## Export Data"
   ]
  },
  {
   "cell_type": "code",
   "execution_count": 25,
   "id": "419b5257",
   "metadata": {
    "execution": {
     "iopub.execute_input": "2023-06-15T00:55:36.170972Z",
     "iopub.status.busy": "2023-06-15T00:55:36.170972Z",
     "iopub.status.idle": "2023-06-15T00:55:36.184967Z",
     "shell.execute_reply": "2023-06-15T00:55:36.184967Z"
    }
   },
   "outputs": [],
   "source": [
    "#EXPORT\n",
    "\n",
    "df.to_csv('C:\\\\Users\\\\b7tbu\\\\JUPYTER PROJECTS\\\\ANALYTICO\\\\Data_Exports\\\\Team\\\\Fielding\\\\EXPORT_annual.csv', index=False)"
   ]
  }
 ],
 "metadata": {
  "kernelspec": {
   "display_name": "Python 3 (ipykernel)",
   "language": "python",
   "name": "python3"
  },
  "language_info": {
   "codemirror_mode": {
    "name": "ipython",
    "version": 3
   },
   "file_extension": ".py",
   "mimetype": "text/x-python",
   "name": "python",
   "nbconvert_exporter": "python",
   "pygments_lexer": "ipython3",
   "version": "3.10.9"
  }
 },
 "nbformat": 4,
 "nbformat_minor": 5
}
