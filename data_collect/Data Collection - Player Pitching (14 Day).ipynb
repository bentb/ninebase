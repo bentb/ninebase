{
 "cells": [
  {
   "cell_type": "markdown",
   "id": "65491295",
   "metadata": {},
   "source": [
    "## Hello World"
   ]
  },
  {
   "cell_type": "markdown",
   "id": "7673094b",
   "metadata": {},
   "source": [
    "Sources:\n",
    "https://github.com/jldbc/pybaseball\n",
    "https://www.kaggle.com/code/weslayton/fangraphs-baseball-scraper-analysis"
   ]
  },
  {
   "cell_type": "code",
   "execution_count": 1,
   "id": "6e016576",
   "metadata": {
    "execution": {
     "iopub.execute_input": "2023-06-15T00:55:04.690870Z",
     "iopub.status.busy": "2023-06-15T00:55:04.690870Z",
     "iopub.status.idle": "2023-06-15T00:55:05.938738Z",
     "shell.execute_reply": "2023-06-15T00:55:05.938738Z"
    }
   },
   "outputs": [],
   "source": [
    "# Import general libraries\n",
    "import numpy as np\n",
    "import pandas as pd\n",
    "\n",
    "pd.set_option(\"display.precision\", 2)\n",
    "pd.set_option('display.max_rows', 200)\n",
    "pd.set_option('display.max_columns', 200)\n",
    "pd.set_option('display.float_format', lambda x: '%.5f' % x)\n",
    "\n",
    "from scipy import stats\n",
    "import seaborn as sns\n",
    "\n",
    "import matplotlib.pyplot as plt\n",
    "%matplotlib inline\n",
    "plt.style.use('bmh')"
   ]
  },
  {
   "cell_type": "code",
   "execution_count": 2,
   "id": "3f6697a4",
   "metadata": {
    "execution": {
     "iopub.execute_input": "2023-06-15T00:55:05.941742Z",
     "iopub.status.busy": "2023-06-15T00:55:05.940741Z",
     "iopub.status.idle": "2023-06-15T00:55:05.953754Z",
     "shell.execute_reply": "2023-06-15T00:55:05.953754Z"
    }
   },
   "outputs": [],
   "source": [
    "# Install latest pybaseball\n",
    "#pip install pybaseball"
   ]
  },
  {
   "cell_type": "code",
   "execution_count": 3,
   "id": "bc1a0223",
   "metadata": {
    "execution": {
     "iopub.execute_input": "2023-06-15T00:55:05.955756Z",
     "iopub.status.busy": "2023-06-15T00:55:05.955756Z",
     "iopub.status.idle": "2023-06-15T00:55:06.300245Z",
     "shell.execute_reply": "2023-06-15T00:55:06.300245Z"
    }
   },
   "outputs": [],
   "source": [
    "# Import data sources\n",
    "import pybaseball"
   ]
  },
  {
   "cell_type": "code",
   "execution_count": 4,
   "id": "21e37a7d",
   "metadata": {
    "execution": {
     "iopub.execute_input": "2023-06-15T00:55:06.303255Z",
     "iopub.status.busy": "2023-06-15T00:55:06.302257Z",
     "iopub.status.idle": "2023-06-15T00:55:06.315810Z",
     "shell.execute_reply": "2023-06-15T00:55:06.315520Z"
    }
   },
   "outputs": [],
   "source": [
    "from pybaseball import pitching_stats_range"
   ]
  },
  {
   "cell_type": "markdown",
   "id": "a4c201f5",
   "metadata": {},
   "source": [
    "## Collect Data"
   ]
  },
  {
   "cell_type": "markdown",
   "id": "a931c81d",
   "metadata": {},
   "source": [
    "### 14 Day Data"
   ]
  },
  {
   "cell_type": "code",
   "execution_count": 5,
   "id": "6f3cff81",
   "metadata": {
    "execution": {
     "iopub.execute_input": "2023-06-15T00:55:06.317814Z",
     "iopub.status.busy": "2023-06-15T00:55:06.317814Z",
     "iopub.status.idle": "2023-06-15T00:55:06.331415Z",
     "shell.execute_reply": "2023-06-15T00:55:06.331415Z"
    }
   },
   "outputs": [],
   "source": [
    "from datetime import datetime, timedelta"
   ]
  },
  {
   "cell_type": "code",
   "execution_count": 6,
   "id": "2646172f",
   "metadata": {
    "execution": {
     "iopub.execute_input": "2023-06-15T00:55:06.333417Z",
     "iopub.status.busy": "2023-06-15T00:55:06.333417Z",
     "iopub.status.idle": "2023-06-15T00:55:06.346666Z",
     "shell.execute_reply": "2023-06-15T00:55:06.346666Z"
    }
   },
   "outputs": [
    {
     "name": "stdout",
     "output_type": "stream",
     "text": [
      "2023-06-14\n",
      "2023-05-31\n"
     ]
    }
   ],
   "source": [
    "# Calculate current date and date 14 days ago\n",
    "today = datetime.now().date()\n",
    "\n",
    "two_weeks_ago = today - timedelta(days=14)\n",
    "\n",
    "print(today)\n",
    "print(two_weeks_ago)"
   ]
  },
  {
   "cell_type": "code",
   "execution_count": 7,
   "id": "83255895",
   "metadata": {
    "execution": {
     "iopub.execute_input": "2023-06-15T00:55:06.348669Z",
     "iopub.status.busy": "2023-06-15T00:55:06.348669Z",
     "iopub.status.idle": "2023-06-15T00:55:06.362558Z",
     "shell.execute_reply": "2023-06-15T00:55:06.362558Z"
    }
   },
   "outputs": [],
   "source": [
    "# Get the current date\n",
    "today = datetime.now().date()\n",
    "\n",
    "# Calculate the date 14 days ago\n",
    "two_weeks_ago = today - timedelta(days=14)\n",
    "\n",
    "# Convert the dates to strings\n",
    "today = today.isoformat()\n",
    "two_weeks_ago = two_weeks_ago.isoformat()"
   ]
  },
  {
   "cell_type": "code",
   "execution_count": 8,
   "id": "84e8f052",
   "metadata": {
    "execution": {
     "iopub.execute_input": "2023-06-15T00:55:06.364562Z",
     "iopub.status.busy": "2023-06-15T00:55:06.364562Z",
     "iopub.status.idle": "2023-06-15T00:55:20.028828Z",
     "shell.execute_reply": "2023-06-15T00:55:20.028828Z"
    }
   },
   "outputs": [],
   "source": [
    "# Call data\n",
    "df = pitching_stats_range(today,two_weeks_ago)"
   ]
  },
  {
   "cell_type": "code",
   "execution_count": 9,
   "id": "03f7f3bb",
   "metadata": {
    "execution": {
     "iopub.execute_input": "2023-06-15T00:55:20.031831Z",
     "iopub.status.busy": "2023-06-15T00:55:20.031831Z",
     "iopub.status.idle": "2023-06-15T00:55:20.044289Z",
     "shell.execute_reply": "2023-06-15T00:55:20.044289Z"
    }
   },
   "outputs": [
    {
     "data": {
      "text/plain": [
       "Index(['Name', 'Age', '#days', 'Lev', 'Tm', 'G', 'GS', 'W', 'L', 'SV', 'IP',\n",
       "       'H', 'R', 'ER', 'BB', 'SO', 'HR', 'HBP', 'ERA', 'AB', '2B', '3B', 'IBB',\n",
       "       'GDP', 'SF', 'SB', 'CS', 'PO', 'BF', 'Pit', 'Str', 'StL', 'StS',\n",
       "       'GB/FB', 'LD', 'PU', 'WHIP', 'BAbip', 'SO9', 'SO/W', 'mlbID'],\n",
       "      dtype='object')"
      ]
     },
     "execution_count": 9,
     "metadata": {},
     "output_type": "execute_result"
    }
   ],
   "source": [
    "df.columns"
   ]
  },
  {
   "cell_type": "markdown",
   "id": "e658dfb4",
   "metadata": {},
   "source": [
    "# Clean Data"
   ]
  },
  {
   "cell_type": "markdown",
   "id": "b4cbc37a",
   "metadata": {},
   "source": [
    "## Player Batting (14 Day)"
   ]
  },
  {
   "cell_type": "code",
   "execution_count": 10,
   "id": "dfe6c360",
   "metadata": {
    "execution": {
     "iopub.execute_input": "2023-06-15T00:55:20.046292Z",
     "iopub.status.busy": "2023-06-15T00:55:20.046292Z",
     "iopub.status.idle": "2023-06-15T00:55:20.060292Z",
     "shell.execute_reply": "2023-06-15T00:55:20.060292Z"
    }
   },
   "outputs": [],
   "source": [
    "# DEAL with double team values in Team column"
   ]
  },
  {
   "cell_type": "code",
   "execution_count": 11,
   "id": "6d2c5ea8",
   "metadata": {
    "execution": {
     "iopub.execute_input": "2023-06-15T00:55:20.062294Z",
     "iopub.status.busy": "2023-06-15T00:55:20.061299Z",
     "iopub.status.idle": "2023-06-15T00:55:20.076292Z",
     "shell.execute_reply": "2023-06-15T00:55:20.076292Z"
    }
   },
   "outputs": [
    {
     "name": "stdout",
     "output_type": "stream",
     "text": [
      "Pre cleaning shape: (462, 41)\n"
     ]
    }
   ],
   "source": [
    "print(\"Pre cleaning shape:\", df.shape)"
   ]
  },
  {
   "cell_type": "code",
   "execution_count": 12,
   "id": "efe14346",
   "metadata": {
    "execution": {
     "iopub.execute_input": "2023-06-15T00:55:20.078294Z",
     "iopub.status.busy": "2023-06-15T00:55:20.078294Z",
     "iopub.status.idle": "2023-06-15T00:55:20.092307Z",
     "shell.execute_reply": "2023-06-15T00:55:20.092307Z"
    }
   },
   "outputs": [
    {
     "data": {
      "text/html": [
       "<div>\n",
       "<style scoped>\n",
       "    .dataframe tbody tr th:only-of-type {\n",
       "        vertical-align: middle;\n",
       "    }\n",
       "\n",
       "    .dataframe tbody tr th {\n",
       "        vertical-align: top;\n",
       "    }\n",
       "\n",
       "    .dataframe thead th {\n",
       "        text-align: right;\n",
       "    }\n",
       "</style>\n",
       "<table border=\"1\" class=\"dataframe\">\n",
       "  <thead>\n",
       "    <tr style=\"text-align: right;\">\n",
       "      <th></th>\n",
       "      <th>Name</th>\n",
       "      <th>Age</th>\n",
       "      <th>#days</th>\n",
       "      <th>Lev</th>\n",
       "      <th>Tm</th>\n",
       "      <th>G</th>\n",
       "      <th>GS</th>\n",
       "      <th>W</th>\n",
       "      <th>L</th>\n",
       "      <th>SV</th>\n",
       "      <th>IP</th>\n",
       "      <th>H</th>\n",
       "      <th>R</th>\n",
       "      <th>ER</th>\n",
       "      <th>BB</th>\n",
       "      <th>SO</th>\n",
       "      <th>HR</th>\n",
       "      <th>HBP</th>\n",
       "      <th>ERA</th>\n",
       "      <th>AB</th>\n",
       "      <th>2B</th>\n",
       "      <th>3B</th>\n",
       "      <th>IBB</th>\n",
       "      <th>GDP</th>\n",
       "      <th>SF</th>\n",
       "      <th>SB</th>\n",
       "      <th>CS</th>\n",
       "      <th>PO</th>\n",
       "      <th>BF</th>\n",
       "      <th>Pit</th>\n",
       "      <th>Str</th>\n",
       "      <th>StL</th>\n",
       "      <th>StS</th>\n",
       "      <th>GB/FB</th>\n",
       "      <th>LD</th>\n",
       "      <th>PU</th>\n",
       "      <th>WHIP</th>\n",
       "      <th>BAbip</th>\n",
       "      <th>SO9</th>\n",
       "      <th>SO/W</th>\n",
       "      <th>mlbID</th>\n",
       "    </tr>\n",
       "  </thead>\n",
       "  <tbody>\n",
       "    <tr>\n",
       "      <th>1</th>\n",
       "      <td>Andrew Abbott</td>\n",
       "      <td>24</td>\n",
       "      <td>4</td>\n",
       "      <td>Maj-NL</td>\n",
       "      <td>Cincinnati</td>\n",
       "      <td>2</td>\n",
       "      <td>2</td>\n",
       "      <td>2.00000</td>\n",
       "      <td>NaN</td>\n",
       "      <td>NaN</td>\n",
       "      <td>11.20000</td>\n",
       "      <td>6</td>\n",
       "      <td>0</td>\n",
       "      <td>0</td>\n",
       "      <td>7</td>\n",
       "      <td>10</td>\n",
       "      <td>0</td>\n",
       "      <td>0</td>\n",
       "      <td>0.00000</td>\n",
       "      <td>40</td>\n",
       "      <td>1</td>\n",
       "      <td>0</td>\n",
       "      <td>0</td>\n",
       "      <td>1</td>\n",
       "      <td>0</td>\n",
       "      <td>0</td>\n",
       "      <td>0</td>\n",
       "      <td>0</td>\n",
       "      <td>47</td>\n",
       "      <td>210</td>\n",
       "      <td>0.61000</td>\n",
       "      <td>0.17000</td>\n",
       "      <td>0.07000</td>\n",
       "      <td>0.27000</td>\n",
       "      <td>0.33000</td>\n",
       "      <td>0.03000</td>\n",
       "      <td>1.11400</td>\n",
       "      <td>0.20000</td>\n",
       "      <td>7.70000</td>\n",
       "      <td>1.43000</td>\n",
       "      <td>671096</td>\n",
       "    </tr>\n",
       "    <tr>\n",
       "      <th>2</th>\n",
       "      <td>Albert Abreu</td>\n",
       "      <td>27</td>\n",
       "      <td>5</td>\n",
       "      <td>Maj-AL</td>\n",
       "      <td>New York</td>\n",
       "      <td>3</td>\n",
       "      <td>0</td>\n",
       "      <td>NaN</td>\n",
       "      <td>NaN</td>\n",
       "      <td>NaN</td>\n",
       "      <td>2.10000</td>\n",
       "      <td>3</td>\n",
       "      <td>1</td>\n",
       "      <td>1</td>\n",
       "      <td>0</td>\n",
       "      <td>1</td>\n",
       "      <td>1</td>\n",
       "      <td>0</td>\n",
       "      <td>3.86000</td>\n",
       "      <td>10</td>\n",
       "      <td>0</td>\n",
       "      <td>0</td>\n",
       "      <td>0</td>\n",
       "      <td>0</td>\n",
       "      <td>0</td>\n",
       "      <td>0</td>\n",
       "      <td>0</td>\n",
       "      <td>0</td>\n",
       "      <td>10</td>\n",
       "      <td>38</td>\n",
       "      <td>0.63000</td>\n",
       "      <td>0.18000</td>\n",
       "      <td>0.05000</td>\n",
       "      <td>0.33000</td>\n",
       "      <td>0.33000</td>\n",
       "      <td>0.11000</td>\n",
       "      <td>1.28600</td>\n",
       "      <td>0.25000</td>\n",
       "      <td>3.90000</td>\n",
       "      <td>NaN</td>\n",
       "      <td>656061</td>\n",
       "    </tr>\n",
       "    <tr>\n",
       "      <th>3</th>\n",
       "      <td>Bryan Abreu</td>\n",
       "      <td>26</td>\n",
       "      <td>1</td>\n",
       "      <td>Maj-AL</td>\n",
       "      <td>Houston</td>\n",
       "      <td>7</td>\n",
       "      <td>0</td>\n",
       "      <td>NaN</td>\n",
       "      <td>NaN</td>\n",
       "      <td>NaN</td>\n",
       "      <td>7.10000</td>\n",
       "      <td>8</td>\n",
       "      <td>1</td>\n",
       "      <td>1</td>\n",
       "      <td>2</td>\n",
       "      <td>9</td>\n",
       "      <td>0</td>\n",
       "      <td>0</td>\n",
       "      <td>1.23000</td>\n",
       "      <td>28</td>\n",
       "      <td>2</td>\n",
       "      <td>0</td>\n",
       "      <td>0</td>\n",
       "      <td>1</td>\n",
       "      <td>0</td>\n",
       "      <td>0</td>\n",
       "      <td>1</td>\n",
       "      <td>0</td>\n",
       "      <td>30</td>\n",
       "      <td>118</td>\n",
       "      <td>0.61000</td>\n",
       "      <td>0.16000</td>\n",
       "      <td>0.14000</td>\n",
       "      <td>0.37000</td>\n",
       "      <td>0.26000</td>\n",
       "      <td>0.11000</td>\n",
       "      <td>1.36400</td>\n",
       "      <td>0.42100</td>\n",
       "      <td>11.00000</td>\n",
       "      <td>4.50000</td>\n",
       "      <td>650556</td>\n",
       "    </tr>\n",
       "    <tr>\n",
       "      <th>4</th>\n",
       "      <td>Jason Adam</td>\n",
       "      <td>31</td>\n",
       "      <td>3</td>\n",
       "      <td>Maj-AL</td>\n",
       "      <td>Tampa Bay</td>\n",
       "      <td>6</td>\n",
       "      <td>0</td>\n",
       "      <td>1.00000</td>\n",
       "      <td>NaN</td>\n",
       "      <td>3.00000</td>\n",
       "      <td>6.00000</td>\n",
       "      <td>3</td>\n",
       "      <td>1</td>\n",
       "      <td>1</td>\n",
       "      <td>5</td>\n",
       "      <td>7</td>\n",
       "      <td>0</td>\n",
       "      <td>3</td>\n",
       "      <td>1.50000</td>\n",
       "      <td>19</td>\n",
       "      <td>1</td>\n",
       "      <td>0</td>\n",
       "      <td>0</td>\n",
       "      <td>2</td>\n",
       "      <td>0</td>\n",
       "      <td>4</td>\n",
       "      <td>0</td>\n",
       "      <td>0</td>\n",
       "      <td>27</td>\n",
       "      <td>114</td>\n",
       "      <td>0.61000</td>\n",
       "      <td>0.14000</td>\n",
       "      <td>0.18000</td>\n",
       "      <td>0.58000</td>\n",
       "      <td>0.17000</td>\n",
       "      <td>0.00000</td>\n",
       "      <td>1.33300</td>\n",
       "      <td>0.25000</td>\n",
       "      <td>10.50000</td>\n",
       "      <td>1.40000</td>\n",
       "      <td>592094</td>\n",
       "    </tr>\n",
       "    <tr>\n",
       "      <th>5</th>\n",
       "      <td>Austin Adams</td>\n",
       "      <td>32</td>\n",
       "      <td>2</td>\n",
       "      <td>Maj-NL</td>\n",
       "      <td>Arizona</td>\n",
       "      <td>6</td>\n",
       "      <td>0</td>\n",
       "      <td>NaN</td>\n",
       "      <td>NaN</td>\n",
       "      <td>NaN</td>\n",
       "      <td>4.10000</td>\n",
       "      <td>3</td>\n",
       "      <td>0</td>\n",
       "      <td>0</td>\n",
       "      <td>1</td>\n",
       "      <td>5</td>\n",
       "      <td>0</td>\n",
       "      <td>1</td>\n",
       "      <td>0.00000</td>\n",
       "      <td>16</td>\n",
       "      <td>0</td>\n",
       "      <td>0</td>\n",
       "      <td>0</td>\n",
       "      <td>0</td>\n",
       "      <td>0</td>\n",
       "      <td>0</td>\n",
       "      <td>0</td>\n",
       "      <td>0</td>\n",
       "      <td>18</td>\n",
       "      <td>86</td>\n",
       "      <td>0.63000</td>\n",
       "      <td>0.13000</td>\n",
       "      <td>0.13000</td>\n",
       "      <td>0.36000</td>\n",
       "      <td>0.18000</td>\n",
       "      <td>0.09000</td>\n",
       "      <td>0.92300</td>\n",
       "      <td>0.27300</td>\n",
       "      <td>10.40000</td>\n",
       "      <td>5.00000</td>\n",
       "      <td>613534</td>\n",
       "    </tr>\n",
       "  </tbody>\n",
       "</table>\n",
       "</div>"
      ],
      "text/plain": [
       "            Name  Age  #days     Lev          Tm  G  GS       W   L      SV  \\\n",
       "1  Andrew Abbott   24      4  Maj-NL  Cincinnati  2   2 2.00000 NaN     NaN   \n",
       "2   Albert Abreu   27      5  Maj-AL    New York  3   0     NaN NaN     NaN   \n",
       "3    Bryan Abreu   26      1  Maj-AL     Houston  7   0     NaN NaN     NaN   \n",
       "4     Jason Adam   31      3  Maj-AL   Tampa Bay  6   0 1.00000 NaN 3.00000   \n",
       "5   Austin Adams   32      2  Maj-NL     Arizona  6   0     NaN NaN     NaN   \n",
       "\n",
       "        IP  H  R  ER  BB  SO  HR  HBP     ERA  AB  2B  3B  IBB  GDP  SF  SB  \\\n",
       "1 11.20000  6  0   0   7  10   0    0 0.00000  40   1   0    0    1   0   0   \n",
       "2  2.10000  3  1   1   0   1   1    0 3.86000  10   0   0    0    0   0   0   \n",
       "3  7.10000  8  1   1   2   9   0    0 1.23000  28   2   0    0    1   0   0   \n",
       "4  6.00000  3  1   1   5   7   0    3 1.50000  19   1   0    0    2   0   4   \n",
       "5  4.10000  3  0   0   1   5   0    1 0.00000  16   0   0    0    0   0   0   \n",
       "\n",
       "   CS  PO  BF  Pit     Str     StL     StS   GB/FB      LD      PU    WHIP  \\\n",
       "1   0   0  47  210 0.61000 0.17000 0.07000 0.27000 0.33000 0.03000 1.11400   \n",
       "2   0   0  10   38 0.63000 0.18000 0.05000 0.33000 0.33000 0.11000 1.28600   \n",
       "3   1   0  30  118 0.61000 0.16000 0.14000 0.37000 0.26000 0.11000 1.36400   \n",
       "4   0   0  27  114 0.61000 0.14000 0.18000 0.58000 0.17000 0.00000 1.33300   \n",
       "5   0   0  18   86 0.63000 0.13000 0.13000 0.36000 0.18000 0.09000 0.92300   \n",
       "\n",
       "    BAbip      SO9    SO/W   mlbID  \n",
       "1 0.20000  7.70000 1.43000  671096  \n",
       "2 0.25000  3.90000     NaN  656061  \n",
       "3 0.42100 11.00000 4.50000  650556  \n",
       "4 0.25000 10.50000 1.40000  592094  \n",
       "5 0.27300 10.40000 5.00000  613534  "
      ]
     },
     "execution_count": 12,
     "metadata": {},
     "output_type": "execute_result"
    }
   ],
   "source": [
    "df.head()"
   ]
  },
  {
   "cell_type": "code",
   "execution_count": 13,
   "id": "1e1a8251",
   "metadata": {
    "execution": {
     "iopub.execute_input": "2023-06-15T00:55:20.094309Z",
     "iopub.status.busy": "2023-06-15T00:55:20.094309Z",
     "iopub.status.idle": "2023-06-15T00:55:20.108291Z",
     "shell.execute_reply": "2023-06-15T00:55:20.108291Z"
    }
   },
   "outputs": [
    {
     "data": {
      "text/plain": [
       "Index(['Name', 'Age', '#days', 'Lev', 'Tm', 'G', 'GS', 'W', 'L', 'SV', 'IP',\n",
       "       'H', 'R', 'ER', 'BB', 'SO', 'HR', 'HBP', 'ERA', 'AB', '2B', '3B', 'IBB',\n",
       "       'GDP', 'SF', 'SB', 'CS', 'PO', 'BF', 'Pit', 'Str', 'StL', 'StS',\n",
       "       'GB/FB', 'LD', 'PU', 'WHIP', 'BAbip', 'SO9', 'SO/W', 'mlbID'],\n",
       "      dtype='object')"
      ]
     },
     "execution_count": 13,
     "metadata": {},
     "output_type": "execute_result"
    }
   ],
   "source": [
    "df.columns"
   ]
  },
  {
   "cell_type": "code",
   "execution_count": 14,
   "id": "801e9450",
   "metadata": {
    "execution": {
     "iopub.execute_input": "2023-06-15T00:55:20.110293Z",
     "iopub.status.busy": "2023-06-15T00:55:20.110293Z",
     "iopub.status.idle": "2023-06-15T00:55:20.124290Z",
     "shell.execute_reply": "2023-06-15T00:55:20.124290Z"
    }
   },
   "outputs": [
    {
     "name": "stdout",
     "output_type": "stream",
     "text": [
      "Pre removal  (462, 41)\n",
      "Post removal  (462, 41)\n"
     ]
    }
   ],
   "source": [
    "print(\"Pre removal \", df.shape)\n",
    "#df = df.drop(['#days'], axis = 1)\n",
    "print(\"Post removal \", df.shape)"
   ]
  },
  {
   "cell_type": "code",
   "execution_count": 15,
   "id": "c676e4db",
   "metadata": {
    "execution": {
     "iopub.execute_input": "2023-06-15T00:55:20.126292Z",
     "iopub.status.busy": "2023-06-15T00:55:20.126292Z",
     "iopub.status.idle": "2023-06-15T00:55:20.140294Z",
     "shell.execute_reply": "2023-06-15T00:55:20.140294Z"
    }
   },
   "outputs": [
    {
     "data": {
      "text/plain": [
       "Index(['Name', 'Age', '#days', 'Lev', 'Tm', 'G', 'GS', 'W', 'L', 'SV', 'IP',\n",
       "       'H', 'R', 'ER', 'BB', 'SO', 'HR', 'HBP', 'ERA', 'AB', '2B', '3B', 'IBB',\n",
       "       'GDP', 'SF', 'SB', 'CS', 'PO', 'BF', 'Pit', 'Str', 'StL', 'StS',\n",
       "       'GB/FB', 'LD', 'PU', 'WHIP', 'BAbip', 'SO9', 'SO/W', 'mlbID'],\n",
       "      dtype='object')"
      ]
     },
     "execution_count": 15,
     "metadata": {},
     "output_type": "execute_result"
    }
   ],
   "source": [
    "df.columns"
   ]
  },
  {
   "cell_type": "code",
   "execution_count": 16,
   "id": "da23db85",
   "metadata": {
    "execution": {
     "iopub.execute_input": "2023-06-15T00:55:20.142296Z",
     "iopub.status.busy": "2023-06-15T00:55:20.142296Z",
     "iopub.status.idle": "2023-06-15T00:55:20.156300Z",
     "shell.execute_reply": "2023-06-15T00:55:20.156300Z"
    }
   },
   "outputs": [],
   "source": [
    "# rename columns\n",
    "#df = df.rename(columns = {'xyz': 'abc'})\n",
    "#df.columns"
   ]
  },
  {
   "cell_type": "code",
   "execution_count": 17,
   "id": "7805b053",
   "metadata": {
    "execution": {
     "iopub.execute_input": "2023-06-15T00:55:20.158302Z",
     "iopub.status.busy": "2023-06-15T00:55:20.158302Z",
     "iopub.status.idle": "2023-06-15T00:55:20.172304Z",
     "shell.execute_reply": "2023-06-15T00:55:20.172304Z"
    }
   },
   "outputs": [
    {
     "name": "stdout",
     "output_type": "stream",
     "text": [
      "       count        %\n",
      "Name       0  0.00000\n",
      "Age        0  0.00000\n",
      "#days      0  0.00000\n",
      "Lev        0  0.00000\n",
      "Tm         0  0.00000\n",
      "G          0  0.00000\n",
      "GS         0  0.00000\n",
      "W        311 67.30000\n",
      "L        311 67.30000\n",
      "SV       408 88.30000\n",
      "IP         0  0.00000\n",
      "H          0  0.00000\n",
      "R          0  0.00000\n",
      "ER         0  0.00000\n",
      "BB         0  0.00000\n",
      "SO         0  0.00000\n",
      "HR         0  0.00000\n",
      "HBP        0  0.00000\n",
      "ERA        0  0.00000\n",
      "AB         0  0.00000\n",
      "2B         0  0.00000\n",
      "3B         0  0.00000\n",
      "IBB        0  0.00000\n",
      "GDP        0  0.00000\n",
      "SF         0  0.00000\n",
      "SB         0  0.00000\n",
      "CS         0  0.00000\n",
      "PO         0  0.00000\n",
      "BF         0  0.00000\n",
      "Pit        0  0.00000\n",
      "Str        0  0.00000\n",
      "StL        0  0.00000\n",
      "StS        0  0.00000\n",
      "GB/FB      0  0.00000\n",
      "LD         0  0.00000\n",
      "PU         0  0.00000\n",
      "WHIP       2  0.40000\n",
      "BAbip      0  0.00000\n",
      "SO9        2  0.40000\n",
      "SO/W      78 16.90000\n",
      "mlbID      0  0.00000\n"
     ]
    }
   ],
   "source": [
    "# count nulls\n",
    "counts = df.isna().sum()\n",
    "percentages = round(df.isna().mean() * 100, 1)\n",
    "null_values = pd.concat([counts, percentages], axis=1, keys=[\"count\", \"%\"])\n",
    "print(null_values)"
   ]
  },
  {
   "cell_type": "code",
   "execution_count": 18,
   "id": "02a52628",
   "metadata": {
    "execution": {
     "iopub.execute_input": "2023-06-15T00:55:20.174305Z",
     "iopub.status.busy": "2023-06-15T00:55:20.174305Z",
     "iopub.status.idle": "2023-06-15T00:55:20.188216Z",
     "shell.execute_reply": "2023-06-15T00:55:20.188216Z"
    }
   },
   "outputs": [
    {
     "name": "stdout",
     "output_type": "stream",
     "text": [
      "Pre removal  (462, 41)\n",
      "Post removal  (462, 41)\n"
     ]
    }
   ],
   "source": [
    "# drop nulls\n",
    "print(\"Pre removal \", df.shape)\n",
    "#df = df.dropna()\n",
    "print(\"Post removal \", df.shape)"
   ]
  },
  {
   "cell_type": "code",
   "execution_count": 19,
   "id": "bd451d64",
   "metadata": {
    "execution": {
     "iopub.execute_input": "2023-06-15T00:55:20.190217Z",
     "iopub.status.busy": "2023-06-15T00:55:20.190217Z",
     "iopub.status.idle": "2023-06-15T00:55:20.203481Z",
     "shell.execute_reply": "2023-06-15T00:55:20.203481Z"
    }
   },
   "outputs": [
    {
     "data": {
      "text/plain": [
       "1"
      ]
     },
     "execution_count": 19,
     "metadata": {},
     "output_type": "execute_result"
    }
   ],
   "source": [
    "# count duplicates\n",
    "len(df['Name'])-len(df['Name'].drop_duplicates())"
   ]
  },
  {
   "cell_type": "code",
   "execution_count": 20,
   "id": "89be45c3",
   "metadata": {
    "execution": {
     "iopub.execute_input": "2023-06-15T00:55:20.205485Z",
     "iopub.status.busy": "2023-06-15T00:55:20.205485Z",
     "iopub.status.idle": "2023-06-15T00:55:20.218859Z",
     "shell.execute_reply": "2023-06-15T00:55:20.218859Z"
    }
   },
   "outputs": [
    {
     "name": "stdout",
     "output_type": "stream",
     "text": [
      "Pre removal  (462, 41)\n",
      "Post removal  (461, 41)\n"
     ]
    }
   ],
   "source": [
    "# remove dups\n",
    "\n",
    "print(\"Pre removal \", df.shape)\n",
    "df = df.drop_duplicates(subset=['Name'])\n",
    "print(\"Post removal \", df.shape)"
   ]
  },
  {
   "cell_type": "code",
   "execution_count": 21,
   "id": "b9e6f60f",
   "metadata": {
    "execution": {
     "iopub.execute_input": "2023-06-15T00:55:20.220862Z",
     "iopub.status.busy": "2023-06-15T00:55:20.220862Z",
     "iopub.status.idle": "2023-06-15T00:55:20.234286Z",
     "shell.execute_reply": "2023-06-15T00:55:20.234286Z"
    }
   },
   "outputs": [],
   "source": [
    "# remove outliers\n",
    "\n",
    "#print(\"Pre removal \", df.shape)\n",
    "#df = df[(np.abs(stats.zscore(df['xyz'])) < 3)]\n",
    "#print(\"Post removal \", df.shape)"
   ]
  },
  {
   "cell_type": "markdown",
   "id": "84f96dd2",
   "metadata": {},
   "source": [
    "# Data Restructing"
   ]
  },
  {
   "cell_type": "markdown",
   "id": "8886b789",
   "metadata": {},
   "source": [
    "## Variable Restructing"
   ]
  },
  {
   "cell_type": "markdown",
   "id": "50e0ad8d",
   "metadata": {},
   "source": [
    "### Level"
   ]
  },
  {
   "cell_type": "code",
   "execution_count": 22,
   "id": "4b393c41",
   "metadata": {
    "execution": {
     "iopub.execute_input": "2023-06-15T00:55:20.236287Z",
     "iopub.status.busy": "2023-06-15T00:55:20.236287Z",
     "iopub.status.idle": "2023-06-15T00:55:20.250286Z",
     "shell.execute_reply": "2023-06-15T00:55:20.250286Z"
    }
   },
   "outputs": [],
   "source": [
    "# change column values\n",
    "df['Lev'] = df['Lev'].map({'Maj-AL': 'AL', 'Maj-NL': 'NL'})"
   ]
  },
  {
   "cell_type": "code",
   "execution_count": 23,
   "id": "60a62e29",
   "metadata": {
    "execution": {
     "iopub.execute_input": "2023-06-15T00:55:20.252288Z",
     "iopub.status.busy": "2023-06-15T00:55:20.252288Z",
     "iopub.status.idle": "2023-06-15T00:55:20.266284Z",
     "shell.execute_reply": "2023-06-15T00:55:20.266284Z"
    }
   },
   "outputs": [],
   "source": [
    "# rename column\n",
    "df.rename(columns={'Lev': 'League'}, inplace=True)"
   ]
  },
  {
   "cell_type": "code",
   "execution_count": 24,
   "id": "a2ad6877",
   "metadata": {
    "execution": {
     "iopub.execute_input": "2023-06-15T00:55:20.268287Z",
     "iopub.status.busy": "2023-06-15T00:55:20.268287Z",
     "iopub.status.idle": "2023-06-15T00:55:20.282285Z",
     "shell.execute_reply": "2023-06-15T00:55:20.282285Z"
    }
   },
   "outputs": [
    {
     "data": {
      "text/html": [
       "<div>\n",
       "<style scoped>\n",
       "    .dataframe tbody tr th:only-of-type {\n",
       "        vertical-align: middle;\n",
       "    }\n",
       "\n",
       "    .dataframe tbody tr th {\n",
       "        vertical-align: top;\n",
       "    }\n",
       "\n",
       "    .dataframe thead th {\n",
       "        text-align: right;\n",
       "    }\n",
       "</style>\n",
       "<table border=\"1\" class=\"dataframe\">\n",
       "  <thead>\n",
       "    <tr style=\"text-align: right;\">\n",
       "      <th></th>\n",
       "      <th>Name</th>\n",
       "    </tr>\n",
       "    <tr>\n",
       "      <th>League</th>\n",
       "      <th></th>\n",
       "    </tr>\n",
       "  </thead>\n",
       "  <tbody>\n",
       "    <tr>\n",
       "      <th>AL</th>\n",
       "      <td>232</td>\n",
       "    </tr>\n",
       "    <tr>\n",
       "      <th>NL</th>\n",
       "      <td>228</td>\n",
       "    </tr>\n",
       "  </tbody>\n",
       "</table>\n",
       "</div>"
      ],
      "text/plain": [
       "        Name\n",
       "League      \n",
       "AL       232\n",
       "NL       228"
      ]
     },
     "execution_count": 24,
     "metadata": {},
     "output_type": "execute_result"
    }
   ],
   "source": [
    "# verify changes\n",
    "df[[\"League\", \"Name\"]].groupby(\"League\").count()"
   ]
  },
  {
   "cell_type": "markdown",
   "id": "1226fee2",
   "metadata": {},
   "source": [
    "## Normalizations"
   ]
  },
  {
   "cell_type": "code",
   "execution_count": 25,
   "id": "85bf8b68",
   "metadata": {
    "execution": {
     "iopub.execute_input": "2023-06-15T00:55:20.284288Z",
     "iopub.status.busy": "2023-06-15T00:55:20.284288Z",
     "iopub.status.idle": "2023-06-15T00:55:20.298287Z",
     "shell.execute_reply": "2023-06-15T00:55:20.298287Z"
    }
   },
   "outputs": [],
   "source": [
    "#df=['Volume_norm'] = (df.Volume - df.Volume.mean()) / (df.Volume.max() - df.Volume.mix())\n",
    "#df.columns"
   ]
  },
  {
   "cell_type": "markdown",
   "id": "d8affa2a",
   "metadata": {},
   "source": [
    "## Categorizations"
   ]
  },
  {
   "cell_type": "code",
   "execution_count": 26,
   "id": "2c1573a2",
   "metadata": {
    "execution": {
     "iopub.execute_input": "2023-06-15T00:55:20.300288Z",
     "iopub.status.busy": "2023-06-15T00:55:20.300288Z",
     "iopub.status.idle": "2023-06-15T00:55:20.314286Z",
     "shell.execute_reply": "2023-06-15T00:55:20.314286Z"
    }
   },
   "outputs": [],
   "source": [
    "#normalized = ['Volume_norm', 'Difficulty_norm']"
   ]
  },
  {
   "cell_type": "markdown",
   "id": "53b50c2d",
   "metadata": {},
   "source": [
    "## Calculations"
   ]
  },
  {
   "cell_type": "code",
   "execution_count": 27,
   "id": "11ba890d",
   "metadata": {
    "execution": {
     "iopub.execute_input": "2023-06-15T00:55:20.316287Z",
     "iopub.status.busy": "2023-06-15T00:55:20.316287Z",
     "iopub.status.idle": "2023-06-15T00:55:20.330286Z",
     "shell.execute_reply": "2023-06-15T00:55:20.330286Z"
    }
   },
   "outputs": [],
   "source": [
    "#calculate wOBA on 14 day player batting\n",
    "\n",
    "#df['wOBA'] = (0.69*df['BB'] + 0.72*df['HBP'] + 0.89*df['H'] + 1.27*df['2B'] + 1.62*df['3B'] + 2.10*df['HR']) / (df['AB'] + df['BB'] - df['IBB'] + df['SF'] + df['HBP'])"
   ]
  },
  {
   "cell_type": "code",
   "execution_count": 28,
   "id": "69276c5c",
   "metadata": {
    "execution": {
     "iopub.execute_input": "2023-06-15T00:55:20.332286Z",
     "iopub.status.busy": "2023-06-15T00:55:20.332286Z",
     "iopub.status.idle": "2023-06-15T00:55:20.345298Z",
     "shell.execute_reply": "2023-06-15T00:55:20.345298Z"
    },
    "scrolled": true
   },
   "outputs": [
    {
     "data": {
      "text/html": [
       "<div>\n",
       "<style scoped>\n",
       "    .dataframe tbody tr th:only-of-type {\n",
       "        vertical-align: middle;\n",
       "    }\n",
       "\n",
       "    .dataframe tbody tr th {\n",
       "        vertical-align: top;\n",
       "    }\n",
       "\n",
       "    .dataframe thead th {\n",
       "        text-align: right;\n",
       "    }\n",
       "</style>\n",
       "<table border=\"1\" class=\"dataframe\">\n",
       "  <thead>\n",
       "    <tr style=\"text-align: right;\">\n",
       "      <th></th>\n",
       "      <th>Name</th>\n",
       "      <th>Age</th>\n",
       "      <th>#days</th>\n",
       "      <th>League</th>\n",
       "      <th>Tm</th>\n",
       "      <th>G</th>\n",
       "      <th>GS</th>\n",
       "      <th>W</th>\n",
       "      <th>L</th>\n",
       "      <th>SV</th>\n",
       "      <th>IP</th>\n",
       "      <th>H</th>\n",
       "      <th>R</th>\n",
       "      <th>ER</th>\n",
       "      <th>BB</th>\n",
       "      <th>SO</th>\n",
       "      <th>HR</th>\n",
       "      <th>HBP</th>\n",
       "      <th>ERA</th>\n",
       "      <th>AB</th>\n",
       "      <th>2B</th>\n",
       "      <th>3B</th>\n",
       "      <th>IBB</th>\n",
       "      <th>GDP</th>\n",
       "      <th>SF</th>\n",
       "      <th>SB</th>\n",
       "      <th>CS</th>\n",
       "      <th>PO</th>\n",
       "      <th>BF</th>\n",
       "      <th>Pit</th>\n",
       "      <th>Str</th>\n",
       "      <th>StL</th>\n",
       "      <th>StS</th>\n",
       "      <th>GB/FB</th>\n",
       "      <th>LD</th>\n",
       "      <th>PU</th>\n",
       "      <th>WHIP</th>\n",
       "      <th>BAbip</th>\n",
       "      <th>SO9</th>\n",
       "      <th>SO/W</th>\n",
       "      <th>mlbID</th>\n",
       "    </tr>\n",
       "  </thead>\n",
       "  <tbody>\n",
       "    <tr>\n",
       "      <th>1</th>\n",
       "      <td>Andrew Abbott</td>\n",
       "      <td>24</td>\n",
       "      <td>4</td>\n",
       "      <td>NL</td>\n",
       "      <td>Cincinnati</td>\n",
       "      <td>2</td>\n",
       "      <td>2</td>\n",
       "      <td>2.00000</td>\n",
       "      <td>NaN</td>\n",
       "      <td>NaN</td>\n",
       "      <td>11.20000</td>\n",
       "      <td>6</td>\n",
       "      <td>0</td>\n",
       "      <td>0</td>\n",
       "      <td>7</td>\n",
       "      <td>10</td>\n",
       "      <td>0</td>\n",
       "      <td>0</td>\n",
       "      <td>0.00000</td>\n",
       "      <td>40</td>\n",
       "      <td>1</td>\n",
       "      <td>0</td>\n",
       "      <td>0</td>\n",
       "      <td>1</td>\n",
       "      <td>0</td>\n",
       "      <td>0</td>\n",
       "      <td>0</td>\n",
       "      <td>0</td>\n",
       "      <td>47</td>\n",
       "      <td>210</td>\n",
       "      <td>0.61000</td>\n",
       "      <td>0.17000</td>\n",
       "      <td>0.07000</td>\n",
       "      <td>0.27000</td>\n",
       "      <td>0.33000</td>\n",
       "      <td>0.03000</td>\n",
       "      <td>1.11400</td>\n",
       "      <td>0.20000</td>\n",
       "      <td>7.70000</td>\n",
       "      <td>1.43000</td>\n",
       "      <td>671096</td>\n",
       "    </tr>\n",
       "    <tr>\n",
       "      <th>2</th>\n",
       "      <td>Albert Abreu</td>\n",
       "      <td>27</td>\n",
       "      <td>5</td>\n",
       "      <td>AL</td>\n",
       "      <td>New York</td>\n",
       "      <td>3</td>\n",
       "      <td>0</td>\n",
       "      <td>NaN</td>\n",
       "      <td>NaN</td>\n",
       "      <td>NaN</td>\n",
       "      <td>2.10000</td>\n",
       "      <td>3</td>\n",
       "      <td>1</td>\n",
       "      <td>1</td>\n",
       "      <td>0</td>\n",
       "      <td>1</td>\n",
       "      <td>1</td>\n",
       "      <td>0</td>\n",
       "      <td>3.86000</td>\n",
       "      <td>10</td>\n",
       "      <td>0</td>\n",
       "      <td>0</td>\n",
       "      <td>0</td>\n",
       "      <td>0</td>\n",
       "      <td>0</td>\n",
       "      <td>0</td>\n",
       "      <td>0</td>\n",
       "      <td>0</td>\n",
       "      <td>10</td>\n",
       "      <td>38</td>\n",
       "      <td>0.63000</td>\n",
       "      <td>0.18000</td>\n",
       "      <td>0.05000</td>\n",
       "      <td>0.33000</td>\n",
       "      <td>0.33000</td>\n",
       "      <td>0.11000</td>\n",
       "      <td>1.28600</td>\n",
       "      <td>0.25000</td>\n",
       "      <td>3.90000</td>\n",
       "      <td>NaN</td>\n",
       "      <td>656061</td>\n",
       "    </tr>\n",
       "    <tr>\n",
       "      <th>3</th>\n",
       "      <td>Bryan Abreu</td>\n",
       "      <td>26</td>\n",
       "      <td>1</td>\n",
       "      <td>AL</td>\n",
       "      <td>Houston</td>\n",
       "      <td>7</td>\n",
       "      <td>0</td>\n",
       "      <td>NaN</td>\n",
       "      <td>NaN</td>\n",
       "      <td>NaN</td>\n",
       "      <td>7.10000</td>\n",
       "      <td>8</td>\n",
       "      <td>1</td>\n",
       "      <td>1</td>\n",
       "      <td>2</td>\n",
       "      <td>9</td>\n",
       "      <td>0</td>\n",
       "      <td>0</td>\n",
       "      <td>1.23000</td>\n",
       "      <td>28</td>\n",
       "      <td>2</td>\n",
       "      <td>0</td>\n",
       "      <td>0</td>\n",
       "      <td>1</td>\n",
       "      <td>0</td>\n",
       "      <td>0</td>\n",
       "      <td>1</td>\n",
       "      <td>0</td>\n",
       "      <td>30</td>\n",
       "      <td>118</td>\n",
       "      <td>0.61000</td>\n",
       "      <td>0.16000</td>\n",
       "      <td>0.14000</td>\n",
       "      <td>0.37000</td>\n",
       "      <td>0.26000</td>\n",
       "      <td>0.11000</td>\n",
       "      <td>1.36400</td>\n",
       "      <td>0.42100</td>\n",
       "      <td>11.00000</td>\n",
       "      <td>4.50000</td>\n",
       "      <td>650556</td>\n",
       "    </tr>\n",
       "    <tr>\n",
       "      <th>4</th>\n",
       "      <td>Jason Adam</td>\n",
       "      <td>31</td>\n",
       "      <td>3</td>\n",
       "      <td>AL</td>\n",
       "      <td>Tampa Bay</td>\n",
       "      <td>6</td>\n",
       "      <td>0</td>\n",
       "      <td>1.00000</td>\n",
       "      <td>NaN</td>\n",
       "      <td>3.00000</td>\n",
       "      <td>6.00000</td>\n",
       "      <td>3</td>\n",
       "      <td>1</td>\n",
       "      <td>1</td>\n",
       "      <td>5</td>\n",
       "      <td>7</td>\n",
       "      <td>0</td>\n",
       "      <td>3</td>\n",
       "      <td>1.50000</td>\n",
       "      <td>19</td>\n",
       "      <td>1</td>\n",
       "      <td>0</td>\n",
       "      <td>0</td>\n",
       "      <td>2</td>\n",
       "      <td>0</td>\n",
       "      <td>4</td>\n",
       "      <td>0</td>\n",
       "      <td>0</td>\n",
       "      <td>27</td>\n",
       "      <td>114</td>\n",
       "      <td>0.61000</td>\n",
       "      <td>0.14000</td>\n",
       "      <td>0.18000</td>\n",
       "      <td>0.58000</td>\n",
       "      <td>0.17000</td>\n",
       "      <td>0.00000</td>\n",
       "      <td>1.33300</td>\n",
       "      <td>0.25000</td>\n",
       "      <td>10.50000</td>\n",
       "      <td>1.40000</td>\n",
       "      <td>592094</td>\n",
       "    </tr>\n",
       "    <tr>\n",
       "      <th>5</th>\n",
       "      <td>Austin Adams</td>\n",
       "      <td>32</td>\n",
       "      <td>2</td>\n",
       "      <td>NL</td>\n",
       "      <td>Arizona</td>\n",
       "      <td>6</td>\n",
       "      <td>0</td>\n",
       "      <td>NaN</td>\n",
       "      <td>NaN</td>\n",
       "      <td>NaN</td>\n",
       "      <td>4.10000</td>\n",
       "      <td>3</td>\n",
       "      <td>0</td>\n",
       "      <td>0</td>\n",
       "      <td>1</td>\n",
       "      <td>5</td>\n",
       "      <td>0</td>\n",
       "      <td>1</td>\n",
       "      <td>0.00000</td>\n",
       "      <td>16</td>\n",
       "      <td>0</td>\n",
       "      <td>0</td>\n",
       "      <td>0</td>\n",
       "      <td>0</td>\n",
       "      <td>0</td>\n",
       "      <td>0</td>\n",
       "      <td>0</td>\n",
       "      <td>0</td>\n",
       "      <td>18</td>\n",
       "      <td>86</td>\n",
       "      <td>0.63000</td>\n",
       "      <td>0.13000</td>\n",
       "      <td>0.13000</td>\n",
       "      <td>0.36000</td>\n",
       "      <td>0.18000</td>\n",
       "      <td>0.09000</td>\n",
       "      <td>0.92300</td>\n",
       "      <td>0.27300</td>\n",
       "      <td>10.40000</td>\n",
       "      <td>5.00000</td>\n",
       "      <td>613534</td>\n",
       "    </tr>\n",
       "  </tbody>\n",
       "</table>\n",
       "</div>"
      ],
      "text/plain": [
       "            Name  Age  #days League          Tm  G  GS       W   L      SV  \\\n",
       "1  Andrew Abbott   24      4     NL  Cincinnati  2   2 2.00000 NaN     NaN   \n",
       "2   Albert Abreu   27      5     AL    New York  3   0     NaN NaN     NaN   \n",
       "3    Bryan Abreu   26      1     AL     Houston  7   0     NaN NaN     NaN   \n",
       "4     Jason Adam   31      3     AL   Tampa Bay  6   0 1.00000 NaN 3.00000   \n",
       "5   Austin Adams   32      2     NL     Arizona  6   0     NaN NaN     NaN   \n",
       "\n",
       "        IP  H  R  ER  BB  SO  HR  HBP     ERA  AB  2B  3B  IBB  GDP  SF  SB  \\\n",
       "1 11.20000  6  0   0   7  10   0    0 0.00000  40   1   0    0    1   0   0   \n",
       "2  2.10000  3  1   1   0   1   1    0 3.86000  10   0   0    0    0   0   0   \n",
       "3  7.10000  8  1   1   2   9   0    0 1.23000  28   2   0    0    1   0   0   \n",
       "4  6.00000  3  1   1   5   7   0    3 1.50000  19   1   0    0    2   0   4   \n",
       "5  4.10000  3  0   0   1   5   0    1 0.00000  16   0   0    0    0   0   0   \n",
       "\n",
       "   CS  PO  BF  Pit     Str     StL     StS   GB/FB      LD      PU    WHIP  \\\n",
       "1   0   0  47  210 0.61000 0.17000 0.07000 0.27000 0.33000 0.03000 1.11400   \n",
       "2   0   0  10   38 0.63000 0.18000 0.05000 0.33000 0.33000 0.11000 1.28600   \n",
       "3   1   0  30  118 0.61000 0.16000 0.14000 0.37000 0.26000 0.11000 1.36400   \n",
       "4   0   0  27  114 0.61000 0.14000 0.18000 0.58000 0.17000 0.00000 1.33300   \n",
       "5   0   0  18   86 0.63000 0.13000 0.13000 0.36000 0.18000 0.09000 0.92300   \n",
       "\n",
       "    BAbip      SO9    SO/W   mlbID  \n",
       "1 0.20000  7.70000 1.43000  671096  \n",
       "2 0.25000  3.90000     NaN  656061  \n",
       "3 0.42100 11.00000 4.50000  650556  \n",
       "4 0.25000 10.50000 1.40000  592094  \n",
       "5 0.27300 10.40000 5.00000  613534  "
      ]
     },
     "execution_count": 28,
     "metadata": {},
     "output_type": "execute_result"
    }
   ],
   "source": [
    "df.head()"
   ]
  },
  {
   "cell_type": "markdown",
   "id": "506a503b",
   "metadata": {},
   "source": [
    "## Export Data"
   ]
  },
  {
   "cell_type": "code",
   "execution_count": 29,
   "id": "419b5257",
   "metadata": {
    "execution": {
     "iopub.execute_input": "2023-06-15T00:55:20.347300Z",
     "iopub.status.busy": "2023-06-15T00:55:20.347300Z",
     "iopub.status.idle": "2023-06-15T00:55:20.377147Z",
     "shell.execute_reply": "2023-06-15T00:55:20.376952Z"
    }
   },
   "outputs": [],
   "source": [
    "#EXPORT\n",
    "\n",
    "df.to_csv('C:\\\\Users\\\\b7tbu\\\\JUPYTER PROJECTS\\\\ANALYTICO\\\\Data_Exports\\\\Player\\\\Pitching\\\\EXPORT_14day.csv', index=False)"
   ]
  },
  {
   "cell_type": "code",
   "execution_count": null,
   "id": "a5380208",
   "metadata": {},
   "outputs": [],
   "source": []
  },
  {
   "cell_type": "code",
   "execution_count": null,
   "id": "fa906cef",
   "metadata": {},
   "outputs": [],
   "source": []
  },
  {
   "cell_type": "code",
   "execution_count": null,
   "id": "5a8cfd32",
   "metadata": {},
   "outputs": [],
   "source": []
  }
 ],
 "metadata": {
  "kernelspec": {
   "display_name": "Python 3 (ipykernel)",
   "language": "python",
   "name": "python3"
  },
  "language_info": {
   "codemirror_mode": {
    "name": "ipython",
    "version": 3
   },
   "file_extension": ".py",
   "mimetype": "text/x-python",
   "name": "python",
   "nbconvert_exporter": "python",
   "pygments_lexer": "ipython3",
   "version": "3.10.9"
  }
 },
 "nbformat": 4,
 "nbformat_minor": 5
}
