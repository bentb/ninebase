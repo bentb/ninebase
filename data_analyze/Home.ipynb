{
 "cells": [
  {
   "cell_type": "markdown",
   "id": "923c1a07",
   "metadata": {},
   "source": [
    "# ninebase Home Page"
   ]
  },
  {
   "cell_type": "code",
   "execution_count": 2,
   "id": "b78329ab",
   "metadata": {},
   "outputs": [],
   "source": [
    "import streamlit as st"
   ]
  },
  {
   "cell_type": "code",
   "execution_count": 3,
   "id": "37a27189",
   "metadata": {},
   "outputs": [],
   "source": [
    "st.set_page_config(\n",
    "    page_title=\"ninebase\",\n",
    "    page_icon=\"⚾\",\n",
    "    layout=\"centered\",\n",
    "    initial_sidebar_state=\"expanded\",\n",
    "    menu_items={\n",
    "        'Report a bug': 'https://www.extremelycoolapp.com/help',\n",
    "        'Get help': \"https://www.extremelycoolapp.com/bug\",\n",
    "        'About': \"# This is a header. This is an *extremely* cool app!\"\n",
    "    }\n",
    ")"
   ]
  },
  {
   "cell_type": "code",
   "execution_count": 4,
   "id": "cfa4cb3e",
   "metadata": {},
   "outputs": [],
   "source": [
    "def add_logo():\n",
    "    st.markdown(\n",
    "        \"\"\"\n",
    "        <style>\n",
    "            [data-testid=\"stSidebarNav\"] {\n",
    "                background-image: url(https://i.imgur.com/sLSMBYJ.png);\n",
    "                background-repeat: no-repeat;\n",
    "                padding-top: 40px;\n",
    "                background-position: 20px 20px;\n",
    "            }\n",
    "            [data-testid=\"stSidebarNav\"]::before {\n",
    "                content: \"Navigation Menu\";\n",
    "                margin-left: 20px;\n",
    "                margin-top: 20px;\n",
    "                font-size: 26px;\n",
    "                position: relative;\n",
    "                top: 100px;\n",
    "            }\n",
    "        </style>\n",
    "        \"\"\",\n",
    "        unsafe_allow_html=True,\n",
    "    )"
   ]
  },
  {
   "cell_type": "code",
   "execution_count": 5,
   "id": "9f65a7a4",
   "metadata": {},
   "outputs": [
    {
     "name": "stderr",
     "output_type": "stream",
     "text": [
      "2023-07-09 22:23:51.270 \n",
      "  \u001b[33m\u001b[1mWarning:\u001b[0m to view this Streamlit app on a browser, run it with the following\n",
      "  command:\n",
      "\n",
      "    streamlit run C:\\Users\\b7tbu\\anaconda3\\envs\\ninebase\\lib\\site-packages\\ipykernel_launcher.py [ARGUMENTS]\n"
     ]
    }
   ],
   "source": [
    "add_logo()"
   ]
  },
  {
   "cell_type": "code",
   "execution_count": 16,
   "id": "ff21335e",
   "metadata": {},
   "outputs": [
    {
     "data": {
      "text/plain": [
       "DeltaGenerator()"
      ]
     },
     "execution_count": 16,
     "metadata": {},
     "output_type": "execute_result"
    }
   ],
   "source": [
    "# Define the layout\n",
    "st.markdown(\n",
    "    \"\"\"\n",
    "    <style>\n",
    "        body {\n",
    "            display: flex;\n",
    "            flex-direction: column;\n",
    "            justify-content: center;\n",
    "            align-items: center;\n",
    "            height: 100vh;\n",
    "            margin: 0;\n",
    "        }\n",
    "\n",
    "        .container {\n",
    "            display: flex;\n",
    "            flex-direction: column;\n",
    "            justify-content: center;\n",
    "            align-items: center;\n",
    "            flex: 1;\n",
    "            max-width: 800px;\n",
    "            margin-top: 0; /* Remove top margin */\n",
    "            padding-top: 0; /* Remove top padding */\n",
    "        }\n",
    "\n",
    "        .title {\n",
    "            font-size: 48px;\n",
    "            font-weight: bold;\n",
    "            margin-bottom: 12px;\n",
    "            margin-top: 0; /* Remove top margin */\n",
    "        }\n",
    "\n",
    "        .description {\n",
    "            font-size: 24px;\n",
    "            margin-bottom: 96px;\n",
    "            margin-top: 0; /* Remove top margin */\n",
    "        }\n",
    "\n",
    "        .cta-button a {\n",
    "            color: white;\n",
    "            display: block;\n",
    "            text-align: center;\n",
    "            padding: 12px 24px;\n",
    "            border-radius: 8px;\n",
    "            background-color: darkslategrey;\n",
    "            text-decoration: none;\n",
    "            transition: background-color 0.3s;\n",
    "        }\n",
    "\n",
    "        .cta-button a:hover {\n",
    "            background-color: #366e6e;\n",
    "        }\n",
    "    </style>\n",
    "    \"\"\",\n",
    "    unsafe_allow_html=True\n",
    ")\n",
    "\n",
    "# Render the home screen\n",
    "st.markdown('<div class=\"container\">', unsafe_allow_html=True)\n",
    "st.markdown('<h1 class=\"title\">ninebase</h1>', unsafe_allow_html=True)\n",
    "st.markdown('<p class=\"description\">identify who is hot, and who is not</p>', unsafe_allow_html=True)\n",
    "\n",
    "col1, col2, col3 = st.columns(3)  # Adjust the number of columns as needed\n",
    "\n",
    "with col1:\n",
    "    st.markdown('<div class=\"cta-button\"><a href=\"https://ninebase.streamlit.app/player_batting_season\">Batting Stats</a></div>', unsafe_allow_html=True)\n",
    "\n",
    "with col2:\n",
    "    st.markdown('<div class=\"cta-button\"><a href=\"https://ninebase.streamlit.app/player_pitching_season\">*Pitching Stats*</a></div>', unsafe_allow_html=True)\n",
    "\n",
    "with col3:\n",
    "    st.markdown('<div class=\"cta-button\"><a href=\"https://ninebase.streamlit.app/team_stats\">*Team Stats*</a></div>', unsafe_allow_html=True)\n",
    "\n",
    "st.markdown('</div>', unsafe_allow_html=True)\n"
   ]
  },
  {
   "cell_type": "code",
   "execution_count": null,
   "id": "fe05b73f",
   "metadata": {},
   "outputs": [],
   "source": [
    "st.write(\"#\")"
   ]
  },
  {
   "cell_type": "code",
   "execution_count": null,
   "id": "882cb2da",
   "metadata": {},
   "outputs": [],
   "source": [
    "from PIL import Image\n",
    "\n",
    "header_img = Image.open('assets/cards_at_mets.jpg')\n",
    "\n",
    "st.image(header_img)"
   ]
  },
  {
   "cell_type": "code",
   "execution_count": null,
   "id": "4bcda63d",
   "metadata": {},
   "outputs": [],
   "source": [
    "st.divider()"
   ]
  }
 ],
 "metadata": {
  "kernelspec": {
   "display_name": "Python 3 (ipykernel)",
   "language": "python",
   "name": "python3"
  },
  "language_info": {
   "codemirror_mode": {
    "name": "ipython",
    "version": 3
   },
   "file_extension": ".py",
   "mimetype": "text/x-python",
   "name": "python",
   "nbconvert_exporter": "python",
   "pygments_lexer": "ipython3",
   "version": "3.10.11"
  }
 },
 "nbformat": 4,
 "nbformat_minor": 5
}
