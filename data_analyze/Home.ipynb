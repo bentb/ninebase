{
 "cells": [
  {
   "cell_type": "markdown",
   "id": "923c1a07",
   "metadata": {},
   "source": [
    "# ninebase Home Page"
   ]
  },
  {
   "cell_type": "code",
   "execution_count": 2,
   "id": "b78329ab",
   "metadata": {},
   "outputs": [],
   "source": [
    "import streamlit as st"
   ]
  },
  {
   "cell_type": "code",
   "execution_count": 3,
   "id": "37a27189",
   "metadata": {},
   "outputs": [],
   "source": [
    "st.set_page_config(\n",
    "    page_title=\"ninebase\",\n",
    "    page_icon=\"⚾\",\n",
    "    layout=\"centered\",\n",
    "    initial_sidebar_state=\"expanded\",\n",
    "    menu_items={\n",
    "        'Report a bug': 'https://www.extremelycoolapp.com/help',\n",
    "        'Get help': \"https://www.extremelycoolapp.com/bug\",\n",
    "        'About': \"# This is a header. This is an *extremely* cool app!\"\n",
    "    }\n",
    ")"
   ]
  },
  {
   "cell_type": "code",
   "execution_count": 17,
   "id": "cfa4cb3e",
   "metadata": {},
   "outputs": [],
   "source": [
    "def add_logo():\n",
    "    st.markdown(\n",
    "        \"\"\"\n",
    "        <style>\n",
    "            [data-testid=\"stSidebarNav\"] {\n",
    "                background-image: url(https://i.imgur.com/sLSMBYJ.png);\n",
    "                background-repeat: no-repeat;\n",
    "                padding-top: 40px;\n",
    "                background-position: 20px 20px;\n",
    "            }\n",
    "            [data-testid=\"stSidebarNav\"]::before {\n",
    "                content: \"Navigation Menu\";\n",
    "                margin-left: 20px;\n",
    "                margin-top: 20px;\n",
    "                font-size: 26px;\n",
    "                position: relative;\n",
    "                top: 100px;\n",
    "            }\n",
    "        </style>\n",
    "        \"\"\",\n",
    "        unsafe_allow_html=True,\n",
    "    )"
   ]
  },
  {
   "cell_type": "code",
   "execution_count": 18,
   "id": "9f65a7a4",
   "metadata": {},
   "outputs": [],
   "source": [
    "add_logo()"
   ]
  },
  {
   "cell_type": "code",
   "execution_count": 26,
   "id": "2d11a13a",
   "metadata": {},
   "outputs": [],
   "source": [
    "import streamlit as st\n",
    "from datetime import datetime, timedelta\n",
    "import time\n",
    "\n",
    "def countdown_to_october_3():\n",
    "    # Create an empty placeholder\n",
    "    countdown_placeholder = st.empty()\n",
    "\n",
    "    # Update the countdown every second\n",
    "    while True:\n",
    "        # Get the current date and time\n",
    "        now = datetime.now()\n",
    "\n",
    "        # Set the target date as October 3rd\n",
    "        target_date = datetime(now.year, 10, 3)\n",
    "\n",
    "        # Calculate the remaining time\n",
    "        remaining_time = target_date - now\n",
    "\n",
    "        # Format the remaining time as a countdown string\n",
    "        countdown_str = f\"{remaining_time.days} days, {remaining_time.seconds // 3600} hours, \" \\\n",
    "                        f\"{(remaining_time.seconds % 3600) // 60} minutes, {remaining_time.seconds % 60} seconds\"\n",
    "\n",
    "        # Display the countdown\n",
    "        countdown_text = f\"<p style='text-align: right; font-size: 24px; color: red;'>{countdown_str}</p>\"\n",
    "        countdown_placeholder.markdown(countdown_text, unsafe_allow_html=True)\n",
    "\n",
    "        # Wait for 1 second before updating again\n",
    "        time.sleep(1)\n",
    "\n",
    "# Configure Streamlit layout\n",
    "st.markdown(\"<style>body {background-color: #f5f5f5;}</style>\", unsafe_allow_html=True)\n",
    "\n"
   ]
  },
  {
   "cell_type": "code",
   "execution_count": 25,
   "id": "6f77c60d",
   "metadata": {},
   "outputs": [],
   "source": [
    "# Define the layout\n",
    "st.markdown(\n",
    "    \"\"\"\n",
    "    <style>\n",
    "        body {\n",
    "            display: flex;\n",
    "            flex-direction: column;\n",
    "            justify-content: center;\n",
    "            align-items: center;\n",
    "            height: 100vh;\n",
    "            margin: 0;\n",
    "        }\n",
    "\n",
    "        .title {\n",
    "            font-size: 48px;\n",
    "            font-weight: bold;\n",
    "            margin-bottom: 12px;\n",
    "        }\n",
    "\n",
    "        .description {\n",
    "            font-size: 24px;\n",
    "            margin-bottom: 96px;\n",
    "        }\n",
    "\n",
    "        .cta-button a {\n",
    "            color: white;\n",
    "            display: block;\n",
    "            text-align: center;\n",
    "            padding: 12px 24px;\n",
    "            border-radius: 8px;\n",
    "            background-color: darkslategrey;\n",
    "            text-decoration: none;\n",
    "            transition: background-color 0.3s;\n",
    "        }\n",
    "\n",
    "        .cta-button a:hover {\n",
    "            background-color: #366e6e;\n",
    "        }\n",
    "    </style>\n",
    "    \"\"\",\n",
    "    unsafe_allow_html=True\n",
    ")\n",
    "\n",
    "# Render the home screen\n",
    "st.markdown('<div class=\"title\">ninebase</div>', unsafe_allow_html=True)\n",
    "st.markdown('<p class=\"description\">identify who is hot, and who is not</p>', unsafe_allow_html=True)\n",
    "\n",
    "col1, col2, col3 = st.columns(3)  # Adjust the number of columns as needed\n",
    "\n",
    "with col1:\n",
    "    st.markdown('<div class=\"cta-button\"><a href=\"https://ninebase.streamlit.app/player_batting_season\">Batting Stats</a></div>', unsafe_allow_html=True)\n",
    "\n",
    "with col2:\n",
    "    st.markdown('<div class=\"cta-button\"><a href=\"https://ninebase.streamlit.app/player_pitching_season\">*Pitching Stats*</a></div>', unsafe_allow_html=True)\n",
    "\n",
    "with col3:\n",
    "    st.markdown('<div class=\"cta-button\"><a href=\"https://ninebase.streamlit.app/team_stats\">*Team Stats*</a></div>', unsafe_allow_html=True)"
   ]
  },
  {
   "cell_type": "code",
   "execution_count": null,
   "id": "f7e51a7e",
   "metadata": {},
   "outputs": [],
   "source": [
    "st.write(\"#\")"
   ]
  },
  {
   "cell_type": "code",
   "execution_count": null,
   "id": "cdf797b8",
   "metadata": {},
   "outputs": [],
   "source": [
    "from PIL import Image\n",
    "\n",
    "header_img = Image.open('assets/cards_at_mets.jpg')\n",
    "\n",
    "st.image(header_img)"
   ]
  },
  {
   "cell_type": "code",
   "execution_count": null,
   "id": "d702b1f3",
   "metadata": {},
   "outputs": [],
   "source": [
    "st.divider()"
   ]
  }
 ],
 "metadata": {
  "kernelspec": {
   "display_name": "Python 3 (ipykernel)",
   "language": "python",
   "name": "python3"
  },
  "language_info": {
   "codemirror_mode": {
    "name": "ipython",
    "version": 3
   },
   "file_extension": ".py",
   "mimetype": "text/x-python",
   "name": "python",
   "nbconvert_exporter": "python",
   "pygments_lexer": "ipython3",
   "version": "3.10.11"
  }
 },
 "nbformat": 4,
 "nbformat_minor": 5
}
