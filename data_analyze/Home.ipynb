{
 "cells": [
  {
   "cell_type": "markdown",
   "id": "923c1a07",
   "metadata": {},
   "source": [
    "# ninebase Home Page"
   ]
  },
  {
   "cell_type": "code",
   "execution_count": 27,
   "id": "b78329ab",
   "metadata": {},
   "outputs": [],
   "source": [
    "import streamlit as st"
   ]
  },
  {
   "cell_type": "code",
   "execution_count": 28,
   "id": "37a27189",
   "metadata": {},
   "outputs": [],
   "source": [
    "st.set_page_config(\n",
    "    page_title=\"ninebase\",\n",
    "    page_icon=\"⚾\",\n",
    "    layout=\"wide\",\n",
    "    initial_sidebar_state=\"expanded\",\n",
    "    menu_items={\n",
    "        'Report a bug': 'https://www.extremelycoolapp.com/help',\n",
    "        'Get help': \"https://www.extremelycoolapp.com/bug\",\n",
    "        'About': \"# This is a header. This is an *extremely* cool app!\"\n",
    "    }\n",
    ")"
   ]
  },
  {
   "cell_type": "code",
   "execution_count": 29,
   "id": "cfa4cb3e",
   "metadata": {},
   "outputs": [],
   "source": [
    "def add_logo():\n",
    "    st.markdown(\n",
    "        \"\"\"\n",
    "        <style>\n",
    "            [data-testid=\"stSidebarNav\"] {\n",
    "                background-image: url(https://i.imgur.com/sLSMBYJ.png);\n",
    "                background-repeat: no-repeat;\n",
    "                padding-top: 40px;\n",
    "                background-position: 20px 20px;\n",
    "            }\n",
    "            [data-testid=\"stSidebarNav\"]::before {\n",
    "                content: \"Navigation Menu\";\n",
    "                margin-left: 20px;\n",
    "                margin-top: 20px;\n",
    "                font-size: 26px;\n",
    "                position: relative;\n",
    "                top: 100px;\n",
    "            }\n",
    "        </style>\n",
    "        \"\"\",\n",
    "        unsafe_allow_html=True,\n",
    "    )"
   ]
  },
  {
   "cell_type": "code",
   "execution_count": 30,
   "id": "9f65a7a4",
   "metadata": {},
   "outputs": [],
   "source": [
    "add_logo()"
   ]
  },
  {
   "cell_type": "code",
   "execution_count": 31,
   "id": "88fbdddf",
   "metadata": {},
   "outputs": [
    {
     "ename": "FileNotFoundError",
     "evalue": "[Errno 2] No such file or directory: 'assets/cards_at_mets.jpg'",
     "output_type": "error",
     "traceback": [
      "\u001b[1;31m---------------------------------------------------------------------------\u001b[0m",
      "\u001b[1;31mFileNotFoundError\u001b[0m                         Traceback (most recent call last)",
      "Cell \u001b[1;32mIn[31], line 5\u001b[0m\n\u001b[0;32m      1\u001b[0m \u001b[38;5;66;03m# Add Assets\u001b[39;00m\n\u001b[0;32m      3\u001b[0m \u001b[38;5;28;01mfrom\u001b[39;00m \u001b[38;5;21;01mPIL\u001b[39;00m \u001b[38;5;28;01mimport\u001b[39;00m Image\n\u001b[1;32m----> 5\u001b[0m header_img \u001b[38;5;241m=\u001b[39m \u001b[43mImage\u001b[49m\u001b[38;5;241;43m.\u001b[39;49m\u001b[43mopen\u001b[49m\u001b[43m(\u001b[49m\u001b[38;5;124;43m'\u001b[39;49m\u001b[38;5;124;43massets/cards_at_mets.jpg\u001b[39;49m\u001b[38;5;124;43m'\u001b[39;49m\u001b[43m)\u001b[49m\n",
      "File \u001b[1;32m~\\anaconda3\\envs\\ninebase\\lib\\site-packages\\PIL\\Image.py:3236\u001b[0m, in \u001b[0;36mopen\u001b[1;34m(fp, mode, formats)\u001b[0m\n\u001b[0;32m   3233\u001b[0m     filename \u001b[38;5;241m=\u001b[39m fp\n\u001b[0;32m   3235\u001b[0m \u001b[38;5;28;01mif\u001b[39;00m filename:\n\u001b[1;32m-> 3236\u001b[0m     fp \u001b[38;5;241m=\u001b[39m \u001b[43mbuiltins\u001b[49m\u001b[38;5;241;43m.\u001b[39;49m\u001b[43mopen\u001b[49m\u001b[43m(\u001b[49m\u001b[43mfilename\u001b[49m\u001b[43m,\u001b[49m\u001b[43m \u001b[49m\u001b[38;5;124;43m\"\u001b[39;49m\u001b[38;5;124;43mrb\u001b[39;49m\u001b[38;5;124;43m\"\u001b[39;49m\u001b[43m)\u001b[49m\n\u001b[0;32m   3237\u001b[0m     exclusive_fp \u001b[38;5;241m=\u001b[39m \u001b[38;5;28;01mTrue\u001b[39;00m\n\u001b[0;32m   3239\u001b[0m \u001b[38;5;28;01mtry\u001b[39;00m:\n",
      "\u001b[1;31mFileNotFoundError\u001b[0m: [Errno 2] No such file or directory: 'assets/cards_at_mets.jpg'"
     ]
    }
   ],
   "source": [
    "# Add Assets\n",
    "\n",
    "from PIL import Image\n",
    "\n",
    "header_img = Image.open('assets/cards_at_mets.jpg')"
   ]
  },
  {
   "cell_type": "code",
   "execution_count": 37,
   "id": "d65c2247",
   "metadata": {},
   "outputs": [],
   "source": [
    "import streamlit as st\n",
    "from datetime import datetime\n",
    "\n",
    "def countdown_to_playoffs():\n",
    "    # Get the current date\n",
    "    now = datetime.now().date()\n",
    "\n",
    "    # Set the target date as October 3rd\n",
    "    target_date = datetime(now.year, 10, 3).date()\n",
    "\n",
    "    # Calculate the remaining days\n",
    "    remaining_days = (target_date - now).days\n",
    "\n",
    "    # Customize the countdown style\n",
    "    countdown_style = f\"<p style='text-align: right; color: darkslategrey; font-size: 18px; padding: 0; margin: 0;'>Days until playoffs: <span style='font-size: 32px;'>{remaining_days}</span></p>\"\n",
    "\n",
    "    # Display the countdown\n",
    "    st.markdown(countdown_style, unsafe_allow_html=True)\n"
   ]
  },
  {
   "cell_type": "code",
   "execution_count": 35,
   "id": "0d7e88fa",
   "metadata": {},
   "outputs": [],
   "source": [
    "st.markdown(\n",
    "    \"\"\"\n",
    "    <style>\n",
    "        body {\n",
    "            display: flex;\n",
    "            flex-direction: row;\n",
    "            justify-content: center;\n",
    "            align-items: flex-start;\n",
    "            height: 100vh;\n",
    "            margin: 0;\n",
    "        }\n",
    "\n",
    "        .title {\n",
    "            font-size: 46px;\n",
    "            font-weight: bold;\n",
    "            margin-bottom: 12px;\n",
    "            font-family: Lato, sans-serif;\n",
    "            color: darkslategrey;\n",
    "        }\n",
    "\n",
    "        .description {\n",
    "            font-size: 24px;\n",
    "            margin-bottom: 96px;\n",
    "            font-family: Lato, sans-serif;\n",
    "        }\n",
    "\n",
    "        .cta-button {\n",
    "            display: flex;\n",
    "            flex-direction: column;\n",
    "            align-items: center;\n",
    "            margin-bottom: 24px;\n",
    "        }\n",
    "\n",
    "        .cta-button a {\n",
    "            color: white;\n",
    "            display: block;\n",
    "            text-align: center;\n",
    "            padding: 12px 24px;\n",
    "            border-radius: 8px;\n",
    "            background-color: darkslategrey;\n",
    "            text-decoration: none;\n",
    "            transition: background-color 0.3s;\n",
    "            font-family: Lato, sans-serif;\n",
    "            font-size: 16px;\n",
    "            font-weight: bold;\n",
    "        }\n",
    "\n",
    "        .cta-button a:hover {\n",
    "            background-color: #366e6e;\n",
    "        }\n",
    "    </style>\n",
    "    \"\"\",\n",
    "    unsafe_allow_html=True\n",
    ")\n",
    "\n",
    "\n",
    "col1, col2, col3 = st.columns([2, 6, 2])\n",
    "\n",
    "with col1:\n",
    "    st.write(\"#\")\n",
    "\n",
    "with col2:\n",
    "    st.markdown('<div class=\"title\">ninebase</div>', unsafe_allow_html=True)\n",
    "    st.markdown('<p class=\"description\">identify who is hot, and who is not</p>', unsafe_allow_html=True)\n",
    "\n",
    "    col_cta1, col_cta2, col_cta3 = st.columns(3)\n",
    "\n",
    "    with col_cta1:\n",
    "        st.markdown('<div class=\"cta-button\"><a href=\"https://ninebase.streamlit.app/player_batting_season\">Batting Stats</a></div>', unsafe_allow_html=True)\n",
    "\n",
    "    with col_cta2:\n",
    "        st.markdown('<div class=\"cta-button\"><a href=\"https://ninebase.streamlit.app/player_pitching_season\">*Pitching Stats*</a></div>', unsafe_allow_html=True)\n",
    "\n",
    "    with col_cta3:\n",
    "        st.markdown('<div class=\"cta-button\"><a href=\"https://ninebase.streamlit.app/team_stats\">*Team Stats*</a></div>', unsafe_allow_html=True)\n",
    "\n",
    "with col3:\n",
    "    countdown_to_playoffs()"
   ]
  },
  {
   "cell_type": "code",
   "execution_count": 36,
   "id": "976a3409",
   "metadata": {},
   "outputs": [
    {
     "ename": "FileNotFoundError",
     "evalue": "[Errno 2] No such file or directory: 'assets/cards_at_mets.jpg'",
     "output_type": "error",
     "traceback": [
      "\u001b[1;31m---------------------------------------------------------------------------\u001b[0m",
      "\u001b[1;31mFileNotFoundError\u001b[0m                         Traceback (most recent call last)",
      "Cell \u001b[1;32mIn[36], line 3\u001b[0m\n\u001b[0;32m      1\u001b[0m \u001b[38;5;28;01mfrom\u001b[39;00m \u001b[38;5;21;01mPIL\u001b[39;00m \u001b[38;5;28;01mimport\u001b[39;00m Image\n\u001b[1;32m----> 3\u001b[0m header_img \u001b[38;5;241m=\u001b[39m \u001b[43mImage\u001b[49m\u001b[38;5;241;43m.\u001b[39;49m\u001b[43mopen\u001b[49m\u001b[43m(\u001b[49m\u001b[38;5;124;43m'\u001b[39;49m\u001b[38;5;124;43massets/cards_at_mets.jpg\u001b[39;49m\u001b[38;5;124;43m'\u001b[39;49m\u001b[43m)\u001b[49m\n",
      "File \u001b[1;32m~\\anaconda3\\envs\\ninebase\\lib\\site-packages\\PIL\\Image.py:3236\u001b[0m, in \u001b[0;36mopen\u001b[1;34m(fp, mode, formats)\u001b[0m\n\u001b[0;32m   3233\u001b[0m     filename \u001b[38;5;241m=\u001b[39m fp\n\u001b[0;32m   3235\u001b[0m \u001b[38;5;28;01mif\u001b[39;00m filename:\n\u001b[1;32m-> 3236\u001b[0m     fp \u001b[38;5;241m=\u001b[39m \u001b[43mbuiltins\u001b[49m\u001b[38;5;241;43m.\u001b[39;49m\u001b[43mopen\u001b[49m\u001b[43m(\u001b[49m\u001b[43mfilename\u001b[49m\u001b[43m,\u001b[49m\u001b[43m \u001b[49m\u001b[38;5;124;43m\"\u001b[39;49m\u001b[38;5;124;43mrb\u001b[39;49m\u001b[38;5;124;43m\"\u001b[39;49m\u001b[43m)\u001b[49m\n\u001b[0;32m   3237\u001b[0m     exclusive_fp \u001b[38;5;241m=\u001b[39m \u001b[38;5;28;01mTrue\u001b[39;00m\n\u001b[0;32m   3239\u001b[0m \u001b[38;5;28;01mtry\u001b[39;00m:\n",
      "\u001b[1;31mFileNotFoundError\u001b[0m: [Errno 2] No such file or directory: 'assets/cards_at_mets.jpg'"
     ]
    }
   ],
   "source": [
    "from PIL import Image\n",
    "\n",
    "header_img = Image.open('assets/cards_at_mets.jpg')"
   ]
  },
  {
   "cell_type": "code",
   "execution_count": null,
   "id": "63482d6b",
   "metadata": {},
   "outputs": [],
   "source": [
    "col1, col2, col3 = st.columns([2, 6, 2])\n",
    "\n",
    "with col1:\n",
    "    st.write(\"#\")\n",
    "\n",
    "with col2:\n",
    "    col2_content = st.container()\n",
    "    with col2_content:\n",
    "        st.image('assets/cards_at_mets.jpg')\n",
    "        st.divider()\n",
    "\n",
    "with col3:\n",
    "    st.write(\"#\")"
   ]
  }
 ],
 "metadata": {
  "kernelspec": {
   "display_name": "Python 3 (ipykernel)",
   "language": "python",
   "name": "python3"
  },
  "language_info": {
   "codemirror_mode": {
    "name": "ipython",
    "version": 3
   },
   "file_extension": ".py",
   "mimetype": "text/x-python",
   "name": "python",
   "nbconvert_exporter": "python",
   "pygments_lexer": "ipython3",
   "version": "3.10.11"
  }
 },
 "nbformat": 4,
 "nbformat_minor": 5
}
