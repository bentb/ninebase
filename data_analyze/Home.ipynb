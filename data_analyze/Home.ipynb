{
 "cells": [
  {
   "cell_type": "markdown",
   "id": "923c1a07",
   "metadata": {},
   "source": [
    "# ninebase Home Page"
   ]
  },
  {
   "cell_type": "code",
   "execution_count": 2,
   "id": "b78329ab",
   "metadata": {},
   "outputs": [],
   "source": [
    "import streamlit as st"
   ]
  },
  {
   "cell_type": "code",
   "execution_count": 3,
   "id": "37a27189",
   "metadata": {},
   "outputs": [],
   "source": [
    "st.set_page_config(\n",
    "    page_title=\"ninebase\",\n",
    "    page_icon=\"👋\",\n",
    "    layout=\"centered\",\n",
    "    initial_sidebar_state=\"expanded\",\n",
    "    menu_items={\n",
    "        'Report a bug': 'https://www.extremelycoolapp.com/help',\n",
    "        'Get help': \"https://www.extremelycoolapp.com/bug\",\n",
    "        'About': \"# This is a header. This is an *extremely* cool app!\"\n",
    "    }\n",
    ")"
   ]
  },
  {
   "cell_type": "code",
   "execution_count": 4,
   "id": "cfa4cb3e",
   "metadata": {},
   "outputs": [],
   "source": [
    "def add_logo():\n",
    "    st.markdown(\n",
    "        \"\"\"\n",
    "        <style>\n",
    "            [data-testid=\"stSidebarNav\"] {\n",
    "                background-image: url(https://i.imgur.com/sLSMBYJ.png);\n",
    "                background-repeat: no-repeat;\n",
    "                padding-top: 40px;\n",
    "                background-position: 20px 20px;\n",
    "            }\n",
    "            [data-testid=\"stSidebarNav\"]::before {\n",
    "                content: \"Navigation Menu\";\n",
    "                margin-left: 20px;\n",
    "                margin-top: 20px;\n",
    "                font-size: 26px;\n",
    "                position: relative;\n",
    "                top: 100px;\n",
    "            }\n",
    "        </style>\n",
    "        \"\"\",\n",
    "        unsafe_allow_html=True,\n",
    "    )"
   ]
  },
  {
   "cell_type": "code",
   "execution_count": 5,
   "id": "9f65a7a4",
   "metadata": {},
   "outputs": [
    {
     "name": "stderr",
     "output_type": "stream",
     "text": [
      "2023-07-09 22:23:51.270 \n",
      "  \u001b[33m\u001b[1mWarning:\u001b[0m to view this Streamlit app on a browser, run it with the following\n",
      "  command:\n",
      "\n",
      "    streamlit run C:\\Users\\b7tbu\\anaconda3\\envs\\ninebase\\lib\\site-packages\\ipykernel_launcher.py [ARGUMENTS]\n"
     ]
    }
   ],
   "source": [
    "add_logo()"
   ]
  },
  {
   "cell_type": "code",
   "execution_count": 6,
   "id": "1dec1785",
   "metadata": {},
   "outputs": [
    {
     "ename": "FileNotFoundError",
     "evalue": "[Errno 2] No such file or directory: 'assets/cards_at_mets.jpg'",
     "output_type": "error",
     "traceback": [
      "\u001b[1;31m---------------------------------------------------------------------------\u001b[0m",
      "\u001b[1;31mFileNotFoundError\u001b[0m                         Traceback (most recent call last)",
      "Cell \u001b[1;32mIn[6], line 3\u001b[0m\n\u001b[0;32m      1\u001b[0m \u001b[38;5;28;01mfrom\u001b[39;00m \u001b[38;5;21;01mPIL\u001b[39;00m \u001b[38;5;28;01mimport\u001b[39;00m Image\n\u001b[1;32m----> 3\u001b[0m header_img \u001b[38;5;241m=\u001b[39m \u001b[43mImage\u001b[49m\u001b[38;5;241;43m.\u001b[39;49m\u001b[43mopen\u001b[49m\u001b[43m(\u001b[49m\u001b[38;5;124;43m'\u001b[39;49m\u001b[38;5;124;43massets/cards_at_mets.jpg\u001b[39;49m\u001b[38;5;124;43m'\u001b[39;49m\u001b[43m)\u001b[49m\n\u001b[0;32m      5\u001b[0m st\u001b[38;5;241m.\u001b[39mimage(header_img)\n",
      "File \u001b[1;32m~\\anaconda3\\envs\\ninebase\\lib\\site-packages\\PIL\\Image.py:3236\u001b[0m, in \u001b[0;36mopen\u001b[1;34m(fp, mode, formats)\u001b[0m\n\u001b[0;32m   3233\u001b[0m     filename \u001b[38;5;241m=\u001b[39m fp\n\u001b[0;32m   3235\u001b[0m \u001b[38;5;28;01mif\u001b[39;00m filename:\n\u001b[1;32m-> 3236\u001b[0m     fp \u001b[38;5;241m=\u001b[39m \u001b[43mbuiltins\u001b[49m\u001b[38;5;241;43m.\u001b[39;49m\u001b[43mopen\u001b[49m\u001b[43m(\u001b[49m\u001b[43mfilename\u001b[49m\u001b[43m,\u001b[49m\u001b[43m \u001b[49m\u001b[38;5;124;43m\"\u001b[39;49m\u001b[38;5;124;43mrb\u001b[39;49m\u001b[38;5;124;43m\"\u001b[39;49m\u001b[43m)\u001b[49m\n\u001b[0;32m   3237\u001b[0m     exclusive_fp \u001b[38;5;241m=\u001b[39m \u001b[38;5;28;01mTrue\u001b[39;00m\n\u001b[0;32m   3239\u001b[0m \u001b[38;5;28;01mtry\u001b[39;00m:\n",
      "\u001b[1;31mFileNotFoundError\u001b[0m: [Errno 2] No such file or directory: 'assets/cards_at_mets.jpg'"
     ]
    }
   ],
   "source": [
    "from PIL import Image\n",
    "\n",
    "header_img = Image.open('assets/cards_at_mets.jpg')\n",
    "\n",
    "st.image(header_img)"
   ]
  },
  {
   "cell_type": "code",
   "execution_count": 14,
   "id": "b34fd207",
   "metadata": {},
   "outputs": [
    {
     "data": {
      "text/plain": [
       "DeltaGenerator()"
      ]
     },
     "execution_count": 14,
     "metadata": {},
     "output_type": "execute_result"
    }
   ],
   "source": [
    "# Define the layout\n",
    "st.markdown(\n",
    "    \"\"\"\n",
    "    <style>\n",
    "        body {\n",
    "            display: flex;\n",
    "            flex-direction: column;\n",
    "            justify-content: center;\n",
    "            align-items: center;\n",
    "            height: 100vh;\n",
    "            margin: 0;\n",
    "        }\n",
    "\n",
    "        .container {\n",
    "            display: flex;\n",
    "            flex-direction: column;\n",
    "            justify-content: center;\n",
    "            align-items: center;\n",
    "            flex: 1;\n",
    "            max-width: 800px;\n",
    "        }\n",
    "\n",
    "        .title {\n",
    "            font-size: 48px;\n",
    "            font-weight: bold;\n",
    "            margin-bottom: 24px;\n",
    "        }\n",
    "\n",
    "        .description {\n",
    "            font-size: 24px;\n",
    "            margin-bottom: 48px;\n",
    "        }\n",
    "\n",
    "        .cta-button {\n",
    "            font-size: 20px;\n",
    "            padding: 12px 24px;\n",
    "            border-radius: 8px;\n",
    "            background-color: darkslategrey;\n",
    "            transition: background-color 0.3s;\n",
    "        }\n",
    "\n",
    "        .cta-button:hover {\n",
    "            background-color: #366e6e;\n",
    "        }\n",
    "        \n",
    "        .cta-button span {\n",
    "            color: white;\n",
    "        }\n",
    "    </style>\n",
    "    \"\"\",\n",
    "    unsafe_allow_html=True\n",
    ")\n",
    "\n",
    "# Render the home screen\n",
    "st.markdown('<div class=\"container\">', unsafe_allow_html=True)\n",
    "st.markdown('<h1 class=\"title\">ninebase</h1>', unsafe_allow_html=True)\n",
    "st.markdown('<p class=\"description\">identify who is hot, and who is not</p>', unsafe_allow_html=True)\n",
    "st.markdown('<a href=\"https://ninebase.streamlit.app/player_batting_season\" class=\"cta-button\">Batting Stats</a>', unsafe_allow_html=True)\n",
    "st.markdown('</div>', unsafe_allow_html=True)"
   ]
  },
  {
   "cell_type": "code",
   "execution_count": 10,
   "id": "ba40b1fc",
   "metadata": {},
   "outputs": [
    {
     "data": {
      "text/plain": [
       "DeltaGenerator()"
      ]
     },
     "execution_count": 10,
     "metadata": {},
     "output_type": "execute_result"
    }
   ],
   "source": [
    "st.divider()"
   ]
  },
  {
   "cell_type": "code",
   "execution_count": null,
   "id": "51dac1bb",
   "metadata": {},
   "outputs": [],
   "source": []
  },
  {
   "cell_type": "code",
   "execution_count": null,
   "id": "602c582d",
   "metadata": {},
   "outputs": [],
   "source": []
  }
 ],
 "metadata": {
  "kernelspec": {
   "display_name": "Python 3 (ipykernel)",
   "language": "python",
   "name": "python3"
  },
  "language_info": {
   "codemirror_mode": {
    "name": "ipython",
    "version": 3
   },
   "file_extension": ".py",
   "mimetype": "text/x-python",
   "name": "python",
   "nbconvert_exporter": "python",
   "pygments_lexer": "ipython3",
   "version": "3.10.11"
  }
 },
 "nbformat": 4,
 "nbformat_minor": 5
}
