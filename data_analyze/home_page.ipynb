{
 "cells": [
  {
   "cell_type": "code",
   "execution_count": null,
   "id": "d223f993",
   "metadata": {},
   "outputs": [],
   "source": []
  },
  {
   "cell_type": "code",
   "execution_count": 1,
   "id": "b78329ab",
   "metadata": {},
   "outputs": [],
   "source": [
    "import streamlit as st"
   ]
  },
  {
   "cell_type": "code",
   "execution_count": 3,
   "id": "37a27189",
   "metadata": {},
   "outputs": [
    {
     "data": {
      "text/plain": [
       "DeltaGenerator()"
      ]
     },
     "execution_count": 3,
     "metadata": {},
     "output_type": "execute_result"
    }
   ],
   "source": [
    "st.set_page_config(\n",
    "    page_title=\"Hello\",\n",
    "    page_icon=\"👋\",\n",
    ")\n",
    "\n",
    "st.write(\"# Welcome to ninebase 👋\")\n",
    "\n",
    "st.sidebar.success(\"Home\")\n",
    "\n",
    "st.markdown(\n",
    "    \"\"\"\n",
    "    Streamlit is an open-source app framework built specifically for\n",
    "    Machine Learning and Data Science projects.\n",
    "    **👈 Select a demo from the sidebar** to see some examples\n",
    "    of what Streamlit can do!\n",
    "    ### Want to learn more?\n",
    "    - Check out [streamlit.io](https://streamlit.io)\n",
    "    - Jump into our [documentation](https://docs.streamlit.io)\n",
    "    - Ask a question in our [community\n",
    "        forums](https://discuss.streamlit.io)\n",
    "    ### See more complex demos\n",
    "    - Use a neural net to [analyze the Udacity Self-driving Car Image\n",
    "        Dataset](https://github.com/streamlit/demo-self-driving)\n",
    "    - Explore a [New York City rideshare dataset](https://github.com/streamlit/demo-uber-nyc-pickups)\n",
    "\"\"\"\n",
    ")"
   ]
  },
  {
   "cell_type": "code",
   "execution_count": null,
   "id": "cfa4cb3e",
   "metadata": {},
   "outputs": [],
   "source": []
  }
 ],
 "metadata": {
  "kernelspec": {
   "display_name": "Python 3 (ipykernel)",
   "language": "python",
   "name": "python3"
  },
  "language_info": {
   "codemirror_mode": {
    "name": "ipython",
    "version": 3
   },
   "file_extension": ".py",
   "mimetype": "text/x-python",
   "name": "python",
   "nbconvert_exporter": "python",
   "pygments_lexer": "ipython3",
   "version": "3.10.9"
  }
 },
 "nbformat": 4,
 "nbformat_minor": 5
}
