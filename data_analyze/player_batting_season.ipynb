{
 "cells": [
  {
   "cell_type": "code",
   "execution_count": null,
   "id": "2994f02c",
   "metadata": {},
   "outputs": [],
   "source": []
  },
  {
   "cell_type": "markdown",
   "id": "adc17684",
   "metadata": {},
   "source": [
    "sources:\n",
    "docs.streamlit.io/library/get-started"
   ]
  },
  {
   "cell_type": "code",
   "execution_count": null,
   "id": "bf43f9ba",
   "metadata": {},
   "outputs": [],
   "source": []
  },
  {
   "cell_type": "markdown",
   "id": "47dd150c",
   "metadata": {},
   "source": [
    "# Introduction"
   ]
  },
  {
   "cell_type": "code",
   "execution_count": 1,
   "id": "2f035944",
   "metadata": {},
   "outputs": [],
   "source": [
    "# Import Libraries\n",
    "import numpy as np\n",
    "import pandas as pd\n",
    "\n",
    "pd.set_option(\"display.precision\", 2)\n",
    "pd.set_option('display.max_rows', None)\n",
    "pd.set_option('display.max_columns', None)\n",
    "pd.set_option('display.float_format', lambda x: '%.5f' % x)\n",
    "from pandas.api.types import (\n",
    "    is_categorical_dtype,\n",
    "    is_datetime64_any_dtype,\n",
    "    is_numeric_dtype,\n",
    "    is_object_dtype,\n",
    ")\n",
    "\n",
    "import plotly.figure_factory as ff"
   ]
  },
  {
   "cell_type": "markdown",
   "id": "f0b15390",
   "metadata": {},
   "source": [
    "## Streamlit"
   ]
  },
  {
   "cell_type": "code",
   "execution_count": 2,
   "id": "44929fa4",
   "metadata": {},
   "outputs": [],
   "source": [
    "import streamlit as st"
   ]
  },
  {
   "cell_type": "code",
   "execution_count": null,
   "id": "277b3489",
   "metadata": {},
   "outputs": [],
   "source": []
  },
  {
   "cell_type": "code",
   "execution_count": 3,
   "id": "6e05a6c4",
   "metadata": {},
   "outputs": [
    {
     "ename": "StreamlitAPIException",
     "evalue": "We only accept the keys: \"Get help\", \"Report a bug\", and \"About\" (\"ninebase info\" is not a valid key.)",
     "output_type": "error",
     "traceback": [
      "\u001b[1;31m---------------------------------------------------------------------------\u001b[0m",
      "\u001b[1;31mStreamlitAPIException\u001b[0m                     Traceback (most recent call last)",
      "Cell \u001b[1;32mIn[3], line 1\u001b[0m\n\u001b[1;32m----> 1\u001b[0m \u001b[43mst\u001b[49m\u001b[38;5;241;43m.\u001b[39;49m\u001b[43mset_page_config\u001b[49m\u001b[43m(\u001b[49m\n\u001b[0;32m      2\u001b[0m \u001b[43m    \u001b[49m\u001b[43mpage_title\u001b[49m\u001b[38;5;241;43m=\u001b[39;49m\u001b[38;5;124;43m\"\u001b[39;49m\u001b[38;5;124;43m9base\u001b[39;49m\u001b[38;5;124;43m\"\u001b[39;49m\u001b[43m,\u001b[49m\n\u001b[0;32m      3\u001b[0m \u001b[43m    \u001b[49m\u001b[43mpage_icon\u001b[49m\u001b[38;5;241;43m=\u001b[39;49m\u001b[38;5;124;43m\"\u001b[39;49m\u001b[38;5;124;43m⚾\u001b[39;49m\u001b[38;5;124;43m\"\u001b[39;49m\u001b[43m,\u001b[49m\n\u001b[0;32m      4\u001b[0m \u001b[43m    \u001b[49m\u001b[43mlayout\u001b[49m\u001b[38;5;241;43m=\u001b[39;49m\u001b[38;5;124;43m\"\u001b[39;49m\u001b[38;5;124;43mwide\u001b[39;49m\u001b[38;5;124;43m\"\u001b[39;49m\u001b[43m,\u001b[49m\n\u001b[0;32m      5\u001b[0m \u001b[43m    \u001b[49m\u001b[43minitial_sidebar_state\u001b[49m\u001b[38;5;241;43m=\u001b[39;49m\u001b[38;5;124;43m\"\u001b[39;49m\u001b[38;5;124;43mexpanded\u001b[39;49m\u001b[38;5;124;43m\"\u001b[39;49m\u001b[43m,\u001b[49m\n\u001b[0;32m      6\u001b[0m \u001b[43m    \u001b[49m\u001b[43mmenu_items\u001b[49m\u001b[38;5;241;43m=\u001b[39;49m\u001b[43m{\u001b[49m\n\u001b[0;32m      7\u001b[0m \u001b[43m        \u001b[49m\u001b[38;5;124;43m'\u001b[39;49m\u001b[38;5;124;43mninebase Info\u001b[39;49m\u001b[38;5;124;43m'\u001b[39;49m\u001b[43m:\u001b[49m\u001b[43m \u001b[49m\u001b[38;5;124;43m'\u001b[39;49m\u001b[38;5;124;43mhttps://www.extremelycoolapp.com/help\u001b[39;49m\u001b[38;5;124;43m'\u001b[39;49m\u001b[43m,\u001b[49m\n\u001b[0;32m      8\u001b[0m \u001b[43m        \u001b[49m\u001b[38;5;124;43m'\u001b[39;49m\u001b[38;5;124;43mSuggest a Feature!\u001b[39;49m\u001b[38;5;124;43m'\u001b[39;49m\u001b[43m:\u001b[49m\u001b[43m \u001b[49m\u001b[38;5;124;43m\"\u001b[39;49m\u001b[38;5;124;43mhttps://www.extremelycoolapp.com/bug\u001b[39;49m\u001b[38;5;124;43m\"\u001b[39;49m\u001b[43m,\u001b[49m\n\u001b[0;32m      9\u001b[0m \u001b[43m        \u001b[49m\u001b[38;5;124;43m'\u001b[39;49m\u001b[38;5;124;43mAbout\u001b[39;49m\u001b[38;5;124;43m'\u001b[39;49m\u001b[43m:\u001b[49m\u001b[43m \u001b[49m\u001b[38;5;124;43m\"\u001b[39;49m\u001b[38;5;124;43m# This is a header. This is an *extremely* cool app!\u001b[39;49m\u001b[38;5;124;43m\"\u001b[39;49m\n\u001b[0;32m     10\u001b[0m \u001b[43m    \u001b[49m\u001b[43m}\u001b[49m\n\u001b[0;32m     11\u001b[0m \u001b[43m)\u001b[49m\n",
      "File \u001b[1;32m~\\anaconda3\\lib\\site-packages\\streamlit\\runtime\\metrics_util.py:356\u001b[0m, in \u001b[0;36mgather_metrics.<locals>.wrapped_func\u001b[1;34m(*args, **kwargs)\u001b[0m\n\u001b[0;32m    354\u001b[0m         _LOGGER\u001b[38;5;241m.\u001b[39mdebug(\u001b[38;5;124m\"\u001b[39m\u001b[38;5;124mFailed to collect command telemetry\u001b[39m\u001b[38;5;124m\"\u001b[39m, exc_info\u001b[38;5;241m=\u001b[39mex)\n\u001b[0;32m    355\u001b[0m \u001b[38;5;28;01mtry\u001b[39;00m:\n\u001b[1;32m--> 356\u001b[0m     result \u001b[38;5;241m=\u001b[39m non_optional_func(\u001b[38;5;241m*\u001b[39margs, \u001b[38;5;241m*\u001b[39m\u001b[38;5;241m*\u001b[39mkwargs)\n\u001b[0;32m    357\u001b[0m \u001b[38;5;28;01mfinally\u001b[39;00m:\n\u001b[0;32m    358\u001b[0m     \u001b[38;5;66;03m# Activate tracking again if command executes without any exceptions\u001b[39;00m\n\u001b[0;32m    359\u001b[0m     \u001b[38;5;28;01mif\u001b[39;00m ctx:\n",
      "File \u001b[1;32m~\\anaconda3\\lib\\site-packages\\streamlit\\commands\\page_config.py:218\u001b[0m, in \u001b[0;36mset_page_config\u001b[1;34m(page_title, page_icon, layout, initial_sidebar_state, menu_items)\u001b[0m\n\u001b[0;32m    216\u001b[0m \u001b[38;5;28;01mif\u001b[39;00m menu_items \u001b[38;5;129;01mis\u001b[39;00m \u001b[38;5;129;01mnot\u001b[39;00m \u001b[38;5;28;01mNone\u001b[39;00m:\n\u001b[0;32m    217\u001b[0m     lowercase_menu_items \u001b[38;5;241m=\u001b[39m cast(MenuItems, lower_clean_dict_keys(menu_items))\n\u001b[1;32m--> 218\u001b[0m     \u001b[43mvalidate_menu_items\u001b[49m\u001b[43m(\u001b[49m\u001b[43mlowercase_menu_items\u001b[49m\u001b[43m)\u001b[49m\n\u001b[0;32m    219\u001b[0m     menu_items_proto \u001b[38;5;241m=\u001b[39m msg\u001b[38;5;241m.\u001b[39mpage_config_changed\u001b[38;5;241m.\u001b[39mmenu_items\n\u001b[0;32m    220\u001b[0m     set_menu_items_proto(lowercase_menu_items, menu_items_proto)\n",
      "File \u001b[1;32m~\\anaconda3\\lib\\site-packages\\streamlit\\commands\\page_config.py:255\u001b[0m, in \u001b[0;36mvalidate_menu_items\u001b[1;34m(menu_items)\u001b[0m\n\u001b[0;32m    253\u001b[0m \u001b[38;5;28;01mfor\u001b[39;00m k, v \u001b[38;5;129;01min\u001b[39;00m menu_items\u001b[38;5;241m.\u001b[39mitems():\n\u001b[0;32m    254\u001b[0m     \u001b[38;5;28;01mif\u001b[39;00m \u001b[38;5;129;01mnot\u001b[39;00m valid_menu_item_key(k):\n\u001b[1;32m--> 255\u001b[0m         \u001b[38;5;28;01mraise\u001b[39;00m StreamlitAPIException(\n\u001b[0;32m    256\u001b[0m             \u001b[38;5;124m\"\u001b[39m\u001b[38;5;124mWe only accept the keys: \u001b[39m\u001b[38;5;124m\"\u001b[39m\n\u001b[0;32m    257\u001b[0m             \u001b[38;5;124m'\u001b[39m\u001b[38;5;124m\"\u001b[39m\u001b[38;5;124mGet help\u001b[39m\u001b[38;5;124m\"\u001b[39m\u001b[38;5;124m, \u001b[39m\u001b[38;5;124m\"\u001b[39m\u001b[38;5;124mReport a bug\u001b[39m\u001b[38;5;124m\"\u001b[39m\u001b[38;5;124m, and \u001b[39m\u001b[38;5;124m\"\u001b[39m\u001b[38;5;124mAbout\u001b[39m\u001b[38;5;124m\"\u001b[39m\u001b[38;5;124m \u001b[39m\u001b[38;5;124m'\u001b[39m\n\u001b[0;32m    258\u001b[0m             \u001b[38;5;124mf\u001b[39m\u001b[38;5;124m'\u001b[39m\u001b[38;5;124m(\u001b[39m\u001b[38;5;124m\"\u001b[39m\u001b[38;5;132;01m{\u001b[39;00mk\u001b[38;5;132;01m}\u001b[39;00m\u001b[38;5;124m\"\u001b[39m\u001b[38;5;124m is not a valid key.)\u001b[39m\u001b[38;5;124m'\u001b[39m\n\u001b[0;32m    259\u001b[0m         )\n\u001b[0;32m    260\u001b[0m     \u001b[38;5;28;01mif\u001b[39;00m v \u001b[38;5;129;01mis\u001b[39;00m \u001b[38;5;129;01mnot\u001b[39;00m \u001b[38;5;28;01mNone\u001b[39;00m:\n\u001b[0;32m    261\u001b[0m         \u001b[38;5;28;01mif\u001b[39;00m \u001b[38;5;129;01mnot\u001b[39;00m valid_url(v) \u001b[38;5;129;01mand\u001b[39;00m k \u001b[38;5;241m!=\u001b[39m ABOUT_KEY:\n",
      "\u001b[1;31mStreamlitAPIException\u001b[0m: We only accept the keys: \"Get help\", \"Report a bug\", and \"About\" (\"ninebase info\" is not a valid key.)"
     ]
    }
   ],
   "source": [
    "st.set_page_config(\n",
    "    page_title=\"9base\",\n",
    "    page_icon=\"⚾\",\n",
    "    layout=\"wide\",\n",
    "    initial_sidebar_state=\"expanded\",\n",
    "    menu_items={\n",
    "        'ninebase Info': 'https://www.extremelycoolapp.com/help',\n",
    "        'Suggest a Feature!': \"https://www.extremelycoolapp.com/bug\",\n",
    "        'About': \"# This is a header. This is an *extremely* cool app!\"\n",
    "    }\n",
    ")"
   ]
  },
  {
   "cell_type": "code",
   "execution_count": null,
   "id": "3ae3cd01",
   "metadata": {},
   "outputs": [],
   "source": [
    "#from st_pages import Page, Section, show_pages, add_page_title\n",
    "\n",
    "##⚾🥇\n",
    "\n",
    "#add_page_title() # By default this also adds indentation\n",
    "\n",
    "## Specify what pages should be shown in the sidebar, and what their titles and icons should be\n",
    "#show_pages(\n",
    "#    [\n",
    "#        Section(\"14 Day\", icon=\"🥇\"),\n",
    "#        Section(\"Season\", icon=\"♂️\"),\n",
    "#        Page(\"player_batting_season.py\", \"Player Batting\", \"🏠\"),\n",
    "#    ]\n",
    "#)"
   ]
  },
  {
   "cell_type": "code",
   "execution_count": null,
   "id": "7d0fc34c",
   "metadata": {},
   "outputs": [],
   "source": []
  },
  {
   "cell_type": "code",
   "execution_count": null,
   "id": "7a73460f",
   "metadata": {},
   "outputs": [],
   "source": []
  },
  {
   "cell_type": "markdown",
   "id": "72eb6105",
   "metadata": {},
   "source": [
    "## Load Data"
   ]
  },
  {
   "cell_type": "code",
   "execution_count": 4,
   "id": "ba1672fc",
   "metadata": {},
   "outputs": [],
   "source": [
    "# Format for GitHub\n",
    "df = pd.read_csv('data_storage/player_batting_season.csv')\n",
    "\n",
    "# Format for Jupyter Notebook\n",
    "#df = pd.read_csv('C:/Users/b7tbu/NINEBASE/ninebase/data_storage/player_batting_season.csv')"
   ]
  },
  {
   "cell_type": "code",
   "execution_count": null,
   "id": "19b215a4",
   "metadata": {},
   "outputs": [],
   "source": [
    "df.head()"
   ]
  },
  {
   "cell_type": "markdown",
   "id": "96782ce9",
   "metadata": {},
   "source": [
    "## Scatter Chart"
   ]
  },
  {
   "cell_type": "code",
   "execution_count": null,
   "id": "03c1f54e",
   "metadata": {},
   "outputs": [],
   "source": [
    "import plotly.express as px"
   ]
  },
  {
   "cell_type": "code",
   "execution_count": 8,
   "id": "da6d975d",
   "metadata": {},
   "outputs": [],
   "source": [
    "fig = px.scatter(\n",
    "    df.query(\"Season==2023\"),\n",
    "    x = \"wRC+\",\n",
    "    y = \"Hard%+\",\n",
    "    color = \"Team\",\n",
    "    hover_name = \"Name\",\n",
    "    log_x = True,\n",
    "    size_max = 60,\n",
    ")"
   ]
  },
  {
   "cell_type": "code",
   "execution_count": 9,
   "id": "18ed8fde",
   "metadata": {
    "scrolled": true
   },
   "outputs": [],
   "source": [
    "#st.plotly_chart(fig, theme=\"streamlit\", use_container_width = True)"
   ]
  },
  {
   "cell_type": "markdown",
   "id": "6d3f76f5",
   "metadata": {},
   "source": [
    "## Filters"
   ]
  },
  {
   "cell_type": "code",
   "execution_count": 10,
   "id": "c9aac4b7",
   "metadata": {},
   "outputs": [],
   "source": [
    "# calculate min/max/mean for slider\n",
    "min_AB = df['AB'].min()\n",
    "max_AB = df['AB'].max()\n",
    "mean_AB = df['AB'].mean()\n",
    "\n",
    "# float em\n",
    "min_AB = float(min_AB)\n",
    "max_AB = float(max_AB)\n",
    "mean_AB = float(mean_AB)"
   ]
  },
  {
   "cell_type": "code",
   "execution_count": 11,
   "id": "13414c39",
   "metadata": {},
   "outputs": [
    {
     "name": "stderr",
     "output_type": "stream",
     "text": [
      "2023-07-08 09:27:04.206 \n",
      "  \u001b[33m\u001b[1mWarning:\u001b[0m to view this Streamlit app on a browser, run it with the following\n",
      "  command:\n",
      "\n",
      "    streamlit run C:\\Users\\b7tbu\\anaconda3\\envs\\ninebase\\lib\\site-packages\\ipykernel_launcher.py [ARGUMENTS]\n"
     ]
    }
   ],
   "source": [
    "# slider\n",
    "\n",
    "ab_slider = st.slider('At Bat Range', min_AB, max_AB, (mean_AB, max_AB))\n"
   ]
  },
  {
   "cell_type": "code",
   "execution_count": null,
   "id": "86e2e3db",
   "metadata": {},
   "outputs": [],
   "source": []
  },
  {
   "cell_type": "code",
   "execution_count": null,
   "id": "2d9f5e43",
   "metadata": {},
   "outputs": [],
   "source": []
  },
  {
   "cell_type": "code",
   "execution_count": null,
   "id": "5748089e",
   "metadata": {},
   "outputs": [],
   "source": []
  },
  {
   "cell_type": "code",
   "execution_count": null,
   "id": "68bd8e09",
   "metadata": {},
   "outputs": [],
   "source": []
  },
  {
   "cell_type": "code",
   "execution_count": 12,
   "id": "c1313884",
   "metadata": {},
   "outputs": [],
   "source": [
    "## Sidebar"
   ]
  },
  {
   "cell_type": "code",
   "execution_count": null,
   "id": "9d6c08c6",
   "metadata": {},
   "outputs": [],
   "source": []
  },
  {
   "cell_type": "code",
   "execution_count": null,
   "id": "6b5ac2dc",
   "metadata": {},
   "outputs": [],
   "source": []
  },
  {
   "cell_type": "code",
   "execution_count": null,
   "id": "149d8cb1",
   "metadata": {},
   "outputs": [],
   "source": []
  },
  {
   "cell_type": "code",
   "execution_count": null,
   "id": "4dd3c1b4",
   "metadata": {},
   "outputs": [],
   "source": []
  },
  {
   "cell_type": "markdown",
   "id": "aa83dad3",
   "metadata": {},
   "source": [
    "## Columns"
   ]
  },
  {
   "cell_type": "code",
   "execution_count": 13,
   "id": "7fdbea4e",
   "metadata": {},
   "outputs": [],
   "source": [
    "col1, col2 = st.columns([2,1])"
   ]
  },
  {
   "cell_type": "code",
   "execution_count": 14,
   "id": "e06700cb",
   "metadata": {},
   "outputs": [],
   "source": [
    "col1.subheader(\"Scatter Chart\")\n",
    "col1.plotly_chart(fig, theme=\"streamlit\", use_container_width = True)\n",
    "\n",
    "col2.subheader(\"Filters\")\n",
    "col2.write(ab_slider)"
   ]
  },
  {
   "cell_type": "code",
   "execution_count": null,
   "id": "91c0e087",
   "metadata": {},
   "outputs": [],
   "source": []
  },
  {
   "cell_type": "code",
   "execution_count": null,
   "id": "c0fea2d5",
   "metadata": {},
   "outputs": [],
   "source": []
  },
  {
   "cell_type": "markdown",
   "id": "ee538f99",
   "metadata": {},
   "source": [
    "## Raw Data Display"
   ]
  },
  {
   "cell_type": "code",
   "execution_count": 9,
   "id": "e9fe8535",
   "metadata": {},
   "outputs": [],
   "source": [
    "from st_aggrid import AgGrid, GridOptionsBuilder, DataReturnMode, JsCode"
   ]
  },
  {
   "cell_type": "code",
   "execution_count": 10,
   "id": "3ad933bb",
   "metadata": {},
   "outputs": [],
   "source": [
    "# Simplify dataframe, narrow to most insightful columns\n",
    "df_short = df[['Name', 'Team', 'Age', 'AB', 'BB%+', 'K%+', 'BABIP+', 'Hard%+', 'wRC+']]"
   ]
  },
  {
   "cell_type": "code",
   "execution_count": 25,
   "id": "1dddc1ca",
   "metadata": {},
   "outputs": [],
   "source": [
    "#builds a gridOptions dictionary using a GridOptionsBuilder instance.\n",
    "builder = GridOptionsBuilder.from_dataframe(df_short)\n",
    "builder.configure_column(\"Name\", header_name=\"First\", editable=False)\n",
    "go = builder.build()"
   ]
  },
  {
   "cell_type": "code",
   "execution_count": 26,
   "id": "c620f5f5",
   "metadata": {},
   "outputs": [
    {
     "name": "stderr",
     "output_type": "stream",
     "text": [
      "2023-07-08 13:49:00.009 \n",
      "  \u001b[33m\u001b[1mWarning:\u001b[0m to view this Streamlit app on a browser, run it with the following\n",
      "  command:\n",
      "\n",
      "    streamlit run C:\\Users\\b7tbu\\anaconda3\\lib\\site-packages\\ipykernel_launcher.py [ARGUMENTS]\n"
     ]
    },
    {
     "data": {
      "text/plain": [
       "AgGridReturn(data=                      Name Team  Age   AB  BB%+  K%+  BABIP+  Hard%+  wRC+\n",
       "0         Ronald Acuna Jr.  ATL   25  347   122   55     114     135   168\n",
       "1            Shohei Ohtani  LAA   28  334   144   97     105     124   177\n",
       "2             Mookie Betts  LAD   30  325   152   74      89     134   150\n",
       "3            Wander Franco  TBR   22  331    95   59     103     109   125\n",
       "4           Corbin Carroll  ARI   22  297   101   88     106     100   145\n",
       "5              Luis Robert  CHW   25  327    69  123     109     106   144\n",
       "6          Freddie Freeman  LAD   33  347   113   76     119     121   152\n",
       "7                Juan Soto  SDP   24  298   238   89     105     117   153\n",
       "8       Fernando Tatis Jr.  SDP   24  282    90   85     104     124   139\n",
       "9             Jose Ramirez  CLE   30  325   128   42      97      93   132\n",
       "10           Adolis Garcia  TEX   30  336   110  111     100     140   131\n",
       "11              Mike Trout  LAA   31  304   150  126     114     125   137\n",
       "12              Jonah Heim  TEX   28  284    89   77     105     117   124\n",
       "13           Marcus Semien  TEX   32  373   106   62     101     106   115\n",
       "14             Bo Bichette  TOR   25  372    46   79     123     119   136\n",
       "15        Christian Yelich  MIL   31  314   140   94     116     127   129\n",
       "16        Francisco Lindor  NYM   29  326   106   93      82     120   117\n",
       "17          Dansby Swanson  CHC   29  325   123  102     107     110   108\n",
       "18             Luis Arraez  MIA   26  320    86   23     134      87   152\n",
       "19              Will Smith  LAD   28  224   174   61      91     110   140\n",
       "20            Ha-seong Kim  SDP   27  268   133  101     102      83   111\n",
       "21         Randy Arozarena  TBR   28  305   148  107     117     133   149\n",
       "22        Paul Goldschmidt  STL   35  328   132   96     111     133   134\n",
       "23            Matt Chapman  TOR   30  317   117  124     117     141   122\n",
       "24           Isaac Paredes  TBR   24  254   128   76      94      98   147\n",
       "25           Brandon Nimmo  NYM   30  331   125  100     109     117   131\n",
       "26       Jeimer Candelario  WSN   29  314    96   89     100     105   118\n",
       "27          Thairo Estrada  SFG   27  290    54  109     114      92   108\n",
       "28              Matt Olson  ATL   29  331   157  120      92     130   146\n",
       "29        Christian Walker  ARI   32  318   101   78      92     106   124\n",
       "30           Jack Suwinski  PIT   24  233   178  139      94     121   138\n",
       "31         Julio Rodriguez  SEA   22  351    84  112     106     122   107\n",
       "32              Yandy Diaz  TBR   31  284   142   68     116     123   157\n",
       "33             Kyle Tucker  HOU   26  314   128   57     104     122   134\n",
       "34               Josh Jung  TEX   25  337    72  126     117     137   122\n",
       "35             Ketel Marte  ARI   29  309   112   72     101     112   131\n",
       "36            Ozzie Albies  ATL   26  331    77   66      84     111   119\n",
       "37       William Contreras  MIL   25  247   116   89      98      96   110\n",
       "38         Xander Bogaerts  SDP   30  304   123   83      99      92   111\n",
       "39           Leody Taveras  TEX   24  263    76   86     118     100   129\n",
       "40         Adley Rutschman  BAL   25  317   173   63     102      87   124\n",
       "41            Nico Hoerner  CHC   26  331    63   51     100      61    94\n",
       "42             Lane Thomas  WSN   27  341    64  113     127     106   129\n",
       "43          Bobby Witt Jr.  KCR   23  350    66   90      97     118    92\n",
       "44        LaMonte Wade Jr.  SFG   29  251   191   83     109     100   140\n",
       "45             Austin Hays  BAL   27  279    71  102     131     116   133\n",
       "46              J.D. Davis  SFG   30  273   108  122     123     114   122\n",
       "47        Gunnar Henderson  BAL   22  256   139  135     111     129   123\n",
       "48            Alex Verdugo  BOS   27  320   103   56     107     110   117\n",
       "49          Nathaniel Lowe  TEX   27  344   144   89     111     111   120\n",
       "50             Jorge Soler  MIA   31  309   136  100      90     130   136\n",
       "51           Nolan Arenado  STL   32  321    77   82      99     108   123\n",
       "52           Rafael Devers  BOS   26  325   102   88      91     124   118\n",
       "53            Austin Riley  ATL   26  340    92  104     103     112   108\n",
       "54         Brendan Donovan  STL   26  265   111   66     104     104   120\n",
       "55            Bryson Stott  PHI   25  323    58   71     113      86   104\n",
       "56           Brandon Drury  LAA   30  282    62  114     113     103   122\n",
       "57           Brandon Marsh  PHI   25  252   118  142     130     101   111\n",
       "58                Ian Happ  CHC   28  297   189  110     111      86   118\n",
       "59           J.P. Crawford  SEA   28  283   175   82     102      99   123\n",
       "60            Alex Bregman  HOU   29  336   154   55      85      96   108\n",
       "61          Andres Gimenez  CLE   24  294    65   73      97      82   100\n",
       "62             Cal Raleigh  SEA   26  256   118  111      92     101   101\n",
       "63           Spencer Steer  CIN   25  314   127   79     106     105   130\n",
       "64            Nolan Gorman  STL   23  262   128  134      95     101   118\n",
       "65               Ryan Noda  OAK   27  248   223  145     119     117   132\n",
       "66       Cedric Mullins II  BAL   28  238   151   84      97      92   118\n",
       "67            James Outman  LAD   26  259   100  154     112      97   103\n",
       "68        Nick Castellanos  PHI   31  334    72  112     127     112   128\n",
       "69             Pete Alonso  NYM   28  294   105   92      64     111   126\n",
       "70       Anthony Santander  BAL   28  316   102   97     106     112   125\n",
       "71            Ryan McMahon  COL   28  311   125  138     117     135   103\n",
       "72          Zach McKinstry  DET   28  236   124   88     101      87   101\n",
       "73             Trea Turner  PHI   30  356    74  107     104      95    85\n",
       "74           Anthony Volpe  NYY   22  295   106  129      96     111    90\n",
       "75        Masataka Yoshida  BOS   29  292    99   47     112      95   135\n",
       "76           Justin Turner  BOS   38  323   108   71     106     102   123\n",
       "77          Bryan Reynolds  PIT   28  279   107   84     102     103   115\n",
       "78           Manny Machado  SDP   30  283    70   83      93      95   100\n",
       "79         Whit Merrifield  TOR   34  289    87   77     115      78   104\n",
       "80             Jeremy Pena  HOU   25  303    62   99     100      92    95\n",
       "81             Josh Naylor  CLE   26  282    74   73     110     111   120\n",
       "82           Anthony Rizzo  NYY   33  299   115   99     108      91   117\n",
       "83          Jonathan India  CIN   26  337   101   83      94      99   102\n",
       "84          Jarred Kelenic  SEA   23  296   112  147     118     105   109\n",
       "85         George Springer  TOR   33  341    93   72     100     105   106\n",
       "86          Eugenio Suarez  SEA   31  313   115  122     100     121   100\n",
       "87             Joey Wiemer  MIL   24  260   104  127      84     112    82\n",
       "88        Andrew McCutchen  PIT   36  261   175   90     104     102   123\n",
       "89     Lourdes Gurriel Jr.  ARI   29  293    68   80      94     114   112\n",
       "90               Max Muncy  LAD   32  241   172  126      64     121   114\n",
       "91          Hunter Renfroe  LAA   31  309    72   95      94     114   103\n",
       "92          Mauricio Dubon  HOU   28  275    41   53     107      74    99\n",
       "93             Steven Kwan  CLE   25  346   116   53     102      48    95\n",
       "94             Tommy Edman  STL   28  274    88   72      88     123    90\n",
       "95            Brent Rooker  OAK   28  249   132  135     105     112   126\n",
       "96           J.T. Realmuto  PHI   32  274    78  107     101      96   101\n",
       "97       Teoscar Hernandez  SEA   30  332    70  138     111     119   106\n",
       "98          Ezequiel Tovar  COL   21  293    47  119     115      98    82\n",
       "99       Willson Contreras  STL   31  277   107  101      95     127   104\n",
       "100          Carlos Correa  MIN   28  297   112  104      91     104    96\n",
       "101         Ke'Bryan Hayes  PIT   26  290    59   90     101     103    83\n",
       "102           Willy Adames  MIL   27  291   114  114      79     100    82\n",
       "103         Gleyber Torres  NYY   26  322   119   62      86      85   104\n",
       "104           Esteury Ruiz  OAK   24  334    45   81     108      48    85\n",
       "105          Marcell Ozuna  ATL   32  253   111   96      91     115   119\n",
       "106           Byron Buxton  MIN   29  247   134  129      85     101   110\n",
       "107      Andrew Benintendi  CHW   28  309   104   65     113      77   100\n",
       "108         Daulton Varsho  TOR   26  308    95   99      86      96    84\n",
       "109          J.D. Martinez  LAD   35  279    67  137      95     146   119\n",
       "110             Elias Diaz  COL   32  269    84   93     109     119    94\n",
       "111              Ty France  SEA   28  325    63   75     104      78   110\n",
       "112            Taylor Ward  LAA   29  301   105   87      95     114    93\n",
       "113            Jeff McNeil  NYM   31  308    87   51      95      64    93\n",
       "114          Eddie Rosario  ATL   31  263    79  105      98     115   110\n",
       "115           Seiya Suzuki  CHC   28  248   130  112     111     122   105\n",
       "116         Carlos Santana  PIT   37  294   119   79      89      93    95\n",
       "117          Trent Grisham  SDP   26  267   148  125      91     102    96\n",
       "118  Vladimir Guerrero Jr.  TOR   24  331    97   71     103     121   123\n",
       "119       Michael Conforto  SFG   30  248   133  111      90     100   102\n",
       "120         Brian Anderson  MIL   30  281   119  134     103     100    89\n",
       "121          Jace Peterson  OAK   33  243   125  102      87      86    76\n",
       "122            Javier Baez  DET   30  323    45   98      94      84    64\n",
       "123          Andrew Vaughn  CHW   25  324    92   83      93     111   109\n",
       "124              Alec Bohm  PHI   26  278    67   75     104      92   103\n",
       "125       Bryan De La Cruz  MIA   26  321    80  110     116     110   104\n",
       "126       Jake Cronenworth  SDP   29  303   124   91      85      81    91\n",
       "127         Salvador Perez  KCR   33  307    44  105      96     109    93\n",
       "128              CJ Abrams  WSN   22  270    43  101      95      82    80\n",
       "129      Spencer Torkelson  DET   23  320   122  103      90     120    97\n",
       "130           Adam Frazier  BAL   31  263    98   52      79      75    94\n",
       "131          Miguel Vargas  LAD   23  254   136   91      75      92    84\n",
       "132           Amed Rosario  CLE   27  327    71   83     109      92    85\n",
       "133         Starling Marte  NYM   34  293    57   84     104      88    86\n",
       "134            Luis Garcia  WSN   23  307    61   52      95     102    81\n",
       "135            DJ LeMahieu  NYY   34  269    97  105      91      99    78\n",
       "136       Tyler Stephenson  CIN   26  296   114  119     116      94    94\n",
       "137         Kyle Schwarber  PHI   30  318   172  130      68     114   104\n",
       "138          Triston Casas  BOS   23  241   165  117      94     113    96\n",
       "139          Dominic Smith  WSN   28  308    86   67     100      71    82\n",
       "140        Shea Langeliers  OAK   25  261    75  129      89      95    77\n",
       "141              Josh Bell  CLE   30  284   137   96      90      98    88\n",
       "142            Myles Straw  CLE   28  287   105   88     103      49    71\n",
       "143           Joey Meneses  WSN   31  323    69   90     116      91    86\n",
       "144             Jose Abreu  HOU   36  325    74  101     100      85    77\n",
       "145            MJ Melendez  KCR   24  295   122  130      97     122    71\n",
       "146           Tim Anderson  CHW   30  260    61   92     100      93    49\n",
       "147           Rowdy Tellez  MIL   28  258   106  106      79      98    79\n",
       "148       Jurickson Profar  COL   30  301   118   80      95     106    80\n",
       "149           Keibert Ruiz  WSN   24  275    61   39      73      97    72\n",
       "150      Enrique Hernandez  BOS   31  271    85   93      91      77    65, selected_rows=[])"
      ]
     },
     "execution_count": 26,
     "metadata": {},
     "output_type": "execute_result"
    }
   ],
   "source": [
    "#uses the gridOptions dictionary to configure AgGrid behavior.\n",
    "AgGrid(df_short, gridOptions=go)"
   ]
  },
  {
   "cell_type": "code",
   "execution_count": 24,
   "id": "254672f2",
   "metadata": {},
   "outputs": [
    {
     "ename": "ValueError",
     "evalue": "GridUpdateMode should be either a valid GridUpdateMode enum value or string",
     "output_type": "error",
     "traceback": [
      "\u001b[1;31m---------------------------------------------------------------------------\u001b[0m",
      "\u001b[1;31mValueError\u001b[0m                                Traceback (most recent call last)",
      "Cell \u001b[1;32mIn[24], line 1\u001b[0m\n\u001b[1;32m----> 1\u001b[0m grid_response \u001b[38;5;241m=\u001b[39m \u001b[43mAgGrid\u001b[49m\u001b[43m(\u001b[49m\n\u001b[0;32m      2\u001b[0m \u001b[43m    \u001b[49m\u001b[43mdf_short\u001b[49m\u001b[43m,\u001b[49m\n\u001b[0;32m      3\u001b[0m \u001b[43m    \u001b[49m\u001b[43mgridOptions\u001b[49m\u001b[38;5;241;43m=\u001b[39;49m\u001b[43mgrid_options\u001b[49m\u001b[43m,\u001b[49m\n\u001b[0;32m      4\u001b[0m \u001b[43m    \u001b[49m\u001b[43mheight\u001b[49m\u001b[38;5;241;43m=\u001b[39;49m\u001b[38;5;241;43m500\u001b[39;49m\u001b[43m,\u001b[49m\n\u001b[0;32m      5\u001b[0m \u001b[43m    \u001b[49m\u001b[43mwidth\u001b[49m\u001b[38;5;241;43m=\u001b[39;49m\u001b[38;5;124;43m'\u001b[39;49m\u001b[38;5;124;43m100\u001b[39;49m\u001b[38;5;124;43m%\u001b[39;49m\u001b[38;5;124;43m'\u001b[39;49m\u001b[43m,\u001b[49m\n\u001b[0;32m      6\u001b[0m \u001b[43m    \u001b[49m\u001b[43mupdate_mode\u001b[49m\u001b[38;5;241;43m=\u001b[39;49m\u001b[43mJsCode\u001b[49m\u001b[43m(\u001b[49m\u001b[38;5;124;43m\"\u001b[39;49m\u001b[38;5;124;43mdebounce\u001b[39;49m\u001b[38;5;124;43m\"\u001b[39;49m\u001b[43m)\u001b[49m\n\u001b[0;32m      7\u001b[0m \u001b[43m)\u001b[49m\n",
      "File \u001b[1;32m~\\anaconda3\\lib\\site-packages\\st_aggrid\\__init__.py:326\u001b[0m, in \u001b[0;36mAgGrid\u001b[1;34m(data, gridOptions, height, width, fit_columns_on_grid_load, columns_auto_size_mode, update_mode, data_return_mode, allow_unsafe_jscode, enable_enterprise_modules, license_key, try_to_convert_back_to_original_types, conversion_errors, reload_data, columns_state, theme, custom_css, use_legacy_selected_rows, key, update_on, enable_quicksearch, excel_export_mode, excel_export_multiple_sheet_params, **default_column_parameters)\u001b[0m\n\u001b[0;32m    323\u001b[0m         \u001b[38;5;28;01mraise\u001b[39;00m \u001b[38;5;167;01mValueError\u001b[39;00m(\u001b[38;5;124mf\u001b[39m\u001b[38;5;124m\"\u001b[39m\u001b[38;5;132;01m{\u001b[39;00mdata_return_mode\u001b[38;5;132;01m}\u001b[39;00m\u001b[38;5;124m is not valid.\u001b[39m\u001b[38;5;124m\"\u001b[39m)\n\u001b[0;32m    325\u001b[0m \u001b[38;5;28;01mif\u001b[39;00m (\u001b[38;5;129;01mnot\u001b[39;00m \u001b[38;5;28misinstance\u001b[39m(update_mode, (\u001b[38;5;28mstr\u001b[39m, GridUpdateMode))):\n\u001b[1;32m--> 326\u001b[0m     \u001b[38;5;28;01mraise\u001b[39;00m \u001b[38;5;167;01mValueError\u001b[39;00m(\u001b[38;5;124mf\u001b[39m\u001b[38;5;124m\"\u001b[39m\u001b[38;5;124mGridUpdateMode should be either a valid GridUpdateMode enum value or string\u001b[39m\u001b[38;5;124m\"\u001b[39m)\n\u001b[0;32m    327\u001b[0m \u001b[38;5;28;01melif\u001b[39;00m \u001b[38;5;28misinstance\u001b[39m(update_mode, \u001b[38;5;28mstr\u001b[39m):\n\u001b[0;32m    328\u001b[0m     \u001b[38;5;28;01mtry\u001b[39;00m:\n",
      "\u001b[1;31mValueError\u001b[0m: GridUpdateMode should be either a valid GridUpdateMode enum value or string"
     ]
    }
   ],
   "source": []
  },
  {
   "cell_type": "markdown",
   "id": "72c5a0d3",
   "metadata": {},
   "source": [
    "grid_table = AgGrid(df_short,\n",
    "                   gridOptions=gridOptions,\n",
    "                   fit_columns_on_grid_load=True,\n",
    "                   height='400',\n",
    "                   width='100%',\n",
    "                   theme=\"streamlit\",\n",
    "                   update_mode=GridUpdateMode.GRID_CHANGED,\n",
    "                   reload_data=True,\n",
    "                   allow_unsafe_jscode=True,\n",
    "                   editable=False\n",
    "                   )"
   ]
  },
  {
   "cell_type": "code",
   "execution_count": null,
   "id": "0b3da0c8",
   "metadata": {},
   "outputs": [],
   "source": []
  },
  {
   "cell_type": "code",
   "execution_count": 69,
   "id": "c4247033",
   "metadata": {},
   "outputs": [],
   "source": []
  },
  {
   "cell_type": "markdown",
   "id": "cc4f031e",
   "metadata": {},
   "source": [
    "from st_aggrid import AgGrid, GridOptionsBuilder\n",
    "import streamlit as st\n",
    "\n",
    "from st_aggrid import agstyler\n",
    "from src.agstyler import PINLEFT, PRECISION_ZERO, PRECISION_ONE, PRECISION_TWO, draw_grid\n",
    "\n",
    "formatter = {\n",
    "    'Name': ('Player', PINLEFT),\n",
    "    'Team': ('Team', {'width': 80}),\n",
    "    'Age': ('Age', {'width': 80}),\n",
    "    'AB': ('At Bats', {'width': 80}),\n",
    "    'K%+': ('K%+', {**PRECISION_ZERO,'width': 80}),\n",
    "    'BABIP+': ('BABIP+', {**PRECISION_ZERO,'width': 80}),\n",
    "    'Hard%+': ('Hard%+', {**PRECISION_ZERO,'width': 80}),\n",
    "    'wRC+': ('wRC+', {**PRECISION_ZERO,'width': 80}),\n",
    "}\n",
    "\n",
    "row_number = st.number_input('Number of rows', min_value=0, value=20)\n",
    "data = draw_grid(\n",
    "    df.head(15),\n",
    "    formatter=formatter,\n",
    "    fit_columns=True,\n",
    "    selection='multiple',  # or 'single', or None\n",
    "    use_checkbox='True',  # or False by default\n",
    "    max_height=300\n",
    ")"
   ]
  },
  {
   "cell_type": "code",
   "execution_count": null,
   "id": "1a8d0ccf",
   "metadata": {},
   "outputs": [],
   "source": []
  },
  {
   "cell_type": "code",
   "execution_count": null,
   "id": "fc796fbd",
   "metadata": {},
   "outputs": [],
   "source": []
  },
  {
   "cell_type": "code",
   "execution_count": null,
   "id": "5bea1464",
   "metadata": {},
   "outputs": [],
   "source": []
  },
  {
   "cell_type": "code",
   "execution_count": null,
   "id": "168d7f01",
   "metadata": {},
   "outputs": [],
   "source": []
  },
  {
   "cell_type": "code",
   "execution_count": null,
   "id": "8052ddc1",
   "metadata": {},
   "outputs": [],
   "source": []
  },
  {
   "cell_type": "code",
   "execution_count": null,
   "id": "c25bf1f0",
   "metadata": {},
   "outputs": [],
   "source": []
  },
  {
   "cell_type": "code",
   "execution_count": null,
   "id": "537627f1",
   "metadata": {},
   "outputs": [],
   "source": []
  }
 ],
 "metadata": {
  "kernelspec": {
   "display_name": "Python 3 (ipykernel)",
   "language": "python",
   "name": "python3"
  },
  "language_info": {
   "codemirror_mode": {
    "name": "ipython",
    "version": 3
   },
   "file_extension": ".py",
   "mimetype": "text/x-python",
   "name": "python",
   "nbconvert_exporter": "python",
   "pygments_lexer": "ipython3",
   "version": "3.10.9"
  }
 },
 "nbformat": 4,
 "nbformat_minor": 5
}
